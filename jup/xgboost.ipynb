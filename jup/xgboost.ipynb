{
 "cells": [
  {
   "cell_type": "code",
   "execution_count": 24,
   "metadata": {},
   "outputs": [],
   "source": [
    "import numpy as np\n",
    "import pandas as pd\n",
    "import matplotlib.pyplot as plt\n",
    "\n",
    "import seaborn as sns\n",
    "from xgboost import XGBRegressor\n",
    "from xgboost import plot_importance\n",
    "\n",
    "from sklearn.preprocessing import LabelEncoder\n",
    "from itertools import product\n",
    "\n",
    "\n",
    "import time"
   ]
  },
  {
   "cell_type": "code",
   "execution_count": 25,
   "metadata": {},
   "outputs": [],
   "source": [
    "test = pd.read_csv('../data/test.csv', index_col=0)\n",
    "submit = pd.read_csv('../data/sample_submission.csv')\n",
    "data = pd.read_pickle('data.pkl')\n"
   ]
  },
  {
   "cell_type": "code",
   "execution_count": 26,
   "metadata": {},
   "outputs": [
    {
     "data": {
      "text/plain": [
       "Index(['month_idx', 'shop_id', 'item_id', 'item_cnt_month', 'cat_id',\n",
       "       'type_code', 'item_cnt_month_lag_1', 'item_cnt_month_lag_2',\n",
       "       'item_cnt_month_lag_3', 'item_cnt_month_lag_6', 'item_cnt_month_lag_12',\n",
       "       'delta_price_lag', 'delta_revenue_lag_1', 'month', 'days',\n",
       "       'item_last_sale', 'item_shop_first_sale', 'item_first_sale'],\n",
       "      dtype='object')"
      ]
     },
     "execution_count": 26,
     "metadata": {},
     "output_type": "execute_result"
    }
   ],
   "source": [
    "data.columns"
   ]
  },
  {
   "cell_type": "code",
   "execution_count": 27,
   "metadata": {},
   "outputs": [],
   "source": [
    "data = data[[\n",
    "'month_idx', 'shop_id', 'item_id', 'item_cnt_month', 'cat_id',\n",
    "       'type_code', 'item_cnt_month_lag_1', 'item_cnt_month_lag_2',\n",
    "       'item_cnt_month_lag_3', 'item_cnt_month_lag_6', 'item_cnt_month_lag_12',\n",
    "       'delta_price_lag', 'delta_revenue_lag_1', 'month', 'days',\n",
    "       'item_last_sale', 'item_shop_first_sale', 'item_first_sale'\n",
    "]]\n"
   ]
  },
  {
   "cell_type": "code",
   "execution_count": 28,
   "metadata": {},
   "outputs": [
    {
     "data": {
      "text/plain": [
       "array([ 0,  1,  2,  3,  4,  5,  6,  7,  8,  9, 10, 11, 12, 13, 14, 15, 16,\n",
       "       17, 18, 19, 20, 21, 23], dtype=int8)"
      ]
     },
     "execution_count": 28,
     "metadata": {},
     "output_type": "execute_result"
    }
   ],
   "source": [
    "data.month_idx.unique()"
   ]
  },
  {
   "cell_type": "code",
   "execution_count": 29,
   "metadata": {},
   "outputs": [],
   "source": [
    "X_train = data[data.month_idx < 21].drop(['item_cnt_month'], axis=1)\n",
    "y_train = data[data.month_idx < 21]['item_cnt_month']\n",
    "X_valid = data[data.month_idx == 21].drop(['item_cnt_month'], axis=1)\n",
    "y_valid  = data[data.month_idx == 21]['item_cnt_month']\n",
    "X_test = data[data.month_idx ==23].drop(['item_cnt_month'], axis=1)\n"
   ]
  },
  {
   "cell_type": "code",
   "execution_count": 30,
   "metadata": {},
   "outputs": [],
   "source": [
    "del data"
   ]
  },
  {
   "cell_type": "code",
   "execution_count": 31,
   "metadata": {},
   "outputs": [],
   "source": [
    "import gc\n"
   ]
  },
  {
   "cell_type": "code",
   "execution_count": 32,
   "metadata": {},
   "outputs": [
    {
     "data": {
      "text/plain": [
       "100"
      ]
     },
     "execution_count": 32,
     "metadata": {},
     "output_type": "execute_result"
    }
   ],
   "source": [
    "gc.collect()"
   ]
  },
  {
   "cell_type": "code",
   "execution_count": 33,
   "metadata": {},
   "outputs": [
    {
     "name": "stdout",
     "output_type": "stream",
     "text": [
      "[0]\tvalidation_0-rmse:2.77450\tvalidation_1-rmse:3.13861\n",
      "Multiple eval metrics have been passed: 'validation_1-rmse' will be used for early stopping.\n",
      "\n",
      "Will train until validation_1-rmse hasn't improved in 10 rounds.\n",
      "[1]\tvalidation_0-rmse:2.66730\tvalidation_1-rmse:3.04196\n",
      "[2]\tvalidation_0-rmse:2.53330\tvalidation_1-rmse:2.93133\n",
      "[3]\tvalidation_0-rmse:2.46084\tvalidation_1-rmse:2.87352\n",
      "[4]\tvalidation_0-rmse:2.42302\tvalidation_1-rmse:2.83753\n",
      "[5]\tvalidation_0-rmse:2.40320\tvalidation_1-rmse:2.81914\n",
      "[6]\tvalidation_0-rmse:2.38465\tvalidation_1-rmse:2.80003\n",
      "[7]\tvalidation_0-rmse:2.37176\tvalidation_1-rmse:2.78187\n",
      "[8]\tvalidation_0-rmse:2.36162\tvalidation_1-rmse:2.76613\n",
      "[9]\tvalidation_0-rmse:2.35030\tvalidation_1-rmse:2.75477\n",
      "[10]\tvalidation_0-rmse:2.33258\tvalidation_1-rmse:2.75481\n",
      "[11]\tvalidation_0-rmse:2.32749\tvalidation_1-rmse:2.74826\n",
      "[12]\tvalidation_0-rmse:2.32450\tvalidation_1-rmse:2.74908\n",
      "[13]\tvalidation_0-rmse:2.32138\tvalidation_1-rmse:2.74831\n",
      "[14]\tvalidation_0-rmse:2.31879\tvalidation_1-rmse:2.74199\n",
      "[15]\tvalidation_0-rmse:2.30990\tvalidation_1-rmse:2.74526\n",
      "[16]\tvalidation_0-rmse:2.30742\tvalidation_1-rmse:2.74315\n",
      "[17]\tvalidation_0-rmse:2.30530\tvalidation_1-rmse:2.74475\n",
      "[18]\tvalidation_0-rmse:2.30397\tvalidation_1-rmse:2.74176\n",
      "[19]\tvalidation_0-rmse:2.30154\tvalidation_1-rmse:2.74144\n",
      "[20]\tvalidation_0-rmse:2.30103\tvalidation_1-rmse:2.74161\n",
      "[21]\tvalidation_0-rmse:2.29980\tvalidation_1-rmse:2.74083\n",
      "[22]\tvalidation_0-rmse:2.29650\tvalidation_1-rmse:2.74984\n",
      "[23]\tvalidation_0-rmse:2.29526\tvalidation_1-rmse:2.74929\n",
      "[24]\tvalidation_0-rmse:2.29397\tvalidation_1-rmse:2.75288\n",
      "[25]\tvalidation_0-rmse:2.29333\tvalidation_1-rmse:2.75380\n",
      "[26]\tvalidation_0-rmse:2.29150\tvalidation_1-rmse:2.75469\n",
      "[27]\tvalidation_0-rmse:2.29081\tvalidation_1-rmse:2.75327\n",
      "[28]\tvalidation_0-rmse:2.28814\tvalidation_1-rmse:2.75271\n",
      "[29]\tvalidation_0-rmse:2.28675\tvalidation_1-rmse:2.75263\n",
      "[30]\tvalidation_0-rmse:2.28599\tvalidation_1-rmse:2.75341\n",
      "[31]\tvalidation_0-rmse:2.27885\tvalidation_1-rmse:2.75255\n",
      "Stopping. Best iteration:\n",
      "[21]\tvalidation_0-rmse:2.29980\tvalidation_1-rmse:2.74083\n",
      "\n"
     ]
    },
    {
     "data": {
      "text/plain": [
       "41.1632342338562"
      ]
     },
     "execution_count": 33,
     "metadata": {},
     "output_type": "execute_result"
    }
   ],
   "source": [
    "\n",
    "ts = time.time()\n",
    "\n",
    "model = XGBRegressor(\n",
    "    max_depth=8,\n",
    "    n_estimators = 1000,\n",
    "    min_child_weight = 300,\n",
    "    colsample_bytree=0.8,\n",
    "    eta=0.3,\n",
    "    seed=42\n",
    ")\n",
    "\n",
    "model.fit(X_train, y_train,eval_metric=\"rmse\", eval_set=[(X_train, y_train),(X_valid, y_valid)],\n",
    "    verbose=True,\n",
    "    early_stopping_rounds=10)\n",
    "\n",
    "time.time() - ts\n"
   ]
  },
  {
   "cell_type": "code",
   "execution_count": 34,
   "metadata": {},
   "outputs": [],
   "source": [
    "y_pred = model.predict(X_valid)\n",
    "y_test = model.predict(X_test)\n",
    "\n",
    "submission = pd.DataFrame({\n",
    "    \"ID\": test.index,\n",
    "    \"item_cnt_month\": y_test\n",
    "})\n",
    "\n",
    "submission.to_csv('xgb_submission.csv', index=False )\n"
   ]
  },
  {
   "cell_type": "code",
   "execution_count": 17,
   "metadata": {},
   "outputs": [
    {
     "data": {
      "text/html": [
       "<div>\n",
       "<style scoped>\n",
       "    .dataframe tbody tr th:only-of-type {\n",
       "        vertical-align: middle;\n",
       "    }\n",
       "\n",
       "    .dataframe tbody tr th {\n",
       "        vertical-align: top;\n",
       "    }\n",
       "\n",
       "    .dataframe thead th {\n",
       "        text-align: right;\n",
       "    }\n",
       "</style>\n",
       "<table border=\"1\" class=\"dataframe\">\n",
       "  <thead>\n",
       "    <tr style=\"text-align: right;\">\n",
       "      <th></th>\n",
       "      <th>0</th>\n",
       "      <th>100</th>\n",
       "    </tr>\n",
       "  </thead>\n",
       "  <tbody>\n",
       "    <tr>\n",
       "      <th>0</th>\n",
       "      <td>1</td>\n",
       "      <td>100</td>\n",
       "    </tr>\n",
       "    <tr>\n",
       "      <th>1</th>\n",
       "      <td>2</td>\n",
       "      <td>100</td>\n",
       "    </tr>\n",
       "    <tr>\n",
       "      <th>2</th>\n",
       "      <td>3</td>\n",
       "      <td>100</td>\n",
       "    </tr>\n",
       "    <tr>\n",
       "      <th>3</th>\n",
       "      <td>4</td>\n",
       "      <td>100</td>\n",
       "    </tr>\n",
       "    <tr>\n",
       "      <th>4</th>\n",
       "      <td>5</td>\n",
       "      <td>100</td>\n",
       "    </tr>\n",
       "    <tr>\n",
       "      <th>...</th>\n",
       "      <td>...</td>\n",
       "      <td>...</td>\n",
       "    </tr>\n",
       "    <tr>\n",
       "      <th>3054</th>\n",
       "      <td>3055</td>\n",
       "      <td>100</td>\n",
       "    </tr>\n",
       "    <tr>\n",
       "      <th>3055</th>\n",
       "      <td>3056</td>\n",
       "      <td>100</td>\n",
       "    </tr>\n",
       "    <tr>\n",
       "      <th>3056</th>\n",
       "      <td>3057</td>\n",
       "      <td>100</td>\n",
       "    </tr>\n",
       "    <tr>\n",
       "      <th>3057</th>\n",
       "      <td>3058</td>\n",
       "      <td>100</td>\n",
       "    </tr>\n",
       "    <tr>\n",
       "      <th>3058</th>\n",
       "      <td>3059</td>\n",
       "      <td>100</td>\n",
       "    </tr>\n",
       "  </tbody>\n",
       "</table>\n",
       "<p>3059 rows × 2 columns</p>\n",
       "</div>"
      ],
      "text/plain": [
       "         0  100\n",
       "0        1  100\n",
       "1        2  100\n",
       "2        3  100\n",
       "3        4  100\n",
       "4        5  100\n",
       "...    ...  ...\n",
       "3054  3055  100\n",
       "3055  3056  100\n",
       "3056  3057  100\n",
       "3057  3058  100\n",
       "3058  3059  100\n",
       "\n",
       "[3059 rows x 2 columns]"
      ]
     },
     "execution_count": 17,
     "metadata": {},
     "output_type": "execute_result"
    }
   ],
   "source": [
    "submit"
   ]
  },
  {
   "cell_type": "code",
   "execution_count": 16,
   "metadata": {},
   "outputs": [
    {
     "data": {
      "text/html": [
       "<div>\n",
       "<style scoped>\n",
       "    .dataframe tbody tr th:only-of-type {\n",
       "        vertical-align: middle;\n",
       "    }\n",
       "\n",
       "    .dataframe tbody tr th {\n",
       "        vertical-align: top;\n",
       "    }\n",
       "\n",
       "    .dataframe thead th {\n",
       "        text-align: right;\n",
       "    }\n",
       "</style>\n",
       "<table border=\"1\" class=\"dataframe\">\n",
       "  <thead>\n",
       "    <tr style=\"text-align: right;\">\n",
       "      <th></th>\n",
       "      <th>ID</th>\n",
       "      <th>item_cnt_month</th>\n",
       "    </tr>\n",
       "  </thead>\n",
       "  <tbody>\n",
       "    <tr>\n",
       "      <th>0</th>\n",
       "      <td>0</td>\n",
       "      <td>0.360681</td>\n",
       "    </tr>\n",
       "    <tr>\n",
       "      <th>1</th>\n",
       "      <td>1</td>\n",
       "      <td>0.000000</td>\n",
       "    </tr>\n",
       "    <tr>\n",
       "      <th>2</th>\n",
       "      <td>2</td>\n",
       "      <td>0.383577</td>\n",
       "    </tr>\n",
       "    <tr>\n",
       "      <th>3</th>\n",
       "      <td>3</td>\n",
       "      <td>1.242619</td>\n",
       "    </tr>\n",
       "    <tr>\n",
       "      <th>4</th>\n",
       "      <td>4</td>\n",
       "      <td>2.760417</td>\n",
       "    </tr>\n",
       "    <tr>\n",
       "      <th>...</th>\n",
       "      <td>...</td>\n",
       "      <td>...</td>\n",
       "    </tr>\n",
       "    <tr>\n",
       "      <th>3055</th>\n",
       "      <td>3055</td>\n",
       "      <td>0.765410</td>\n",
       "    </tr>\n",
       "    <tr>\n",
       "      <th>3056</th>\n",
       "      <td>3056</td>\n",
       "      <td>0.000894</td>\n",
       "    </tr>\n",
       "    <tr>\n",
       "      <th>3057</th>\n",
       "      <td>3057</td>\n",
       "      <td>0.000894</td>\n",
       "    </tr>\n",
       "    <tr>\n",
       "      <th>3058</th>\n",
       "      <td>3058</td>\n",
       "      <td>0.000894</td>\n",
       "    </tr>\n",
       "    <tr>\n",
       "      <th>3059</th>\n",
       "      <td>3059</td>\n",
       "      <td>0.016139</td>\n",
       "    </tr>\n",
       "  </tbody>\n",
       "</table>\n",
       "<p>3060 rows × 2 columns</p>\n",
       "</div>"
      ],
      "text/plain": [
       "        ID  item_cnt_month\n",
       "0        0        0.360681\n",
       "1        1        0.000000\n",
       "2        2        0.383577\n",
       "3        3        1.242619\n",
       "4        4        2.760417\n",
       "...    ...             ...\n",
       "3055  3055        0.765410\n",
       "3056  3056        0.000894\n",
       "3057  3057        0.000894\n",
       "3058  3058        0.000894\n",
       "3059  3059        0.016139\n",
       "\n",
       "[3060 rows x 2 columns]"
      ]
     },
     "execution_count": 16,
     "metadata": {},
     "output_type": "execute_result"
    }
   ],
   "source": [
    "submission"
   ]
  },
  {
   "cell_type": "code",
   "execution_count": null,
   "metadata": {},
   "outputs": [],
   "source": []
  }
 ],
 "metadata": {
  "kernelspec": {
   "display_name": "Python 3",
   "language": "python",
   "name": "python3"
  },
  "language_info": {
   "codemirror_mode": {
    "name": "ipython",
    "version": 3
   },
   "file_extension": ".py",
   "mimetype": "text/x-python",
   "name": "python",
   "nbconvert_exporter": "python",
   "pygments_lexer": "ipython3",
   "version": "3.8.5"
  }
 },
 "nbformat": 4,
 "nbformat_minor": 4
}
