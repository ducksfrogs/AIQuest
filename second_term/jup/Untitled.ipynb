{
 "cells": [
  {
   "cell_type": "code",
   "execution_count": 23,
   "metadata": {},
   "outputs": [],
   "source": [
    "import numpy as np\n",
    "import pandas as pd\n",
    "import matplotlib.pyplot as plt\n",
    "\n",
    "from sklearn.datasets import load_breast_cancer\n",
    "from sklearn.model_selection import train_test_split\n"
   ]
  },
  {
   "cell_type": "code",
   "execution_count": 24,
   "metadata": {},
   "outputs": [],
   "source": [
    "data = load_breast_cancer()\n",
    "\n",
    "X = data.data\n",
    "y = data.target\n"
   ]
  },
  {
   "cell_type": "code",
   "execution_count": 25,
   "metadata": {},
   "outputs": [
    {
     "data": {
      "text/plain": [
       "array(['mean radius', 'mean texture', 'mean perimeter', 'mean area',\n",
       "       'mean smoothness', 'mean compactness', 'mean concavity',\n",
       "       'mean concave points', 'mean symmetry', 'mean fractal dimension',\n",
       "       'radius error', 'texture error', 'perimeter error', 'area error',\n",
       "       'smoothness error', 'compactness error', 'concavity error',\n",
       "       'concave points error', 'symmetry error',\n",
       "       'fractal dimension error', 'worst radius', 'worst texture',\n",
       "       'worst perimeter', 'worst area', 'worst smoothness',\n",
       "       'worst compactness', 'worst concavity', 'worst concave points',\n",
       "       'worst symmetry', 'worst fractal dimension'], dtype='<U23')"
      ]
     },
     "execution_count": 25,
     "metadata": {},
     "output_type": "execute_result"
    }
   ],
   "source": [
    "data.feature_names"
   ]
  },
  {
   "cell_type": "code",
   "execution_count": 26,
   "metadata": {},
   "outputs": [],
   "source": [
    "X = pd.DataFrame(X, columns=data.feature_names)"
   ]
  },
  {
   "cell_type": "code",
   "execution_count": 27,
   "metadata": {},
   "outputs": [
    {
     "data": {
      "text/html": [
       "<div>\n",
       "<style scoped>\n",
       "    .dataframe tbody tr th:only-of-type {\n",
       "        vertical-align: middle;\n",
       "    }\n",
       "\n",
       "    .dataframe tbody tr th {\n",
       "        vertical-align: top;\n",
       "    }\n",
       "\n",
       "    .dataframe thead th {\n",
       "        text-align: right;\n",
       "    }\n",
       "</style>\n",
       "<table border=\"1\" class=\"dataframe\">\n",
       "  <thead>\n",
       "    <tr style=\"text-align: right;\">\n",
       "      <th></th>\n",
       "      <th>mean radius</th>\n",
       "      <th>mean texture</th>\n",
       "      <th>mean perimeter</th>\n",
       "      <th>mean area</th>\n",
       "      <th>mean smoothness</th>\n",
       "      <th>mean compactness</th>\n",
       "      <th>mean concavity</th>\n",
       "      <th>mean concave points</th>\n",
       "      <th>mean symmetry</th>\n",
       "      <th>mean fractal dimension</th>\n",
       "      <th>...</th>\n",
       "      <th>worst radius</th>\n",
       "      <th>worst texture</th>\n",
       "      <th>worst perimeter</th>\n",
       "      <th>worst area</th>\n",
       "      <th>worst smoothness</th>\n",
       "      <th>worst compactness</th>\n",
       "      <th>worst concavity</th>\n",
       "      <th>worst concave points</th>\n",
       "      <th>worst symmetry</th>\n",
       "      <th>worst fractal dimension</th>\n",
       "    </tr>\n",
       "  </thead>\n",
       "  <tbody>\n",
       "    <tr>\n",
       "      <th>0</th>\n",
       "      <td>17.99</td>\n",
       "      <td>10.38</td>\n",
       "      <td>122.80</td>\n",
       "      <td>1001.0</td>\n",
       "      <td>0.11840</td>\n",
       "      <td>0.27760</td>\n",
       "      <td>0.3001</td>\n",
       "      <td>0.14710</td>\n",
       "      <td>0.2419</td>\n",
       "      <td>0.07871</td>\n",
       "      <td>...</td>\n",
       "      <td>25.38</td>\n",
       "      <td>17.33</td>\n",
       "      <td>184.60</td>\n",
       "      <td>2019.0</td>\n",
       "      <td>0.1622</td>\n",
       "      <td>0.6656</td>\n",
       "      <td>0.7119</td>\n",
       "      <td>0.2654</td>\n",
       "      <td>0.4601</td>\n",
       "      <td>0.11890</td>\n",
       "    </tr>\n",
       "    <tr>\n",
       "      <th>1</th>\n",
       "      <td>20.57</td>\n",
       "      <td>17.77</td>\n",
       "      <td>132.90</td>\n",
       "      <td>1326.0</td>\n",
       "      <td>0.08474</td>\n",
       "      <td>0.07864</td>\n",
       "      <td>0.0869</td>\n",
       "      <td>0.07017</td>\n",
       "      <td>0.1812</td>\n",
       "      <td>0.05667</td>\n",
       "      <td>...</td>\n",
       "      <td>24.99</td>\n",
       "      <td>23.41</td>\n",
       "      <td>158.80</td>\n",
       "      <td>1956.0</td>\n",
       "      <td>0.1238</td>\n",
       "      <td>0.1866</td>\n",
       "      <td>0.2416</td>\n",
       "      <td>0.1860</td>\n",
       "      <td>0.2750</td>\n",
       "      <td>0.08902</td>\n",
       "    </tr>\n",
       "    <tr>\n",
       "      <th>2</th>\n",
       "      <td>19.69</td>\n",
       "      <td>21.25</td>\n",
       "      <td>130.00</td>\n",
       "      <td>1203.0</td>\n",
       "      <td>0.10960</td>\n",
       "      <td>0.15990</td>\n",
       "      <td>0.1974</td>\n",
       "      <td>0.12790</td>\n",
       "      <td>0.2069</td>\n",
       "      <td>0.05999</td>\n",
       "      <td>...</td>\n",
       "      <td>23.57</td>\n",
       "      <td>25.53</td>\n",
       "      <td>152.50</td>\n",
       "      <td>1709.0</td>\n",
       "      <td>0.1444</td>\n",
       "      <td>0.4245</td>\n",
       "      <td>0.4504</td>\n",
       "      <td>0.2430</td>\n",
       "      <td>0.3613</td>\n",
       "      <td>0.08758</td>\n",
       "    </tr>\n",
       "    <tr>\n",
       "      <th>3</th>\n",
       "      <td>11.42</td>\n",
       "      <td>20.38</td>\n",
       "      <td>77.58</td>\n",
       "      <td>386.1</td>\n",
       "      <td>0.14250</td>\n",
       "      <td>0.28390</td>\n",
       "      <td>0.2414</td>\n",
       "      <td>0.10520</td>\n",
       "      <td>0.2597</td>\n",
       "      <td>0.09744</td>\n",
       "      <td>...</td>\n",
       "      <td>14.91</td>\n",
       "      <td>26.50</td>\n",
       "      <td>98.87</td>\n",
       "      <td>567.7</td>\n",
       "      <td>0.2098</td>\n",
       "      <td>0.8663</td>\n",
       "      <td>0.6869</td>\n",
       "      <td>0.2575</td>\n",
       "      <td>0.6638</td>\n",
       "      <td>0.17300</td>\n",
       "    </tr>\n",
       "    <tr>\n",
       "      <th>4</th>\n",
       "      <td>20.29</td>\n",
       "      <td>14.34</td>\n",
       "      <td>135.10</td>\n",
       "      <td>1297.0</td>\n",
       "      <td>0.10030</td>\n",
       "      <td>0.13280</td>\n",
       "      <td>0.1980</td>\n",
       "      <td>0.10430</td>\n",
       "      <td>0.1809</td>\n",
       "      <td>0.05883</td>\n",
       "      <td>...</td>\n",
       "      <td>22.54</td>\n",
       "      <td>16.67</td>\n",
       "      <td>152.20</td>\n",
       "      <td>1575.0</td>\n",
       "      <td>0.1374</td>\n",
       "      <td>0.2050</td>\n",
       "      <td>0.4000</td>\n",
       "      <td>0.1625</td>\n",
       "      <td>0.2364</td>\n",
       "      <td>0.07678</td>\n",
       "    </tr>\n",
       "  </tbody>\n",
       "</table>\n",
       "<p>5 rows × 30 columns</p>\n",
       "</div>"
      ],
      "text/plain": [
       "   mean radius  mean texture  mean perimeter  mean area  mean smoothness  \\\n",
       "0        17.99         10.38          122.80     1001.0          0.11840   \n",
       "1        20.57         17.77          132.90     1326.0          0.08474   \n",
       "2        19.69         21.25          130.00     1203.0          0.10960   \n",
       "3        11.42         20.38           77.58      386.1          0.14250   \n",
       "4        20.29         14.34          135.10     1297.0          0.10030   \n",
       "\n",
       "   mean compactness  mean concavity  mean concave points  mean symmetry  \\\n",
       "0           0.27760          0.3001              0.14710         0.2419   \n",
       "1           0.07864          0.0869              0.07017         0.1812   \n",
       "2           0.15990          0.1974              0.12790         0.2069   \n",
       "3           0.28390          0.2414              0.10520         0.2597   \n",
       "4           0.13280          0.1980              0.10430         0.1809   \n",
       "\n",
       "   mean fractal dimension  ...  worst radius  worst texture  worst perimeter  \\\n",
       "0                 0.07871  ...         25.38          17.33           184.60   \n",
       "1                 0.05667  ...         24.99          23.41           158.80   \n",
       "2                 0.05999  ...         23.57          25.53           152.50   \n",
       "3                 0.09744  ...         14.91          26.50            98.87   \n",
       "4                 0.05883  ...         22.54          16.67           152.20   \n",
       "\n",
       "   worst area  worst smoothness  worst compactness  worst concavity  \\\n",
       "0      2019.0            0.1622             0.6656           0.7119   \n",
       "1      1956.0            0.1238             0.1866           0.2416   \n",
       "2      1709.0            0.1444             0.4245           0.4504   \n",
       "3       567.7            0.2098             0.8663           0.6869   \n",
       "4      1575.0            0.1374             0.2050           0.4000   \n",
       "\n",
       "   worst concave points  worst symmetry  worst fractal dimension  \n",
       "0                0.2654          0.4601                  0.11890  \n",
       "1                0.1860          0.2750                  0.08902  \n",
       "2                0.2430          0.3613                  0.08758  \n",
       "3                0.2575          0.6638                  0.17300  \n",
       "4                0.1625          0.2364                  0.07678  \n",
       "\n",
       "[5 rows x 30 columns]"
      ]
     },
     "execution_count": 27,
     "metadata": {},
     "output_type": "execute_result"
    }
   ],
   "source": [
    "X.head()"
   ]
  },
  {
   "cell_type": "code",
   "execution_count": 28,
   "metadata": {},
   "outputs": [],
   "source": [
    "X_train, X_test, y_train, y_test = train_test_split(X, y, random_state=42, test_size=0.2)\n"
   ]
  },
  {
   "cell_type": "code",
   "execution_count": 29,
   "metadata": {},
   "outputs": [
    {
     "data": {
      "text/plain": [
       "(455, 30)"
      ]
     },
     "execution_count": 29,
     "metadata": {},
     "output_type": "execute_result"
    }
   ],
   "source": [
    "X_train.shape"
   ]
  },
  {
   "cell_type": "code",
   "execution_count": 30,
   "metadata": {},
   "outputs": [
    {
     "data": {
      "text/plain": [
       "(569, 30)"
      ]
     },
     "execution_count": 30,
     "metadata": {},
     "output_type": "execute_result"
    }
   ],
   "source": [
    "X.shape"
   ]
  },
  {
   "cell_type": "code",
   "execution_count": 31,
   "metadata": {},
   "outputs": [],
   "source": [
    "from sklearn.preprocessing import MinMaxScaler\n",
    "\n",
    "scaler = MinMaxScaler()\n",
    "scaler.fit(X_train)\n",
    "X_train = scaler.transform(X_train)\n",
    "X_test = scaler.transform(X_test)\n"
   ]
  },
  {
   "cell_type": "code",
   "execution_count": 38,
   "metadata": {},
   "outputs": [],
   "source": [
    "from sklearn.linear_model import LogisticRegression\n",
    "clf = LogisticRegression(max_iter=10000)\n"
   ]
  },
  {
   "cell_type": "code",
   "execution_count": 39,
   "metadata": {},
   "outputs": [
    {
     "data": {
      "text/plain": [
       "LogisticRegression(max_iter=10000)"
      ]
     },
     "execution_count": 39,
     "metadata": {},
     "output_type": "execute_result"
    }
   ],
   "source": [
    "clf.fit(X_train, y_train)"
   ]
  },
  {
   "cell_type": "code",
   "execution_count": 40,
   "metadata": {},
   "outputs": [
    {
     "data": {
      "text/plain": [
       "0.9824561403508771"
      ]
     },
     "execution_count": 40,
     "metadata": {},
     "output_type": "execute_result"
    }
   ],
   "source": [
    "clf.score(X_test, y_test)"
   ]
  },
  {
   "cell_type": "code",
   "execution_count": 41,
   "metadata": {},
   "outputs": [],
   "source": [
    "C_range_exp = np.arange(-15.0, 21.0)\n",
    "C_range = 10 ** C_range_exp\n"
   ]
  },
  {
   "cell_type": "code",
   "execution_count": 42,
   "metadata": {},
   "outputs": [
    {
     "data": {
      "text/plain": [
       "array([1.e-15, 1.e-14, 1.e-13, 1.e-12, 1.e-11, 1.e-10, 1.e-09, 1.e-08,\n",
       "       1.e-07, 1.e-06, 1.e-05, 1.e-04, 1.e-03, 1.e-02, 1.e-01, 1.e+00,\n",
       "       1.e+01, 1.e+02, 1.e+03, 1.e+04, 1.e+05, 1.e+06, 1.e+07, 1.e+08,\n",
       "       1.e+09, 1.e+10, 1.e+11, 1.e+12, 1.e+13, 1.e+14, 1.e+15, 1.e+16,\n",
       "       1.e+17, 1.e+18, 1.e+19, 1.e+20])"
      ]
     },
     "execution_count": 42,
     "metadata": {},
     "output_type": "execute_result"
    }
   ],
   "source": [
    "C_range"
   ]
  },
  {
   "cell_type": "code",
   "execution_count": 43,
   "metadata": {},
   "outputs": [
    {
     "data": {
      "text/plain": [
       "GridSearchCV(estimator=LogisticRegression(max_iter=10000),\n",
       "             param_grid={'C': array([1.e-15, 1.e-14, 1.e-13, 1.e-12, 1.e-11, 1.e-10, 1.e-09, 1.e-08,\n",
       "       1.e-07, 1.e-06, 1.e-05, 1.e-04, 1.e-03, 1.e-02, 1.e-01, 1.e+00,\n",
       "       1.e+01, 1.e+02, 1.e+03, 1.e+04, 1.e+05, 1.e+06, 1.e+07, 1.e+08,\n",
       "       1.e+09, 1.e+10, 1.e+11, 1.e+12, 1.e+13, 1.e+14, 1.e+15, 1.e+16,\n",
       "       1.e+17, 1.e+18, 1.e+19, 1.e+20])})"
      ]
     },
     "execution_count": 43,
     "metadata": {},
     "output_type": "execute_result"
    }
   ],
   "source": [
    "from sklearn.model_selection import GridSearchCV\n",
    "param = {'C' : C_range}\n",
    "gs = GridSearchCV(clf, param)\n",
    "gs.fit(X_train, y_train)\n"
   ]
  },
  {
   "cell_type": "code",
   "execution_count": 46,
   "metadata": {},
   "outputs": [
    {
     "data": {
      "text/plain": [
       "LogisticRegression(C=10.0, max_iter=10000)"
      ]
     },
     "execution_count": 46,
     "metadata": {},
     "output_type": "execute_result"
    }
   ],
   "source": [
    "gs.best_estimator_"
   ]
  },
  {
   "cell_type": "code",
   "execution_count": 48,
   "metadata": {},
   "outputs": [
    {
     "data": {
      "text/plain": [
       "array([-15., -14., -13., -12., -11., -10.,  -9.,  -8.,  -7.,  -6.,  -5.,\n",
       "        -4.,  -3.,  -2.,  -1.,   0.,   1.,   2.,   3.,   4.,   5.,   6.,\n",
       "         7.,   8.,   9.,  10.,  11.,  12.,  13.,  14.,  15.,  16.,  17.,\n",
       "        18.,  19.,  20.])"
      ]
     },
     "execution_count": 48,
     "metadata": {},
     "output_type": "execute_result"
    }
   ],
   "source": [
    "C_range_exp"
   ]
  },
  {
   "cell_type": "code",
   "execution_count": 49,
   "metadata": {},
   "outputs": [
    {
     "data": {
      "text/plain": [
       "{'mean_fit_time': array([0.00199432, 0.00190101, 0.00150557, 0.00149803, 0.00162902,\n",
       "        0.00147185, 0.00527043, 0.00517159, 0.00452318, 0.00426102,\n",
       "        0.00354276, 0.00321579, 0.00283813, 0.00277014, 0.00334926,\n",
       "        0.00580626, 0.00984039, 0.02029414, 0.04329362, 0.0812254 ,\n",
       "        0.11926284, 0.12854905, 0.08469038, 0.04505644, 0.02508941,\n",
       "        0.01928477, 0.01896915, 0.01940403, 0.0193265 , 0.01825638,\n",
       "        0.01627889, 0.01651731, 0.01618714, 0.01622086, 0.01663871,\n",
       "        0.01633167]),\n",
       " 'std_fit_time': array([2.20377111e-04, 1.90611060e-04, 6.49719981e-05, 6.64010767e-05,\n",
       "        1.29957294e-04, 8.16605874e-05, 7.76362650e-05, 3.90654976e-04,\n",
       "        1.27896455e-04, 2.06800818e-04, 1.34818706e-04, 6.27206737e-05,\n",
       "        1.55482625e-04, 9.62308187e-05, 8.19895668e-05, 5.32048640e-04,\n",
       "        1.46595681e-03, 2.67235570e-03, 3.23570362e-03, 2.33914111e-02,\n",
       "        5.05109578e-02, 6.21806621e-02, 4.48607296e-02, 2.40897785e-02,\n",
       "        9.93859725e-03, 6.62442117e-03, 6.37175098e-03, 6.78768342e-03,\n",
       "        6.81578573e-03, 6.33987491e-03, 5.46899158e-03, 5.82019560e-03,\n",
       "        5.36917788e-03, 5.26540270e-03, 5.84725924e-03, 5.48480708e-03]),\n",
       " 'mean_score_time': array([0.00037804, 0.0003613 , 0.00029697, 0.00025816, 0.00029278,\n",
       "        0.00028982, 0.00029707, 0.0003294 , 0.00031729, 0.00027657,\n",
       "        0.00026073, 0.00025983, 0.00025892, 0.00025229, 0.00025115,\n",
       "        0.00025024, 0.00027437, 0.00025482, 0.0002985 , 0.00026765,\n",
       "        0.00026979, 0.00034442, 0.00027323, 0.00028543, 0.00028677,\n",
       "        0.00030117, 0.00029054, 0.00028958, 0.00028806, 0.0002851 ,\n",
       "        0.00026231, 0.0002717 , 0.00025101, 0.00025363, 0.00026197,\n",
       "        0.00026336]),\n",
       " 'std_score_time': array([1.07342389e-05, 1.35085535e-05, 2.25481968e-05, 1.41190508e-05,\n",
       "        1.46008753e-05, 3.31799865e-05, 1.40993902e-05, 4.32059199e-05,\n",
       "        2.08822013e-05, 1.64076333e-05, 2.06209882e-05, 1.42815714e-05,\n",
       "        1.90669287e-05, 1.12390023e-05, 8.09303781e-06, 4.76980188e-06,\n",
       "        1.18063186e-05, 1.32569306e-05, 8.16958578e-05, 1.45287517e-05,\n",
       "        2.22057694e-05, 9.58885736e-05, 2.08296531e-05, 3.47186572e-05,\n",
       "        2.08063893e-05, 2.17180351e-05, 7.16938582e-06, 1.03250386e-05,\n",
       "        6.15544875e-06, 1.64811919e-05, 1.14742517e-05, 1.60486699e-05,\n",
       "        2.19241408e-06, 5.71687783e-06, 9.88491595e-06, 1.16465463e-05]),\n",
       " 'param_C': masked_array(data=[1e-15, 1e-14, 1e-13, 1e-12, 1e-11, 1e-10, 1e-09, 1e-08,\n",
       "                    1e-07, 1e-06, 1e-05, 0.0001, 0.001, 0.01, 0.1, 1.0,\n",
       "                    10.0, 100.0, 1000.0, 10000.0, 100000.0, 1000000.0,\n",
       "                    10000000.0, 100000000.0, 1000000000.0, 10000000000.0,\n",
       "                    100000000000.0, 1000000000000.0, 10000000000000.0,\n",
       "                    100000000000000.0, 1000000000000000.0, 1e+16, 1e+17,\n",
       "                    1e+18, 1e+19, 1e+20],\n",
       "              mask=[False, False, False, False, False, False, False, False,\n",
       "                    False, False, False, False, False, False, False, False,\n",
       "                    False, False, False, False, False, False, False, False,\n",
       "                    False, False, False, False, False, False, False, False,\n",
       "                    False, False, False, False],\n",
       "        fill_value='?',\n",
       "             dtype=object),\n",
       " 'params': [{'C': 1e-15},\n",
       "  {'C': 1e-14},\n",
       "  {'C': 1e-13},\n",
       "  {'C': 1e-12},\n",
       "  {'C': 1e-11},\n",
       "  {'C': 1e-10},\n",
       "  {'C': 1e-09},\n",
       "  {'C': 1e-08},\n",
       "  {'C': 1e-07},\n",
       "  {'C': 1e-06},\n",
       "  {'C': 1e-05},\n",
       "  {'C': 0.0001},\n",
       "  {'C': 0.001},\n",
       "  {'C': 0.01},\n",
       "  {'C': 0.1},\n",
       "  {'C': 1.0},\n",
       "  {'C': 10.0},\n",
       "  {'C': 100.0},\n",
       "  {'C': 1000.0},\n",
       "  {'C': 10000.0},\n",
       "  {'C': 100000.0},\n",
       "  {'C': 1000000.0},\n",
       "  {'C': 10000000.0},\n",
       "  {'C': 100000000.0},\n",
       "  {'C': 1000000000.0},\n",
       "  {'C': 10000000000.0},\n",
       "  {'C': 100000000000.0},\n",
       "  {'C': 1000000000000.0},\n",
       "  {'C': 10000000000000.0},\n",
       "  {'C': 100000000000000.0},\n",
       "  {'C': 1000000000000000.0},\n",
       "  {'C': 1e+16},\n",
       "  {'C': 1e+17},\n",
       "  {'C': 1e+18},\n",
       "  {'C': 1e+19},\n",
       "  {'C': 1e+20}],\n",
       " 'split0_test_score': array([0.65934066, 0.65934066, 0.65934066, 0.65934066, 0.65934066,\n",
       "        0.65934066, 0.63736264, 0.63736264, 0.63736264, 0.63736264,\n",
       "        0.63736264, 0.63736264, 0.63736264, 0.75824176, 0.92307692,\n",
       "        0.96703297, 0.98901099, 0.97802198, 0.97802198, 0.94505495,\n",
       "        0.94505495, 0.94505495, 0.95604396, 0.93406593, 0.93406593,\n",
       "        0.93406593, 0.93406593, 0.93406593, 0.93406593, 0.93406593,\n",
       "        0.93406593, 0.93406593, 0.93406593, 0.93406593, 0.93406593,\n",
       "        0.93406593]),\n",
       " 'split1_test_score': array([0.64835165, 0.64835165, 0.64835165, 0.64835165, 0.64835165,\n",
       "        0.64835165, 0.62637363, 0.62637363, 0.62637363, 0.62637363,\n",
       "        0.62637363, 0.62637363, 0.62637363, 0.71428571, 0.91208791,\n",
       "        0.95604396, 0.96703297, 0.97802198, 0.96703297, 0.94505495,\n",
       "        0.93406593, 0.93406593, 0.95604396, 0.94505495, 0.94505495,\n",
       "        0.94505495, 0.94505495, 0.94505495, 0.94505495, 0.94505495,\n",
       "        0.94505495, 0.94505495, 0.94505495, 0.94505495, 0.94505495,\n",
       "        0.94505495]),\n",
       " 'split2_test_score': array([0.64835165, 0.64835165, 0.64835165, 0.64835165, 0.64835165,\n",
       "        0.64835165, 0.62637363, 0.62637363, 0.62637363, 0.62637363,\n",
       "        0.62637363, 0.62637363, 0.62637363, 0.73626374, 0.95604396,\n",
       "        0.98901099, 0.97802198, 0.98901099, 1.        , 1.        ,\n",
       "        1.        , 1.        , 1.        , 0.98901099, 1.        ,\n",
       "        1.        , 0.98901099, 0.98901099, 0.98901099, 1.        ,\n",
       "        1.        , 1.        , 1.        , 1.        , 1.        ,\n",
       "        1.        ]),\n",
       " 'split3_test_score': array([0.62637363, 0.62637363, 0.62637363, 0.62637363, 0.62637363,\n",
       "        0.62637363, 0.62637363, 0.62637363, 0.62637363, 0.62637363,\n",
       "        0.62637363, 0.62637363, 0.62637363, 0.67032967, 0.93406593,\n",
       "        0.94505495, 0.97802198, 0.97802198, 0.97802198, 0.96703297,\n",
       "        0.95604396, 0.94505495, 0.95604396, 0.97802198, 0.96703297,\n",
       "        0.96703297, 0.96703297, 0.97802198, 0.96703297, 0.96703297,\n",
       "        0.97802198, 0.96703297, 0.96703297, 0.97802198, 0.97802198,\n",
       "        0.97802198]),\n",
       " 'split4_test_score': array([0.67032967, 0.67032967, 0.67032967, 0.67032967, 0.67032967,\n",
       "        0.67032967, 0.62637363, 0.62637363, 0.62637363, 0.62637363,\n",
       "        0.62637363, 0.62637363, 0.62637363, 0.71428571, 0.91208791,\n",
       "        0.94505495, 0.95604396, 0.93406593, 0.94505495, 0.94505495,\n",
       "        0.94505495, 0.94505495, 0.94505495, 0.93406593, 0.93406593,\n",
       "        0.93406593, 0.93406593, 0.93406593, 0.93406593, 0.93406593,\n",
       "        0.93406593, 0.93406593, 0.93406593, 0.93406593, 0.93406593,\n",
       "        0.93406593]),\n",
       " 'mean_test_score': array([0.65054945, 0.65054945, 0.65054945, 0.65054945, 0.65054945,\n",
       "        0.65054945, 0.62857143, 0.62857143, 0.62857143, 0.62857143,\n",
       "        0.62857143, 0.62857143, 0.62857143, 0.71868132, 0.92747253,\n",
       "        0.96043956, 0.97362637, 0.97142857, 0.97362637, 0.96043956,\n",
       "        0.95604396, 0.95384615, 0.96263736, 0.95604396, 0.95604396,\n",
       "        0.95604396, 0.95384615, 0.95604396, 0.95384615, 0.95604396,\n",
       "        0.95824176, 0.95604396, 0.95604396, 0.95824176, 0.95824176,\n",
       "        0.95824176]),\n",
       " 'std_test_score': array([0.01457857, 0.01457857, 0.01457857, 0.01457857, 0.01457857,\n",
       "        0.01457857, 0.0043956 , 0.0043956 , 0.0043956 , 0.0043956 ,\n",
       "        0.0043956 , 0.0043956 , 0.0043956 , 0.02915714, 0.01644685,\n",
       "        0.01644685, 0.01120664, 0.01916   , 0.01785503, 0.02153398,\n",
       "        0.02305074, 0.02346611, 0.01916   , 0.02305074, 0.0250588 ,\n",
       "        0.0250588 , 0.02130848, 0.02305074, 0.02130848, 0.0250588 ,\n",
       "        0.02637363, 0.0250588 , 0.0250588 , 0.02637363, 0.02637363,\n",
       "        0.02637363]),\n",
       " 'rank_test_score': array([24, 24, 24, 24, 24, 24, 30, 30, 30, 30, 30, 30, 30, 23, 22,  5,  1,\n",
       "         3,  1,  6, 11, 19,  4, 11, 11, 11, 19, 11, 19, 11,  7, 11, 11,  7,\n",
       "         7,  7], dtype=int32)}"
      ]
     },
     "execution_count": 49,
     "metadata": {},
     "output_type": "execute_result"
    }
   ],
   "source": [
    "gs.cv_results_"
   ]
  },
  {
   "cell_type": "code",
   "execution_count": 51,
   "metadata": {},
   "outputs": [
    {
     "data": {
      "text/plain": [
       "({'C': 10.0}, 0.9736263736263737, LogisticRegression(C=10.0, max_iter=10000))"
      ]
     },
     "execution_count": 51,
     "metadata": {},
     "output_type": "execute_result"
    }
   ],
   "source": [
    "gs.best_params_,gs.best_score_,gs.best_estimator_\n"
   ]
  },
  {
   "cell_type": "code",
   "execution_count": 52,
   "metadata": {},
   "outputs": [
    {
     "data": {
      "text/plain": [
       "LogisticRegression(C=10.0, max_iter=10000)"
      ]
     },
     "execution_count": 52,
     "metadata": {},
     "output_type": "execute_result"
    }
   ],
   "source": [
    "gs.best_estimator_"
   ]
  },
  {
   "cell_type": "code",
   "execution_count": 53,
   "metadata": {},
   "outputs": [
    {
     "data": {
      "text/plain": [
       "0.9736842105263158"
      ]
     },
     "execution_count": 53,
     "metadata": {},
     "output_type": "execute_result"
    }
   ],
   "source": [
    "gs.score(X_test, y_test)"
   ]
  },
  {
   "cell_type": "code",
   "execution_count": 55,
   "metadata": {},
   "outputs": [
    {
     "data": {
      "text/plain": [
       "0.9736842105263158"
      ]
     },
     "execution_count": 55,
     "metadata": {},
     "output_type": "execute_result"
    }
   ],
   "source": [
    "clf_best = gs.best_estimator_\n",
    "#clf_best.fit(X_train, y_train)\n",
    "clf_best.score(X_test, y_test)\n"
   ]
  },
  {
   "cell_type": "code",
   "execution_count": 58,
   "metadata": {},
   "outputs": [
    {
     "data": {
      "image/png": "[encoded data removed]",
      "text/plain": [
       "<Figure size 432x288 with 1 Axes>"
      ]
     },
     "metadata": {
      "needs_background": "light"
     },
     "output_type": "display_data"
    }
   ],
   "source": [
    "plt.errorbar(gs.cv_results_['param_C'].data,\n",
    "             gs.cv_results_['mean_test_score'],\n",
    "             yerr=gs.cv_results_['std_test_score'],\n",
    "             label='test(val)')\n",
    "plt.ylim(0.6, 1.01)\n",
    "plt.xscale('log')"
   ]
  },
  {
   "cell_type": "code",
   "execution_count": 59,
   "metadata": {},
   "outputs": [
    {
     "data": {
      "image/png": "[encoded data removed]",
      "text/plain": [
       "<Figure size 432x288 with 1 Axes>"
      ]
     },
     "metadata": {
      "needs_background": "light"
     },
     "output_type": "display_data"
    }
   ],
   "source": [
    "plt.errorbar(gs.cv_results_['param_C'].data,\n",
    "             gs.cv_results_['mean_fit_time'],\n",
    "             yerr=gs.cv_results_['std_fit_time'],label='train')\n",
    "\n",
    "plt.errorbar(gs.cv_results_['param_C'].data,\n",
    "             gs.cv_results_['mean_score_time'],\n",
    "             yerr=gs.cv_results_['std_score_time'],\n",
    "             label='test')\n",
    "\n",
    "plt.ylim(0,)\n",
    "plt.xscale('log')\n",
    "\n"
   ]
  },
  {
   "cell_type": "code",
   "execution_count": 64,
   "metadata": {},
   "outputs": [
    {
     "name": "stdout",
     "output_type": "stream",
     "text": [
      "Fitting 5 folds for each of 14 candidates, totalling 70 fits\n"
     ]
    },
    {
     "name": "stderr",
     "output_type": "stream",
     "text": [
      "[Parallel(n_jobs=-1)]: Using backend LokyBackend with 8 concurrent workers.\n",
      "[Parallel(n_jobs=-1)]: Done  25 tasks      | elapsed:    1.7s\n",
      "[Parallel(n_jobs=-1)]: Done  70 out of  70 | elapsed:    1.9s finished\n"
     ]
    },
    {
     "data": {
      "text/plain": [
       "GridSearchCV(estimator=SVC(), n_jobs=-1,\n",
       "             param_grid=({'C': array([1.e-02, 1.e-01, 1.e+00, 1.e+01, 1.e+02, 1.e+03, 1.e+04]),\n",
       "                          'kernel': ['linear', 'rbf']},),\n",
       "             verbose=2)"
      ]
     },
     "execution_count": 64,
     "metadata": {},
     "output_type": "execute_result"
    }
   ],
   "source": [
    "from sklearn.svm import SVC\n",
    "\n",
    "clf = SVC()\n",
    "\n",
    "C_range_exp = np.arange(-2.0, 5.0)\n",
    "C_range = 10 ** C_range_exp\n",
    "\n",
    "params = {'C': C_range, 'kernel': ['linear','rbf']},\n",
    "\n",
    "\n",
    "gs = GridSearchCV(clf, params, n_jobs=-1, verbose=2)\n",
    "gs.fit(X_train, y_train)\n"
   ]
  },
  {
   "cell_type": "code",
   "execution_count": 66,
   "metadata": {},
   "outputs": [
    {
     "data": {
      "text/plain": [
       "{'C': 1.0, 'kernel': 'rbf'}"
      ]
     },
     "execution_count": 66,
     "metadata": {},
     "output_type": "execute_result"
    }
   ],
   "source": [
    "gs.best_params_"
   ]
  },
  {
   "cell_type": "code",
   "execution_count": 67,
   "metadata": {},
   "outputs": [
    {
     "data": {
      "text/plain": [
       "0.9802197802197803"
      ]
     },
     "execution_count": 67,
     "metadata": {},
     "output_type": "execute_result"
    }
   ],
   "source": [
    "gs.best_score_"
   ]
  },
  {
   "cell_type": "code",
   "execution_count": 68,
   "metadata": {},
   "outputs": [
    {
     "data": {
      "text/plain": [
       "SVC()"
      ]
     },
     "execution_count": 68,
     "metadata": {},
     "output_type": "execute_result"
    }
   ],
   "source": [
    "gs.best_estimator_"
   ]
  },
  {
   "cell_type": "code",
   "execution_count": 69,
   "metadata": {},
   "outputs": [
    {
     "data": {
      "text/plain": [
       "{'mean_fit_time': array([0.00828171, 0.00927558, 0.00459313, 0.00727558, 0.00339103,\n",
       "        0.00529089, 0.00362258, 0.00577869, 0.00560241, 0.00445623,\n",
       "        0.00938816, 0.00432391, 0.01501102, 0.00441217]),\n",
       " 'std_fit_time': array([0.00045876, 0.00211893, 0.0001477 , 0.00098997, 0.00027544,\n",
       "        0.00190485, 0.00027702, 0.00260076, 0.00122272, 0.00026357,\n",
       "        0.00281177, 0.00026472, 0.00680378, 0.00025833]),\n",
       " 'mean_score_time': array([0.00224409, 0.00258737, 0.00141997, 0.00187631, 0.00114908,\n",
       "        0.00123353, 0.00114493, 0.00114622, 0.00094004, 0.00102201,\n",
       "        0.00080805, 0.0009716 , 0.00079675, 0.00082164]),\n",
       " 'std_score_time': array([9.34651432e-05, 5.47371163e-04, 1.35906119e-05, 5.76388244e-05,\n",
       "        1.07037633e-04, 5.34241508e-05, 3.35220029e-04, 9.80232234e-05,\n",
       "        1.75065319e-04, 5.24196958e-05, 5.82146503e-05, 9.42295136e-05,\n",
       "        6.67378534e-05, 1.01264249e-04]),\n",
       " 'param_C': masked_array(data=[0.01, 0.01, 0.1, 0.1, 1.0, 1.0, 10.0, 10.0, 100.0,\n",
       "                    100.0, 1000.0, 1000.0, 10000.0, 10000.0],\n",
       "              mask=[False, False, False, False, False, False, False, False,\n",
       "                    False, False, False, False, False, False],\n",
       "        fill_value='?',\n",
       "             dtype=object),\n",
       " 'param_kernel': masked_array(data=['linear', 'rbf', 'linear', 'rbf', 'linear', 'rbf',\n",
       "                    'linear', 'rbf', 'linear', 'rbf', 'linear', 'rbf',\n",
       "                    'linear', 'rbf'],\n",
       "              mask=[False, False, False, False, False, False, False, False,\n",
       "                    False, False, False, False, False, False],\n",
       "        fill_value='?',\n",
       "             dtype=object),\n",
       " 'params': [{'C': 0.01, 'kernel': 'linear'},\n",
       "  {'C': 0.01, 'kernel': 'rbf'},\n",
       "  {'C': 0.1, 'kernel': 'linear'},\n",
       "  {'C': 0.1, 'kernel': 'rbf'},\n",
       "  {'C': 1.0, 'kernel': 'linear'},\n",
       "  {'C': 1.0, 'kernel': 'rbf'},\n",
       "  {'C': 10.0, 'kernel': 'linear'},\n",
       "  {'C': 10.0, 'kernel': 'rbf'},\n",
       "  {'C': 100.0, 'kernel': 'linear'},\n",
       "  {'C': 100.0, 'kernel': 'rbf'},\n",
       "  {'C': 1000.0, 'kernel': 'linear'},\n",
       "  {'C': 1000.0, 'kernel': 'rbf'},\n",
       "  {'C': 10000.0, 'kernel': 'linear'},\n",
       "  {'C': 10000.0, 'kernel': 'rbf'}],\n",
       " 'split0_test_score': array([0.84615385, 0.63736264, 0.94505495, 0.92307692, 0.98901099,\n",
       "        0.98901099, 0.98901099, 0.98901099, 0.96703297, 0.96703297,\n",
       "        0.95604396, 0.96703297, 0.94505495, 0.96703297]),\n",
       " 'split1_test_score': array([0.76923077, 0.62637363, 0.94505495, 0.93406593, 0.96703297,\n",
       "        0.96703297, 0.96703297, 0.97802198, 0.97802198, 0.96703297,\n",
       "        0.93406593, 0.96703297, 0.93406593, 0.96703297]),\n",
       " 'split2_test_score': array([0.82417582, 0.62637363, 0.97802198, 0.97802198, 0.97802198,\n",
       "        0.98901099, 0.98901099, 1.        , 0.98901099, 0.97802198,\n",
       "        0.98901099, 1.        , 1.        , 1.        ]),\n",
       " 'split3_test_score': array([0.83516484, 0.62637363, 0.94505495, 0.95604396, 0.97802198,\n",
       "        0.98901099, 0.97802198, 0.97802198, 0.97802198, 0.96703297,\n",
       "        0.97802198, 0.97802198, 0.93406593, 0.97802198]),\n",
       " 'split4_test_score': array([0.8021978 , 0.62637363, 0.93406593, 0.93406593, 0.96703297,\n",
       "        0.96703297, 0.96703297, 0.95604396, 0.94505495, 0.95604396,\n",
       "        0.94505495, 0.95604396, 0.94505495, 0.95604396]),\n",
       " 'mean_test_score': array([0.81538462, 0.62857143, 0.94945055, 0.94505495, 0.97582418,\n",
       "        0.98021978, 0.97802198, 0.98021978, 0.97142857, 0.96703297,\n",
       "        0.96043956, 0.97362637, 0.95164835, 0.97362637]),\n",
       " 'std_test_score': array([0.02727401, 0.0043956 , 0.01490622, 0.01965774, 0.00822342,\n",
       "        0.01076699, 0.00982887, 0.01457857, 0.01490622, 0.00695006,\n",
       "        0.02038158, 0.01490622, 0.02467027, 0.01490622]),\n",
       " 'rank_test_score': array([13, 14, 11, 12,  4,  1,  3,  1,  7,  8,  9,  5, 10,  5],\n",
       "       dtype=int32)}"
      ]
     },
     "execution_count": 69,
     "metadata": {},
     "output_type": "execute_result"
    }
   ],
   "source": [
    "gs.cv_results_"
   ]
  },
  {
   "cell_type": "code",
   "execution_count": 70,
   "metadata": {},
   "outputs": [
    {
     "name": "stderr",
     "output_type": "stream",
     "text": [
      "/home/ma/.bin/anaconda3/lib/python3.8/site-packages/numpy/ma/core.py:3225: FutureWarning: Using a non-tuple sequence for multidimensional indexing is deprecated; use `arr[tuple(seq)]` instead of `arr[seq]`. In the future this will be interpreted as an array index, `arr[np.array(seq)]`, which will result either in an error or a different result.\n",
      "  dout = self.data[indx]\n",
      "/home/ma/.bin/anaconda3/lib/python3.8/site-packages/numpy/ma/core.py:3257: FutureWarning: Using a non-tuple sequence for multidimensional indexing is deprecated; use `arr[tuple(seq)]` instead of `arr[seq]`. In the future this will be interpreted as an array index, `arr[np.array(seq)]`, which will result either in an error or a different result.\n",
      "  mout = _mask[indx]\n"
     ]
    },
    {
     "ename": "ValueError",
     "evalue": "x and y must have same first dimension, but have shapes (7,) and (14,)",
     "output_type": "error",
     "traceback": [
      "\u001b[0;31m---------------------------------------------------------------------------\u001b[0m",
      "\u001b[0;31mValueError\u001b[0m                                Traceback (most recent call last)",
      "\u001b[0;32m<ipython-input-70-f813fd6a9b0f>\u001b[0m in \u001b[0;36m<module>\u001b[0;34m\u001b[0m\n\u001b[1;32m      1\u001b[0m \u001b[0ms_linear\u001b[0m \u001b[0;34m=\u001b[0m \u001b[0;34m[\u001b[0m\u001b[0mgs\u001b[0m\u001b[0;34m.\u001b[0m\u001b[0mcv_results_\u001b[0m\u001b[0;34m[\u001b[0m\u001b[0;34m'param_kernel'\u001b[0m\u001b[0;34m]\u001b[0m\u001b[0;34m==\u001b[0m\u001b[0;34m'linear'\u001b[0m\u001b[0;34m]\u001b[0m\u001b[0;34m\u001b[0m\u001b[0;34m\u001b[0m\u001b[0m\n\u001b[1;32m      2\u001b[0m \u001b[0;34m\u001b[0m\u001b[0m\n\u001b[0;32m----> 3\u001b[0;31m plt.plot(gs.cv_results_['param_C'][s_linear].data,\n\u001b[0m\u001b[1;32m      4\u001b[0m          gs.cv_results_['mean_test_score'])\n",
      "\u001b[0;32m~/.bin/anaconda3/lib/python3.8/site-packages/matplotlib/pyplot.py\u001b[0m in \u001b[0;36mplot\u001b[0;34m(scalex, scaley, data, *args, **kwargs)\u001b[0m\n\u001b[1;32m   2838\u001b[0m \u001b[0;34m@\u001b[0m\u001b[0m_copy_docstring_and_deprecators\u001b[0m\u001b[0;34m(\u001b[0m\u001b[0mAxes\u001b[0m\u001b[0;34m.\u001b[0m\u001b[0mplot\u001b[0m\u001b[0;34m)\u001b[0m\u001b[0;34m\u001b[0m\u001b[0;34m\u001b[0m\u001b[0m\n\u001b[1;32m   2839\u001b[0m \u001b[0;32mdef\u001b[0m \u001b[0mplot\u001b[0m\u001b[0;34m(\u001b[0m\u001b[0;34m*\u001b[0m\u001b[0margs\u001b[0m\u001b[0;34m,\u001b[0m \u001b[0mscalex\u001b[0m\u001b[0;34m=\u001b[0m\u001b[0;32mTrue\u001b[0m\u001b[0;34m,\u001b[0m \u001b[0mscaley\u001b[0m\u001b[0;34m=\u001b[0m\u001b[0;32mTrue\u001b[0m\u001b[0;34m,\u001b[0m \u001b[0mdata\u001b[0m\u001b[0;34m=\u001b[0m\u001b[0;32mNone\u001b[0m\u001b[0;34m,\u001b[0m \u001b[0;34m**\u001b[0m\u001b[0mkwargs\u001b[0m\u001b[0;34m)\u001b[0m\u001b[0;34m:\u001b[0m\u001b[0;34m\u001b[0m\u001b[0;34m\u001b[0m\u001b[0m\n\u001b[0;32m-> 2840\u001b[0;31m     return gca().plot(\n\u001b[0m\u001b[1;32m   2841\u001b[0m         \u001b[0;34m*\u001b[0m\u001b[0margs\u001b[0m\u001b[0;34m,\u001b[0m \u001b[0mscalex\u001b[0m\u001b[0;34m=\u001b[0m\u001b[0mscalex\u001b[0m\u001b[0;34m,\u001b[0m \u001b[0mscaley\u001b[0m\u001b[0;34m=\u001b[0m\u001b[0mscaley\u001b[0m\u001b[0;34m,\u001b[0m\u001b[0;34m\u001b[0m\u001b[0;34m\u001b[0m\u001b[0m\n\u001b[1;32m   2842\u001b[0m         **({\"data\": data} if data is not None else {}), **kwargs)\n",
      "\u001b[0;32m~/.bin/anaconda3/lib/python3.8/site-packages/matplotlib/axes/_axes.py\u001b[0m in \u001b[0;36mplot\u001b[0;34m(self, scalex, scaley, data, *args, **kwargs)\u001b[0m\n\u001b[1;32m   1741\u001b[0m         \"\"\"\n\u001b[1;32m   1742\u001b[0m         \u001b[0mkwargs\u001b[0m \u001b[0;34m=\u001b[0m \u001b[0mcbook\u001b[0m\u001b[0;34m.\u001b[0m\u001b[0mnormalize_kwargs\u001b[0m\u001b[0;34m(\u001b[0m\u001b[0mkwargs\u001b[0m\u001b[0;34m,\u001b[0m \u001b[0mmlines\u001b[0m\u001b[0;34m.\u001b[0m\u001b[0mLine2D\u001b[0m\u001b[0;34m)\u001b[0m\u001b[0;34m\u001b[0m\u001b[0;34m\u001b[0m\u001b[0m\n\u001b[0;32m-> 1743\u001b[0;31m         \u001b[0mlines\u001b[0m \u001b[0;34m=\u001b[0m \u001b[0;34m[\u001b[0m\u001b[0;34m*\u001b[0m\u001b[0mself\u001b[0m\u001b[0;34m.\u001b[0m\u001b[0m_get_lines\u001b[0m\u001b[0;34m(\u001b[0m\u001b[0;34m*\u001b[0m\u001b[0margs\u001b[0m\u001b[0;34m,\u001b[0m \u001b[0mdata\u001b[0m\u001b[0;34m=\u001b[0m\u001b[0mdata\u001b[0m\u001b[0;34m,\u001b[0m \u001b[0;34m**\u001b[0m\u001b[0mkwargs\u001b[0m\u001b[0;34m)\u001b[0m\u001b[0;34m]\u001b[0m\u001b[0;34m\u001b[0m\u001b[0;34m\u001b[0m\u001b[0m\n\u001b[0m\u001b[1;32m   1744\u001b[0m         \u001b[0;32mfor\u001b[0m \u001b[0mline\u001b[0m \u001b[0;32min\u001b[0m \u001b[0mlines\u001b[0m\u001b[0;34m:\u001b[0m\u001b[0;34m\u001b[0m\u001b[0;34m\u001b[0m\u001b[0m\n\u001b[1;32m   1745\u001b[0m             \u001b[0mself\u001b[0m\u001b[0;34m.\u001b[0m\u001b[0madd_line\u001b[0m\u001b[0;34m(\u001b[0m\u001b[0mline\u001b[0m\u001b[0;34m)\u001b[0m\u001b[0;34m\u001b[0m\u001b[0;34m\u001b[0m\u001b[0m\n",
      "\u001b[0;32m~/.bin/anaconda3/lib/python3.8/site-packages/matplotlib/axes/_base.py\u001b[0m in \u001b[0;36m__call__\u001b[0;34m(self, data, *args, **kwargs)\u001b[0m\n\u001b[1;32m    271\u001b[0m                 \u001b[0mthis\u001b[0m \u001b[0;34m+=\u001b[0m \u001b[0margs\u001b[0m\u001b[0;34m[\u001b[0m\u001b[0;36m0\u001b[0m\u001b[0;34m]\u001b[0m\u001b[0;34m,\u001b[0m\u001b[0;34m\u001b[0m\u001b[0;34m\u001b[0m\u001b[0m\n\u001b[1;32m    272\u001b[0m                 \u001b[0margs\u001b[0m \u001b[0;34m=\u001b[0m \u001b[0margs\u001b[0m\u001b[0;34m[\u001b[0m\u001b[0;36m1\u001b[0m\u001b[0;34m:\u001b[0m\u001b[0;34m]\u001b[0m\u001b[0;34m\u001b[0m\u001b[0;34m\u001b[0m\u001b[0m\n\u001b[0;32m--> 273\u001b[0;31m             \u001b[0;32myield\u001b[0m \u001b[0;32mfrom\u001b[0m \u001b[0mself\u001b[0m\u001b[0;34m.\u001b[0m\u001b[0m_plot_args\u001b[0m\u001b[0;34m(\u001b[0m\u001b[0mthis\u001b[0m\u001b[0;34m,\u001b[0m \u001b[0mkwargs\u001b[0m\u001b[0;34m)\u001b[0m\u001b[0;34m\u001b[0m\u001b[0;34m\u001b[0m\u001b[0m\n\u001b[0m\u001b[1;32m    274\u001b[0m \u001b[0;34m\u001b[0m\u001b[0m\n\u001b[1;32m    275\u001b[0m     \u001b[0;32mdef\u001b[0m \u001b[0mget_next_color\u001b[0m\u001b[0;34m(\u001b[0m\u001b[0mself\u001b[0m\u001b[0;34m)\u001b[0m\u001b[0;34m:\u001b[0m\u001b[0;34m\u001b[0m\u001b[0;34m\u001b[0m\u001b[0m\n",
      "\u001b[0;32m~/.bin/anaconda3/lib/python3.8/site-packages/matplotlib/axes/_base.py\u001b[0m in \u001b[0;36m_plot_args\u001b[0;34m(self, tup, kwargs)\u001b[0m\n\u001b[1;32m    397\u001b[0m \u001b[0;34m\u001b[0m\u001b[0m\n\u001b[1;32m    398\u001b[0m         \u001b[0;32mif\u001b[0m \u001b[0mx\u001b[0m\u001b[0;34m.\u001b[0m\u001b[0mshape\u001b[0m\u001b[0;34m[\u001b[0m\u001b[0;36m0\u001b[0m\u001b[0;34m]\u001b[0m \u001b[0;34m!=\u001b[0m \u001b[0my\u001b[0m\u001b[0;34m.\u001b[0m\u001b[0mshape\u001b[0m\u001b[0;34m[\u001b[0m\u001b[0;36m0\u001b[0m\u001b[0;34m]\u001b[0m\u001b[0;34m:\u001b[0m\u001b[0;34m\u001b[0m\u001b[0;34m\u001b[0m\u001b[0m\n\u001b[0;32m--> 399\u001b[0;31m             raise ValueError(f\"x and y must have same first dimension, but \"\n\u001b[0m\u001b[1;32m    400\u001b[0m                              f\"have shapes {x.shape} and {y.shape}\")\n\u001b[1;32m    401\u001b[0m         \u001b[0;32mif\u001b[0m \u001b[0mx\u001b[0m\u001b[0;34m.\u001b[0m\u001b[0mndim\u001b[0m \u001b[0;34m>\u001b[0m \u001b[0;36m2\u001b[0m \u001b[0;32mor\u001b[0m \u001b[0my\u001b[0m\u001b[0;34m.\u001b[0m\u001b[0mndim\u001b[0m \u001b[0;34m>\u001b[0m \u001b[0;36m2\u001b[0m\u001b[0;34m:\u001b[0m\u001b[0;34m\u001b[0m\u001b[0;34m\u001b[0m\u001b[0m\n",
      "\u001b[0;31mValueError\u001b[0m: x and y must have same first dimension, but have shapes (7,) and (14,)"
     ]
    },
    {
     "data": {
      "image/png": "[encoded data removed]",
      "text/plain": [
       "<Figure size 432x288 with 1 Axes>"
      ]
     },
     "metadata": {
      "needs_background": "light"
     },
     "output_type": "display_data"
    }
   ],
   "source": [
    "s_linear = [gs.cv_results_['param_kernel']=='linear']\n",
    "\n",
    "plt.plot(gs.cv_results_['param_C'][s_linear].data,\n",
    "         gs.cv_results_['mean_test_score'])\n"
   ]
  },
  {
   "cell_type": "code",
   "execution_count": null,
   "metadata": {},
   "outputs": [],
   "source": []
  }
 ],
 "metadata": {
  "kernelspec": {
   "display_name": "Python 3",
   "language": "python",
   "name": "python3"
  },
  "language_info": {
   "codemirror_mode": {
    "name": "ipython",
    "version": 3
   },
   "file_extension": ".py",
   "mimetype": "text/x-python",
   "name": "python",
   "nbconvert_exporter": "python",
   "pygments_lexer": "ipython3",
   "version": "3.8.5"
  }
 },
 "nbformat": 4,
 "nbformat_minor": 4
}
