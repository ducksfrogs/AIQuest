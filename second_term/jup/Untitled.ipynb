{
 "cells": [
  {
   "cell_type": "code",
   "execution_count": 3,
   "metadata": {},
   "outputs": [],
   "source": [
    "import numpy as np\n",
    "import pandas as pd\n",
    "import matplotlib.pyplot as plt\n",
    "\n",
    "from sklearn.model_selection import GridSearchCV\n",
    "from sklearn.datasets import load_breast_cancer\n",
    "from sklearn.model_selection import train_test_split\n",
    "\n",
    "data = load_breast_cancer()\n",
    "\n",
    "X = data.data\n",
    "y = data.target\n",
    "\n",
    "X = pd.DataFrame(X, columns=data.feature_names)\n",
    "\n",
    "X_train, X_test, y_train, y_test = train_test_split(X, y, random_state=42, test_size=0.2)\n",
    "\n",
    "from sklearn.preprocessing import MinMaxScaler\n",
    "\n",
    "scaler = MinMaxScaler()\n",
    "scaler.fit(X_train)\n",
    "X_train = scaler.transform(X_train)\n",
    "X_test = scaler.transform(X_test)\n"
   ]
  },
  {
   "cell_type": "code",
   "execution_count": 4,
   "metadata": {},
   "outputs": [
    {
     "data": {
      "text/plain": [
       "GridSearchCV(estimator=KNeighborsClassifier(),\n",
       "             param_grid={'n_neighbors': range(1, 20)})"
      ]
     },
     "execution_count": 4,
     "metadata": {},
     "output_type": "execute_result"
    }
   ],
   "source": [
    "from sklearn.neighbors import KNeighborsClassifier\n",
    "\n",
    "clf = KNeighborsClassifier()\n",
    "\n",
    "params = {'n_neighbors': range(1,20)}\n",
    "\n",
    "gs = GridSearchCV(clf, params)\n",
    "gs.fit(X_train, y_train)\n"
   ]
  },
  {
   "cell_type": "code",
   "execution_count": 5,
   "metadata": {},
   "outputs": [
    {
     "data": {
      "text/plain": [
       "{'n_neighbors': 14}"
      ]
     },
     "execution_count": 5,
     "metadata": {},
     "output_type": "execute_result"
    }
   ],
   "source": [
    "gs.best_params_"
   ]
  },
  {
   "cell_type": "code",
   "execution_count": 6,
   "metadata": {},
   "outputs": [
    {
     "data": {
      "text/plain": [
       "0.9648351648351647"
      ]
     },
     "execution_count": 6,
     "metadata": {},
     "output_type": "execute_result"
    }
   ],
   "source": [
    "gs.best_score_"
   ]
  },
  {
   "cell_type": "code",
   "execution_count": 7,
   "metadata": {},
   "outputs": [
    {
     "data": {
      "text/plain": [
       "{'mean_fit_time': array([0.04386497, 0.00074587, 0.00082383, 0.00075674, 0.00074167,\n",
       "        0.00073886, 0.00075965, 0.00075932, 0.00074782, 0.00073934,\n",
       "        0.00074091, 0.00073915, 0.00075569, 0.00074978, 0.00073681,\n",
       "        0.00075068, 0.00074444, 0.00075455, 0.00075126]),\n",
       " 'std_fit_time': array([8.42314334e-02, 2.71075109e-05, 1.01490911e-04, 2.64629587e-05,\n",
       "        1.26243932e-05, 1.60850398e-05, 1.26450885e-05, 1.83116644e-05,\n",
       "        6.07027000e-06, 1.07452479e-05, 1.05494227e-05, 1.81733145e-05,\n",
       "        1.27918622e-05, 2.21805662e-05, 1.44848656e-05, 2.91846156e-06,\n",
       "        1.21351075e-05, 2.47819570e-05, 2.33611279e-05]),\n",
       " 'mean_score_time': array([0.00940838, 0.00385599, 0.00390415, 0.00389915, 0.00389428,\n",
       "        0.00398741, 0.00403428, 0.00404778, 0.00398726, 0.00405188,\n",
       "        0.00400257, 0.00409789, 0.00404773, 0.00417953, 0.00410972,\n",
       "        0.0041151 , 0.00419416, 0.00429502, 0.00421081]),\n",
       " 'std_score_time': array([5.10736941e-03, 1.28483275e-04, 9.65431459e-05, 5.39952342e-05,\n",
       "        5.51289337e-05, 9.85532087e-05, 1.23165847e-04, 1.00184111e-04,\n",
       "        3.43721212e-05, 1.34657446e-04, 4.98403191e-05, 7.46702325e-05,\n",
       "        3.71995945e-05, 1.74787807e-04, 6.35106283e-05, 6.19471850e-05,\n",
       "        7.46436142e-05, 1.78812192e-04, 4.67914548e-05]),\n",
       " 'param_n_neighbors': masked_array(data=[1, 2, 3, 4, 5, 6, 7, 8, 9, 10, 11, 12, 13, 14, 15, 16,\n",
       "                    17, 18, 19],\n",
       "              mask=[False, False, False, False, False, False, False, False,\n",
       "                    False, False, False, False, False, False, False, False,\n",
       "                    False, False, False],\n",
       "        fill_value='?',\n",
       "             dtype=object),\n",
       " 'params': [{'n_neighbors': 1},\n",
       "  {'n_neighbors': 2},\n",
       "  {'n_neighbors': 3},\n",
       "  {'n_neighbors': 4},\n",
       "  {'n_neighbors': 5},\n",
       "  {'n_neighbors': 6},\n",
       "  {'n_neighbors': 7},\n",
       "  {'n_neighbors': 8},\n",
       "  {'n_neighbors': 9},\n",
       "  {'n_neighbors': 10},\n",
       "  {'n_neighbors': 11},\n",
       "  {'n_neighbors': 12},\n",
       "  {'n_neighbors': 13},\n",
       "  {'n_neighbors': 14},\n",
       "  {'n_neighbors': 15},\n",
       "  {'n_neighbors': 16},\n",
       "  {'n_neighbors': 17},\n",
       "  {'n_neighbors': 18},\n",
       "  {'n_neighbors': 19}],\n",
       " 'split0_test_score': array([0.92307692, 0.93406593, 0.96703297, 0.95604396, 0.96703297,\n",
       "        0.94505495, 0.94505495, 0.94505495, 0.94505495, 0.94505495,\n",
       "        0.94505495, 0.96703297, 0.96703297, 0.96703297, 0.96703297,\n",
       "        0.95604396, 0.96703297, 0.96703297, 0.96703297]),\n",
       " 'split1_test_score': array([0.93406593, 0.93406593, 0.96703297, 0.94505495, 0.92307692,\n",
       "        0.94505495, 0.94505495, 0.95604396, 0.94505495, 0.94505495,\n",
       "        0.95604396, 0.95604396, 0.94505495, 0.94505495, 0.94505495,\n",
       "        0.94505495, 0.94505495, 0.94505495, 0.94505495]),\n",
       " 'split2_test_score': array([0.95604396, 0.96703297, 0.97802198, 0.97802198, 0.97802198,\n",
       "        0.98901099, 0.98901099, 0.98901099, 1.        , 1.        ,\n",
       "        0.98901099, 0.98901099, 0.98901099, 0.98901099, 0.98901099,\n",
       "        0.98901099, 0.98901099, 0.98901099, 0.98901099]),\n",
       " 'split3_test_score': array([0.96703297, 0.96703297, 0.96703297, 0.96703297, 0.97802198,\n",
       "        0.98901099, 0.97802198, 0.98901099, 0.97802198, 0.97802198,\n",
       "        0.95604396, 0.96703297, 0.96703297, 0.97802198, 0.96703297,\n",
       "        0.96703297, 0.96703297, 0.96703297, 0.96703297]),\n",
       " 'split4_test_score': array([0.94505495, 0.94505495, 0.92307692, 0.93406593, 0.92307692,\n",
       "        0.93406593, 0.93406593, 0.93406593, 0.92307692, 0.92307692,\n",
       "        0.93406593, 0.93406593, 0.92307692, 0.94505495, 0.93406593,\n",
       "        0.93406593, 0.93406593, 0.94505495, 0.94505495]),\n",
       " 'mean_test_score': array([0.94505495, 0.94945055, 0.96043956, 0.95604396, 0.95384615,\n",
       "        0.96043956, 0.95824176, 0.96263736, 0.95824176, 0.95824176,\n",
       "        0.95604396, 0.96263736, 0.95824176, 0.96483516, 0.96043956,\n",
       "        0.95824176, 0.96043956, 0.96263736, 0.96263736]),\n",
       " 'std_test_score': array([0.01554081, 0.01490622, 0.01916   , 0.01554081, 0.0254414 ,\n",
       "        0.02367105, 0.02130848, 0.02262776, 0.02727401, 0.02727401,\n",
       "        0.01838813, 0.01785503, 0.02241327, 0.01758242, 0.01916   ,\n",
       "        0.01890621, 0.01916   , 0.01644685, 0.01644685]),\n",
       " 'rank_test_score': array([19, 18,  6, 15, 17,  6, 10,  3, 10, 10, 15,  2, 10,  1,  6, 10,  6,\n",
       "         3,  3], dtype=int32)}"
      ]
     },
     "execution_count": 7,
     "metadata": {},
     "output_type": "execute_result"
    }
   ],
   "source": [
    "gs.cv_results_"
   ]
  },
  {
   "cell_type": "code",
   "execution_count": 8,
   "metadata": {},
   "outputs": [
    {
     "data": {
      "text/plain": [
       "<ErrorbarContainer object of 3 artists>"
      ]
     },
     "execution_count": 8,
     "metadata": {},
     "output_type": "execute_result"
    },
    {
     "data": {
      "image/png": "[encoded data removed]",
      "text/plain": [
       "<Figure size 432x288 with 1 Axes>"
      ]
     },
     "metadata": {
      "needs_background": "light"
     },
     "output_type": "display_data"
    }
   ],
   "source": [
    "plt.errorbar(gs.cv_results_['param_n_neighbors'].data,\n",
    "             gs.cv_results_['mean_test_score'],\n",
    "             yerr=gs.cv_results_['std_test_score'],\n",
    "              label='test')\n",
    "              \n"
   ]
  },
  {
   "cell_type": "code",
   "execution_count": 9,
   "metadata": {},
   "outputs": [],
   "source": [
    "from sklearn.neural_network import MLPClassifier\n",
    "\n",
    "clf = MLPClassifier(random_state=8, max_iter= 2000)\n"
   ]
  },
  {
   "cell_type": "code",
   "execution_count": 10,
   "metadata": {},
   "outputs": [
    {
     "data": {
      "text/plain": [
       "MLPClassifier(max_iter=2000, random_state=8)"
      ]
     },
     "execution_count": 10,
     "metadata": {},
     "output_type": "execute_result"
    }
   ],
   "source": [
    "clf"
   ]
  },
  {
   "cell_type": "code",
   "execution_count": 11,
   "metadata": {},
   "outputs": [],
   "source": [
    "params = {\n",
    "    'hidden_layer_sizes': [(10,),(50,),(100, ),\n",
    "                           (10,10,), (50, 50, ), (100, 100, ),\n",
    "                           (10, 5, ), (5,5, ), (30,20, 10), (100, 1000, 50,), \n",
    "                           (1000, 100, 50),(10,10,10),(50, 50, 50), (100, 100, 100,)\n",
    "                           ],\n",
    "    'activation': ['identity', 'logistic', 'tanh','relu'],\n",
    "    'beta_1': [0.9, 0.8, 0.7, 0.6, 0.5],\n",
    "    'beta_2': [0.999, 0.9, 0.8, 0.7],\n",
    "    'alpha': [1e-5, 1e-4, 1e-3, 1e-2, 1e-1, 1]\n",
    "    }\n"
   ]
  },
  {
   "cell_type": "code",
   "execution_count": null,
   "metadata": {},
   "outputs": [],
   "source": [
    "gs = GridSearchCV(clf, params)\n",
    "gs.fit(X_train, y_train)"
   ]
  },
  {
   "cell_type": "code",
   "execution_count": null,
   "metadata": {},
   "outputs": [],
   "source": []
  }
 ],
 "metadata": {
  "kernelspec": {
   "display_name": "Python 3",
   "language": "python",
   "name": "python3"
  },
  "language_info": {
   "codemirror_mode": {
    "name": "ipython",
    "version": 3
   },
   "file_extension": ".py",
   "mimetype": "text/x-python",
   "name": "python",
   "nbconvert_exporter": "python",
   "pygments_lexer": "ipython3",
   "version": "3.8.5"
  }
 },
 "nbformat": 4,
 "nbformat_minor": 4
}
