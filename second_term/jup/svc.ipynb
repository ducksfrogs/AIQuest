{
 "cells": [
  {
   "cell_type": "code",
   "execution_count": 1,
   "metadata": {},
   "outputs": [],
   "source": [
    "import numpy as np\n",
    "import pandas as pd\n",
    "import matplotlib.pyplot as plt\n",
    "import os\n",
    "import glob\n",
    "import librosa\n",
    "\n",
    "files_normaly = sorted(glob.glob(os.path.abspath('../input/train/*/normal/*.wav')))\n",
    "files_anomaly = sorted(glob.glob(os.path.abspath('../input/train/*/anomaly/*.wav')))\n",
    "files_test = sorted(glob.glob(os.path.abspath('../input/test/*.wav')))\n",
    "\n",
    "normal = []\n",
    "for file in files_normaly:\n",
    "    y, sr = librosa.load(file, sr=None)\n",
    "    normal.append(y)\n",
    "\n",
    "normal = np.array(normal)\n",
    "\n",
    "anomaly = []\n",
    "for file in files_anomaly:\n",
    "    y, sr = librosa.load(file, sr=None)\n",
    "    anomaly.append(y)\n",
    "anomaly = np.array(anomaly)\n",
    "\n",
    "test = []\n",
    "for file in files_test:\n",
    "    y, sr = librosa.load(file, sr=None)\n",
    "    test.append(y)\n",
    "test = np.array(test)\n"
   ]
  },
  {
   "cell_type": "code",
   "execution_count": null,
   "metadata": {},
   "outputs": [],
   "source": [
    "melspec_normal = []\n",
    "for n in normal:\n",
    "    m = librosa.feature.melspectrogram(n, n_mels=256)\n",
    "    m = librosa.power_to_db(m).astype(np.float32)\n",
    "    melspec_normal.append(m)\n",
    "melspec_normal = np.array(melspec_normal)\n",
    "\n",
    "melspec_anomaly = []\n",
    "for a in anomaly:\n",
    "    m = librosa.feature.melspectrogram(a, n_mels=256)\n",
    "    m = librosa.power_to_db(m).astype(np.float32)\n",
    "    melspec_anomaly.append(m)\n",
    "melspec_anomaly = np.array(melspec_anomaly)\n",
    "\n",
    "melspec_test = []\n",
    "for t in test:\n",
    "    m = librosa.feature.melspectrogram(t, n_mels=256)\n",
    "    m = librosa.power_to_db(m).astype(np.float32)\n",
    "    melspec_test.append(m)\n",
    "melspec_test = np.array(melspec_test)\n",
    "\n"
   ]
  },
  {
   "cell_type": "code",
   "execution_count": null,
   "metadata": {},
   "outputs": [],
   "source": [
    "import librosa.display\n",
    "librosa.display.specshow(melspec_normal[0])\n"
   ]
  },
  {
   "cell_type": "code",
   "execution_count": null,
   "metadata": {},
   "outputs": [],
   "source": [
    "train = np.concatenate([melspec_normal, melspec_anomaly])\n",
    "train = train.reshape(train.shape[0],-1)\n",
    "test = melspec_test.reshape(melspec_test.shape[0], -1)\n",
    "\n",
    "target = np.concatenate([np.zeros(len(melspec_normal)), np.ones(len(melspec_anomaly))])\n",
    "\n",
    "from sklearn.model_selection import train_test_split\n",
    "\n",
    "train_X, test_X, train_Y, test_Y = train_test_split(train, target, test_size=0.33, random_state=42)\n"
   ]
  },
  {
   "cell_type": "code",
   "execution_count": null,
   "metadata": {},
   "outputs": [],
   "source": [
    "from sklearn.svm import SVC\n",
    "\n",
    "clf = SVC()"
   ]
  },
  {
   "cell_type": "code",
   "execution_count": 6,
   "metadata": {},
   "outputs": [],
   "source": [
    "from sklearn.preprocessing import MinMaxScaler\n",
    "\n",
    "scaler = MinMaxScaler()\n",
    "scaler.fit(train_X)\n",
    "train_X_scale = scaler.transform(train_X)\n",
    "test_X_scale =scaler.transform(test_X)\n"
   ]
  },
  {
   "cell_type": "code",
   "execution_count": null,
   "metadata": {},
   "outputs": [],
   "source": [
    "C_range_exp = np.arange(-2.0, 5.0)\n",
    "C_range = 10 ** C_range_exp\n",
    "\n",
    "params = [\n",
    "    {'C': C_range, 'kernel': ['linear','rbf']},\n",
    "]\n",
    "\n",
    "gs = GridSearchCV(clf, params, n_jobs=1, verbose=2)\n",
    "gs.fit(X_train, y_train)\n"
   ]
  },
  {
   "cell_type": "code",
   "execution_count": 7,
   "metadata": {},
   "outputs": [
    {
     "data": {
      "text/plain": [
       "SVC()"
      ]
     },
     "execution_count": 7,
     "metadata": {},
     "output_type": "execute_result"
    }
   ],
   "source": [
    "clf.fit(train_X_scale, train_Y)"
   ]
  },
  {
   "cell_type": "code",
   "execution_count": 8,
   "metadata": {},
   "outputs": [
    {
     "data": {
      "text/plain": [
       "0.48443223443223443"
      ]
     },
     "execution_count": 8,
     "metadata": {},
     "output_type": "execute_result"
    }
   ],
   "source": [
    "clf.score(test_X, test_Y)"
   ]
  },
  {
   "cell_type": "code",
   "execution_count": 9,
   "metadata": {},
   "outputs": [
    {
     "data": {
      "text/plain": [
       "0.9029304029304029"
      ]
     },
     "execution_count": 9,
     "metadata": {},
     "output_type": "execute_result"
    }
   ],
   "source": [
    "clf.score(test_X_scale, test_Y)"
   ]
  },
  {
   "cell_type": "code",
   "execution_count": 12,
   "metadata": {},
   "outputs": [],
   "source": [
    "from sklearn.ensemble import RandomForestClassifier"
   ]
  },
  {
   "cell_type": "code",
   "execution_count": 13,
   "metadata": {},
   "outputs": [],
   "source": [
    "clf = RandomForestClassifier()"
   ]
  },
  {
   "cell_type": "code",
   "execution_count": 14,
   "metadata": {},
   "outputs": [
    {
     "data": {
      "text/plain": [
       "RandomForestClassifier()"
      ]
     },
     "execution_count": 14,
     "metadata": {},
     "output_type": "execute_result"
    }
   ],
   "source": [
    "clf.fit(train_X, train_Y)"
   ]
  },
  {
   "cell_type": "code",
   "execution_count": 15,
   "metadata": {},
   "outputs": [
    {
     "data": {
      "text/plain": [
       "0.8415750915750916"
      ]
     },
     "execution_count": 15,
     "metadata": {},
     "output_type": "execute_result"
    }
   ],
   "source": [
    "clf.score(test_X, test_Y)"
   ]
  },
  {
   "cell_type": "code",
   "execution_count": 16,
   "metadata": {},
   "outputs": [
    {
     "data": {
      "text/plain": [
       "RandomForestClassifier()"
      ]
     },
     "execution_count": 16,
     "metadata": {},
     "output_type": "execute_result"
    }
   ],
   "source": [
    "clf.fit(train_X_scale, train_Y)"
   ]
  },
  {
   "cell_type": "code",
   "execution_count": 17,
   "metadata": {},
   "outputs": [
    {
     "data": {
      "text/plain": [
       "0.8653846153846154"
      ]
     },
     "execution_count": 17,
     "metadata": {},
     "output_type": "execute_result"
    }
   ],
   "source": [
    "clf.score(test_X_scale, test_Y)"
   ]
  },
  {
   "cell_type": "code",
   "execution_count": null,
   "metadata": {},
   "outputs": [],
   "source": [
    "pred = clf.predict()"
   ]
  }
 ],
 "metadata": {
  "kernelspec": {
   "display_name": "Python 3",
   "language": "python",
   "name": "python3"
  },
  "language_info": {
   "codemirror_mode": {
    "name": "ipython",
    "version": 3
   },
   "file_extension": ".py",
   "mimetype": "text/x-python",
   "name": "python",
   "nbconvert_exporter": "python",
   "pygments_lexer": "ipython3",
   "version": "3.7.9"
  }
 },
 "nbformat": 4,
 "nbformat_minor": 4
}
