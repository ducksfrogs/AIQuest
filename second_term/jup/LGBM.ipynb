{
 "cells": [
  {
   "cell_type": "code",
   "execution_count": 1,
   "metadata": {},
   "outputs": [],
   "source": [
    "import numpy as np\n",
    "import pandas as pd\n",
    "import matplotlib.pyplot as plt\n",
    "import os\n",
    "import glob\n",
    "import librosa\n",
    "\n",
    "files_normaly = sorted(glob.glob(os.path.abspath('../input/train/*/normal/*.wav')))\n",
    "files_anomaly = sorted(glob.glob(os.path.abspath('../input/train/*/anomaly/*.wav')))\n",
    "files_test = sorted(glob.glob(os.path.abspath('../input/test/*.wav')))\n",
    "\n",
    "normal = []\n",
    "for file in files_normaly:\n",
    "    y, sr = librosa.load(file, sr=None)\n",
    "    normal.append(y)\n",
    "\n",
    "normal = np.array(normal)\n",
    "\n",
    "anomaly = []\n",
    "for file in files_anomaly:\n",
    "    y, sr = librosa.load(file, sr=None)\n",
    "    anomaly.append(y)\n",
    "anomaly = np.array(anomaly)\n",
    "\n",
    "test = []\n",
    "for file in files_test:\n",
    "    y, sr = librosa.load(file, sr=None)\n",
    "    test.append(y)\n",
    "test = np.array(test)\n"
   ]
  },
  {
   "cell_type": "code",
   "execution_count": null,
   "metadata": {},
   "outputs": [],
   "source": []
  },
  {
   "cell_type": "code",
   "execution_count": 2,
   "metadata": {},
   "outputs": [],
   "source": [
    "melspec_normal = []\n",
    "for n in normal:\n",
    "    m = librosa.feature.melspectrogram(n, n_mels=256)\n",
    "    m = librosa.power_to_db(m).astype(np.float32)\n",
    "    melspec_normal.append(m)\n",
    "melspec_normal = np.array(melspec_normal)\n",
    "\n",
    "melspec_anomaly = []\n",
    "for a in anomaly:\n",
    "    m = librosa.feature.melspectrogram(a, n_mels=256)\n",
    "    m = librosa.power_to_db(m).astype(np.float32)\n",
    "    melspec_anomaly.append(m)\n",
    "melspec_anomaly = np.array(melspec_anomaly)\n",
    "\n",
    "melspec_test = []\n",
    "for t in test:\n",
    "    m = librosa.feature.melspectrogram(t, n_mels=256)\n",
    "    m = librosa.power_to_db(m).astype(np.float32)\n",
    "    melspec_test.append(m)\n",
    "melspec_test = np.array(melspec_test)\n",
    "\n"
   ]
  },
  {
   "cell_type": "code",
   "execution_count": 3,
   "metadata": {},
   "outputs": [],
   "source": [
    "train = np.concatenate([melspec_normal, melspec_anomaly])\n",
    "\n",
    "train = train.reshape(train.shape[0],-1)\n",
    "\n",
    "target = np.concatenate([np.zeros(len(melspec_normal)), np.ones(len(melspec_anomaly))])\n",
    "\n",
    "from sklearn.model_selection import train_test_split\n",
    "\n",
    "train_X, test_X, train_Y, test_Y = train_test_split(train, target, test_size=0.2, random_state=42)\n"
   ]
  },
  {
   "cell_type": "code",
   "execution_count": 4,
   "metadata": {},
   "outputs": [],
   "source": [
    "from sklearn.preprocessing import StandardScaler\n",
    "\n",
    "scaler = StandardScaler()\n",
    "scaler.fit(train_X)\n",
    "train_X_scale = scaler.transform(train_X)\n",
    "test_X_scale = scaler.transform(test_X)"
   ]
  },
  {
   "cell_type": "code",
   "execution_count": 6,
   "metadata": {},
   "outputs": [],
   "source": [
    "import lightgbm as lgb\n",
    "\n",
    "from sklearn.metrics import confusion_matrix\n",
    "from sklearn.metrics import accuracy_score"
   ]
  },
  {
   "cell_type": "code",
   "execution_count": 7,
   "metadata": {},
   "outputs": [],
   "source": [
    "lgb_train = lgb.Dataset(train_X_scale, train_Y)\n",
    "lgb_eval = lgb.Dataset(test_X_scale, test_Y, reference=lgb_train)\n"
   ]
  },
  {
   "cell_type": "code",
   "execution_count": 8,
   "metadata": {},
   "outputs": [],
   "source": [
    "lgbm_params = {\n",
    "    'objective': 'binary',\n",
    "    'metric': 'auc',\n",
    "    'verbose': -1,\n",
    "}"
   ]
  },
  {
   "cell_type": "code",
   "execution_count": null,
   "metadata": {},
   "outputs": [],
   "source": [
    "model = lgb.train(lgbm_params, lgb_train, valid_sets=lgb_eval,\n",
    "                 verbose_eval=50,\n",
    "                 num_boost_round=1000,\n",
    "                 early_stopping_rounds=100)"
   ]
  },
  {
   "cell_type": "code",
   "execution_count": 1,
   "metadata": {},
   "outputs": [
    {
     "ename": "NameError",
     "evalue": "name 'lgbm_params' is not defined",
     "output_type": "error",
     "traceback": [
      "\u001b[0;31m---------------------------------------------------------------------------\u001b[0m",
      "\u001b[0;31mNameError\u001b[0m                                 Traceback (most recent call last)",
      "\u001b[0;32m<ipython-input-1-8dd0c6c0bca5>\u001b[0m in \u001b[0;36m<module>\u001b[0;34m\u001b[0m\n\u001b[0;32m----> 1\u001b[0;31m \u001b[0mlgbm_params\u001b[0m\u001b[0;34m\u001b[0m\u001b[0;34m\u001b[0m\u001b[0m\n\u001b[0m",
      "\u001b[0;31mNameError\u001b[0m: name 'lgbm_params' is not defined"
     ]
    }
   ],
   "source": [
    "lgbm_params"
   ]
  },
  {
   "cell_type": "code",
   "execution_count": null,
   "metadata": {},
   "outputs": [],
   "source": []
  },
  {
   "cell_type": "code",
   "execution_count": null,
   "metadata": {},
   "outputs": [],
   "source": []
  },
  {
   "cell_type": "code",
   "execution_count": null,
   "metadata": {},
   "outputs": [],
   "source": [
    "clf = lgb.LGBMClassifier()\n",
    "clf.fit(train_X, train_Y)"
   ]
  },
  {
   "cell_type": "code",
   "execution_count": null,
   "metadata": {},
   "outputs": [],
   "source": [
    "train_X_scale"
   ]
  }
 ],
 "metadata": {
  "kernelspec": {
   "display_name": "Python 3",
   "language": "python",
   "name": "python3"
  },
  "language_info": {
   "codemirror_mode": {
    "name": "ipython",
    "version": 3
   },
   "file_extension": ".py",
   "mimetype": "text/x-python",
   "name": "python",
   "nbconvert_exporter": "python",
   "pygments_lexer": "ipython3",
   "version": "3.8.5"
  }
 },
 "nbformat": 4,
 "nbformat_minor": 4
}
