{
 "cells": [
  {
   "cell_type": "code",
   "execution_count": 1,
   "metadata": {},
   "outputs": [],
   "source": [
    "import lightgbm as lgb\n",
    "\n",
    "from sklearn.metrics import confusion_matrix\n",
    "from sklearn.metrics import accuracy_score"
   ]
  },
  {
   "cell_type": "code",
   "execution_count": 2,
   "metadata": {},
   "outputs": [],
   "source": [
    "import numpy as np\n",
    "import pandas as pd\n",
    "import matplotlib.pyplot as plt\n",
    "import os\n",
    "import glob\n",
    "import librosa\n",
    "\n",
    "files_normaly = sorted(glob.glob(os.path.abspath('../input/train/*/normal/*.wav')))\n",
    "files_anomaly = sorted(glob.glob(os.path.abspath('../input/train/*/anomaly/*.wav')))\n",
    "files_test = sorted(glob.glob(os.path.abspath('../input/test/*.wav')))\n",
    "\n",
    "normal = []\n",
    "for file in files_normaly:\n",
    "    y, sr = librosa.load(file, sr=None)\n",
    "    normal.append(y)\n",
    "\n",
    "normal = np.array(normal)\n",
    "\n",
    "anomaly = []\n",
    "for file in files_anomaly:\n",
    "    y, sr = librosa.load(file, sr=None)\n",
    "    anomaly.append(y)\n",
    "anomaly = np.array(anomaly)\n",
    "\n",
    "test = []\n",
    "for file in files_test:\n",
    "    y, sr = librosa.load(file, sr=None)\n",
    "    test.append(y)\n",
    "test = np.array(test)\n"
   ]
  },
  {
   "cell_type": "code",
   "execution_count": 3,
   "metadata": {},
   "outputs": [],
   "source": [
    "melspec_normal = []\n",
    "for n in normal:\n",
    "    m = librosa.feature.melspectrogram(n, n_mels=256)\n",
    "    m = librosa.power_to_db(m).astype(np.float32)\n",
    "    melspec_normal.append(m)\n",
    "melspec_normal = np.array(melspec_normal)\n",
    "\n",
    "melspec_anomaly = []\n",
    "for a in anomaly:\n",
    "    m = librosa.feature.melspectrogram(a, n_mels=256)\n",
    "    m = librosa.power_to_db(m).astype(np.float32)\n",
    "    melspec_anomaly.append(m)\n",
    "melspec_anomaly = np.array(melspec_anomaly)\n",
    "\n",
    "melspec_test = []\n",
    "for t in test:\n",
    "    m = librosa.feature.melspectrogram(t, n_mels=256)\n",
    "    m = librosa.power_to_db(m).astype(np.float32)\n",
    "    melspec_test.append(m)\n",
    "melspec_test = np.array(melspec_test)\n",
    "\n"
   ]
  },
  {
   "cell_type": "code",
   "execution_count": 4,
   "metadata": {},
   "outputs": [],
   "source": [
    "train = np.concatenate([melspec_normal, melspec_anomaly])\n",
    "\n",
    "train = train.reshape(train.shape[0],-1)\n",
    "test = melspec_test.reshape(melspec_test.shape[0], -1)\n",
    "\n",
    "target = np.concatenate([np.zeros(len(melspec_normal)), np.ones(len(melspec_anomaly))])\n",
    "\n",
    "from sklearn.model_selection import train_test_split\n",
    "\n",
    "train_X, test_X, train_Y, test_Y = train_test_split(train, target, test_size=0.2, random_state=42)\n"
   ]
  },
  {
   "cell_type": "code",
   "execution_count": 5,
   "metadata": {},
   "outputs": [],
   "source": [
    "from sklearn.preprocessing import StandardScaler\n",
    "\n",
    "scaler = StandardScaler()\n",
    "scaler.fit(train_X)\n",
    "train_X = scaler.transform(train_X)\n",
    "test_X = scaler.transform(test_X)\n",
    "test = scaler.transform(test)\n"
   ]
  },
  {
   "cell_type": "code",
   "execution_count": 6,
   "metadata": {},
   "outputs": [],
   "source": [
    "lgb_train = lgb.Dataset(train_X, train_Y)\n",
    "lgb_eval = lgb.Dataset(test_X, test_Y, reference=lgb_train)\n"
   ]
  },
  {
   "cell_type": "code",
   "execution_count": 7,
   "metadata": {},
   "outputs": [],
   "source": [
    "lgbm_params = {\n",
    "    'objective': 'binary',\n",
    "    'metric': 'binary_logloss',\n",
    "    'max_depth': 7,\n",
    "    'verbose': -1,\n",
    "}"
   ]
  },
  {
   "cell_type": "code",
   "execution_count": null,
   "metadata": {},
   "outputs": [
    {
     "name": "stdout",
     "output_type": "stream",
     "text": [
      "[LightGBM] [Warning] Accuracy may be bad since you didn't explicitly set num_leaves OR 2^max_depth > num_leaves. (num_leaves=31).\n",
      "Training until validation scores don't improve for 100 rounds\n",
      "[50]\tvalid_0's binary_logloss: 0.285067\n"
     ]
    }
   ],
   "source": [
    "model = lgb.train(lgbm_params, lgb_train, valid_sets=lgb_eval,\n",
    "                 verbose_eval=50,\n",
    "                 num_boost_round=1000,\n",
    "                 early_stopping_rounds=100)"
   ]
  },
  {
   "cell_type": "code",
   "execution_count": 9,
   "metadata": {},
   "outputs": [],
   "source": [
    "predict_proba = model.predict(test_X, num_iteration=model.best_iteration)\n"
   ]
  },
  {
   "cell_type": "code",
   "execution_count": 10,
   "metadata": {},
   "outputs": [],
   "source": [
    "pred = [0 if i < 0.5 else 1 for i in predict_proba]"
   ]
  },
  {
   "cell_type": "code",
   "execution_count": 11,
   "metadata": {},
   "outputs": [],
   "source": [
    "predict_proba = model.predict(test, num_iteration= model.best_iteration)\n"
   ]
  },
  {
   "cell_type": "code",
   "execution_count": 12,
   "metadata": {},
   "outputs": [],
   "source": [
    "pred = [0 if i < 0.5 else 1 for i in predict_proba]"
   ]
  },
  {
   "cell_type": "code",
   "execution_count": 13,
   "metadata": {},
   "outputs": [],
   "source": [
    "sub = pd.read_csv('../input/sample_submission.csv', header=None)\n"
   ]
  },
  {
   "cell_type": "code",
   "execution_count": 14,
   "metadata": {},
   "outputs": [],
   "source": [
    "sub[1] = pred\n"
   ]
  },
  {
   "cell_type": "code",
   "execution_count": 15,
   "metadata": {},
   "outputs": [
    {
     "data": {
      "text/html": [
       "<div>\n",
       "<style scoped>\n",
       "    .dataframe tbody tr th:only-of-type {\n",
       "        vertical-align: middle;\n",
       "    }\n",
       "\n",
       "    .dataframe tbody tr th {\n",
       "        vertical-align: top;\n",
       "    }\n",
       "\n",
       "    .dataframe thead th {\n",
       "        text-align: right;\n",
       "    }\n",
       "</style>\n",
       "<table border=\"1\" class=\"dataframe\">\n",
       "  <thead>\n",
       "    <tr style=\"text-align: right;\">\n",
       "      <th></th>\n",
       "      <th>0</th>\n",
       "      <th>1</th>\n",
       "    </tr>\n",
       "  </thead>\n",
       "  <tbody>\n",
       "    <tr>\n",
       "      <th>0</th>\n",
       "      <td>machine01_000.wav</td>\n",
       "      <td>0</td>\n",
       "    </tr>\n",
       "    <tr>\n",
       "      <th>1</th>\n",
       "      <td>machine01_001.wav</td>\n",
       "      <td>1</td>\n",
       "    </tr>\n",
       "    <tr>\n",
       "      <th>2</th>\n",
       "      <td>machine01_002.wav</td>\n",
       "      <td>1</td>\n",
       "    </tr>\n",
       "    <tr>\n",
       "      <th>3</th>\n",
       "      <td>machine01_003.wav</td>\n",
       "      <td>0</td>\n",
       "    </tr>\n",
       "    <tr>\n",
       "      <th>4</th>\n",
       "      <td>machine01_004.wav</td>\n",
       "      <td>0</td>\n",
       "    </tr>\n",
       "  </tbody>\n",
       "</table>\n",
       "</div>"
      ],
      "text/plain": [
       "                   0  1\n",
       "0  machine01_000.wav  0\n",
       "1  machine01_001.wav  1\n",
       "2  machine01_002.wav  1\n",
       "3  machine01_003.wav  0\n",
       "4  machine01_004.wav  0"
      ]
     },
     "execution_count": 15,
     "metadata": {},
     "output_type": "execute_result"
    }
   ],
   "source": [
    "sub.head()"
   ]
  },
  {
   "cell_type": "code",
   "execution_count": 28,
   "metadata": {},
   "outputs": [
    {
     "data": {
      "text/plain": [
       "3292"
      ]
     },
     "execution_count": 28,
     "metadata": {},
     "output_type": "execute_result"
    }
   ],
   "source": [
    "len(pred)"
   ]
  },
  {
   "cell_type": "code",
   "execution_count": 16,
   "metadata": {},
   "outputs": [],
   "source": [
    "sub.to_csv('submit.csv', index=False, header=False)\n"
   ]
  },
  {
   "cell_type": "code",
   "execution_count": null,
   "metadata": {},
   "outputs": [],
   "source": []
  }
 ],
 "metadata": {
  "kernelspec": {
   "display_name": "Python 3",
   "language": "python",
   "name": "python3"
  },
  "language_info": {
   "codemirror_mode": {
    "name": "ipython",
    "version": 3
   },
   "file_extension": ".py",
   "mimetype": "text/x-python",
   "name": "python",
   "nbconvert_exporter": "python",
   "pygments_lexer": "ipython3",
   "version": "3.8.5"
  }
 },
 "nbformat": 4,
 "nbformat_minor": 4
}
