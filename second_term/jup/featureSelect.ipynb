{
 "cells": [
  {
   "cell_type": "code",
   "execution_count": 1,
   "metadata": {},
   "outputs": [],
   "source": [
    "import numpy as np\n",
    "import pandas as pd\n",
    "import matplotlib.pyplot as plt\n",
    "import os\n",
    "import glob\n",
    "import librosa\n",
    "\n",
    "files_normaly = sorted(glob.glob(os.path.abspath('../input/train/*/normal/*.wav')))\n",
    "files_anomaly = sorted(glob.glob(os.path.abspath('../input/train/*/anomaly/*.wav')))\n",
    "files_test = sorted(glob.glob(os.path.abspath('../input/test/*.wav')))\n",
    "\n"
   ]
  },
  {
   "cell_type": "code",
   "execution_count": 2,
   "metadata": {},
   "outputs": [],
   "source": [
    "normal = []\n",
    "for file in files_normaly:\n",
    "    y, sr = librosa.load(file, sr=None)\n",
    "    normal.append(y)\n",
    "\n",
    "normal = np.array(normal)\n",
    "\n",
    "anomaly = []\n",
    "for file in files_anomaly:\n",
    "    y, sr = librosa.load(file, sr=None)\n",
    "    anomaly.append(y)\n",
    "anomaly = np.array(anomaly)\n",
    "\n",
    "test = []\n",
    "for file in files_test:\n",
    "    y, sr = librosa.load(file, sr=None)\n",
    "    test.append(y)\n",
    "test = np.array(test)\n",
    "\n"
   ]
  },
  {
   "cell_type": "code",
   "execution_count": 3,
   "metadata": {},
   "outputs": [
    {
     "data": {
      "text/plain": [
       "array([[-23.985783 , -22.303171 , -20.881401 , ..., -19.18052  ,\n",
       "        -18.203428 , -17.370537 ],\n",
       "       [-14.4819565, -12.901993 , -11.989307 , ..., -11.372461 ,\n",
       "        -12.614955 , -14.748705 ],\n",
       "       [-14.655664 , -11.73073  , -12.168055 , ..., -10.024946 ,\n",
       "        -15.040049 , -13.456381 ],\n",
       "       ...,\n",
       "       [-56.362343 , -55.77894  , -54.17509  , ..., -59.090466 ,\n",
       "        -57.41912  , -57.632072 ],\n",
       "       [-57.292118 , -55.758186 , -56.846344 , ..., -59.123962 ,\n",
       "        -57.952023 , -56.26556  ],\n",
       "       [-58.31067  , -58.712772 , -58.112904 , ..., -64.289276 ,\n",
       "        -61.89186  , -60.351463 ]], dtype=float32)"
      ]
     },
     "execution_count": 3,
     "metadata": {},
     "output_type": "execute_result"
    }
   ],
   "source": [
    "melspec_normal = []\n",
    "for n in normal:\n",
    "    m = librosa.feature.melspectrogram(n, n_mels=256)\n",
    "    m = librosa.power_to_db(m).astype(np.float32)\n",
    "    melspec_normal.append(m)\n",
    "melspec_normal = np.array(melspec_normal)\n",
    "\n",
    "melspec_anomaly = []\n",
    "for a in melspec_anomaly:\n",
    "    m = librosa.feature.melspectrogram(a, n_mels=256)\n",
    "    m = librosa.power_to_db(m).astype(np.float32)\n",
    "    melspec_anomaly.append(m)\n",
    "melspec_anomaly = np.array(melspec_anomaly)\n",
    "\n",
    "melspec_test = []\n",
    "for t in test:\n",
    "    m = librosa.feature.melspectrogram(t, n_mels=256)\n",
    "    m = librosa.power_to_db(m).astype(np.float32)\n",
    "    melspec_test.append(m)\n",
    "melspec_test = np.array(melspec_test)\n",
    "\n",
    "melspec_normal[0]"
   ]
  },
  {
   "cell_type": "code",
   "execution_count": 5,
   "metadata": {},
   "outputs": [],
   "source": [
    "import xgboost as xgb\n",
    "\n",
    "from sklearn.ensemble import (RandomForestClassifier, AdaBoostClassifier, \n",
    "                            GradientBoostingClassifier, ExtraTreesClassifier)\n",
    "\n",
    "from sklearn.svm import SVC\n",
    "from sklearn.model_selection import KFold\n",
    "\n"
   ]
  },
  {
   "cell_type": "code",
   "execution_count": 5,
   "metadata": {},
   "outputs": [
    {
     "data": {
      "text/plain": [
       "(1654, 256, 313)"
      ]
     },
     "execution_count": 5,
     "metadata": {},
     "output_type": "execute_result"
    }
   ],
   "source": [
    "melspec_normal.shape"
   ]
  },
  {
   "cell_type": "code",
   "execution_count": 6,
   "metadata": {},
   "outputs": [
    {
     "ename": "ValueError",
     "evalue": "all the input arrays must have same number of dimensions, but the array at index 0 has 3 dimension(s) and the array at index 1 has 1 dimension(s)",
     "output_type": "error",
     "traceback": [
      "\u001b[0;31m---------------------------------------------------------------------------\u001b[0m",
      "\u001b[0;31mValueError\u001b[0m                                Traceback (most recent call last)",
      "\u001b[0;32m<ipython-input-6-806aa293d96b>\u001b[0m in \u001b[0;36m<module>\u001b[0;34m\u001b[0m\n\u001b[0;32m----> 1\u001b[0;31m \u001b[0mtrain\u001b[0m \u001b[0;34m=\u001b[0m \u001b[0mnp\u001b[0m\u001b[0;34m.\u001b[0m\u001b[0mconcatenate\u001b[0m\u001b[0;34m(\u001b[0m\u001b[0;34m[\u001b[0m\u001b[0mmelspec_normal\u001b[0m\u001b[0;34m,\u001b[0m \u001b[0mmelspec_anomaly\u001b[0m\u001b[0;34m]\u001b[0m\u001b[0;34m)\u001b[0m\u001b[0;34m\u001b[0m\u001b[0;34m\u001b[0m\u001b[0m\n\u001b[0m\u001b[1;32m      2\u001b[0m \u001b[0;34m\u001b[0m\u001b[0m\n\u001b[1;32m      3\u001b[0m \u001b[0mtrain\u001b[0m \u001b[0;34m=\u001b[0m \u001b[0mtrain\u001b[0m\u001b[0;34m.\u001b[0m\u001b[0mreshape\u001b[0m\u001b[0;34m(\u001b[0m\u001b[0mtrain\u001b[0m\u001b[0;34m.\u001b[0m\u001b[0mshape\u001b[0m\u001b[0;34m[\u001b[0m\u001b[0;36m0\u001b[0m\u001b[0;34m]\u001b[0m\u001b[0;34m,\u001b[0m\u001b[0;34m-\u001b[0m\u001b[0;36m1\u001b[0m\u001b[0;34m)\u001b[0m\u001b[0;34m\u001b[0m\u001b[0;34m\u001b[0m\u001b[0m\n\u001b[1;32m      4\u001b[0m \u001b[0mtest\u001b[0m \u001b[0;34m=\u001b[0m \u001b[0mmelspec_test\u001b[0m\u001b[0;34m.\u001b[0m\u001b[0mreshape\u001b[0m\u001b[0;34m(\u001b[0m\u001b[0mmelspec_test\u001b[0m\u001b[0;34m.\u001b[0m\u001b[0mshape\u001b[0m\u001b[0;34m[\u001b[0m\u001b[0;36m0\u001b[0m\u001b[0;34m]\u001b[0m\u001b[0;34m,\u001b[0m \u001b[0;34m-\u001b[0m\u001b[0;36m1\u001b[0m\u001b[0;34m)\u001b[0m\u001b[0;34m\u001b[0m\u001b[0;34m\u001b[0m\u001b[0m\n\u001b[1;32m      5\u001b[0m \u001b[0;34m\u001b[0m\u001b[0m\n",
      "\u001b[0;32m<__array_function__ internals>\u001b[0m in \u001b[0;36mconcatenate\u001b[0;34m(*args, **kwargs)\u001b[0m\n",
      "\u001b[0;31mValueError\u001b[0m: all the input arrays must have same number of dimensions, but the array at index 0 has 3 dimension(s) and the array at index 1 has 1 dimension(s)"
     ]
    }
   ],
   "source": [
    "train = np.concatenate([melspec_normal, melspec_anomaly])\n",
    "\n",
    "train = train.reshape(train.shape[0],-1)\n",
    "test = melspec_test.reshape(melspec_test.shape[0], -1)\n",
    "\n",
    "train_Y = np.concatenate([np.zeros(len(melspec_normal)), np.ones(len(melspec_anomaly))])\n"
   ]
  },
  {
   "cell_type": "code",
   "execution_count": null,
   "metadata": {},
   "outputs": [],
   "source": []
  }
 ],
 "metadata": {
  "kernelspec": {
   "display_name": "Python 3",
   "language": "python",
   "name": "python3"
  },
  "language_info": {
   "codemirror_mode": {
    "name": "ipython",
    "version": 3
   },
   "file_extension": ".py",
   "mimetype": "text/x-python",
   "name": "python",
   "nbconvert_exporter": "python",
   "pygments_lexer": "ipython3",
   "version": "3.8.5"
  }
 },
 "nbformat": 4,
 "nbformat_minor": 4
}
