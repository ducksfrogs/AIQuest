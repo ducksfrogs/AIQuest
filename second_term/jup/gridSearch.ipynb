{
 "cells": [
  {
   "cell_type": "code",
   "execution_count": 1,
   "metadata": {},
   "outputs": [],
   "source": [
    "import numpy as np\n",
    "import pandas as pd\n",
    "import matplotlib.pyplot as plt\n",
    "\n",
    "from sklearn.datasets import load_breast_cancer\n",
    "from sklearn.model_selection import train_test_split\n"
   ]
  },
  {
   "cell_type": "code",
   "execution_count": 2,
   "metadata": {},
   "outputs": [],
   "source": [
    "data = load_breast_cancer()\n",
    "\n",
    "X = data.data\n",
    "y = data.target\n"
   ]
  },
  {
   "cell_type": "code",
   "execution_count": 3,
   "metadata": {},
   "outputs": [
    {
     "data": {
      "text/plain": [
       "array(['mean radius', 'mean texture', 'mean perimeter', 'mean area',\n",
       "       'mean smoothness', 'mean compactness', 'mean concavity',\n",
       "       'mean concave points', 'mean symmetry', 'mean fractal dimension',\n",
       "       'radius error', 'texture error', 'perimeter error', 'area error',\n",
       "       'smoothness error', 'compactness error', 'concavity error',\n",
       "       'concave points error', 'symmetry error',\n",
       "       'fractal dimension error', 'worst radius', 'worst texture',\n",
       "       'worst perimeter', 'worst area', 'worst smoothness',\n",
       "       'worst compactness', 'worst concavity', 'worst concave points',\n",
       "       'worst symmetry', 'worst fractal dimension'], dtype='<U23')"
      ]
     },
     "execution_count": 3,
     "metadata": {},
     "output_type": "execute_result"
    }
   ],
   "source": [
    "data.feature_names"
   ]
  },
  {
   "cell_type": "code",
   "execution_count": 4,
   "metadata": {},
   "outputs": [],
   "source": [
    "X = pd.DataFrame(X, columns=data.feature_names)"
   ]
  },
  {
   "cell_type": "code",
   "execution_count": 5,
   "metadata": {},
   "outputs": [
    {
     "data": {
      "text/html": [
       "<div>\n",
       "<style scoped>\n",
       "    .dataframe tbody tr th:only-of-type {\n",
       "        vertical-align: middle;\n",
       "    }\n",
       "\n",
       "    .dataframe tbody tr th {\n",
       "        vertical-align: top;\n",
       "    }\n",
       "\n",
       "    .dataframe thead th {\n",
       "        text-align: right;\n",
       "    }\n",
       "</style>\n",
       "<table border=\"1\" class=\"dataframe\">\n",
       "  <thead>\n",
       "    <tr style=\"text-align: right;\">\n",
       "      <th></th>\n",
       "      <th>mean radius</th>\n",
       "      <th>mean texture</th>\n",
       "      <th>mean perimeter</th>\n",
       "      <th>mean area</th>\n",
       "      <th>mean smoothness</th>\n",
       "      <th>mean compactness</th>\n",
       "      <th>mean concavity</th>\n",
       "      <th>mean concave points</th>\n",
       "      <th>mean symmetry</th>\n",
       "      <th>mean fractal dimension</th>\n",
       "      <th>...</th>\n",
       "      <th>worst radius</th>\n",
       "      <th>worst texture</th>\n",
       "      <th>worst perimeter</th>\n",
       "      <th>worst area</th>\n",
       "      <th>worst smoothness</th>\n",
       "      <th>worst compactness</th>\n",
       "      <th>worst concavity</th>\n",
       "      <th>worst concave points</th>\n",
       "      <th>worst symmetry</th>\n",
       "      <th>worst fractal dimension</th>\n",
       "    </tr>\n",
       "  </thead>\n",
       "  <tbody>\n",
       "    <tr>\n",
       "      <th>0</th>\n",
       "      <td>17.99</td>\n",
       "      <td>10.38</td>\n",
       "      <td>122.80</td>\n",
       "      <td>1001.0</td>\n",
       "      <td>0.11840</td>\n",
       "      <td>0.27760</td>\n",
       "      <td>0.3001</td>\n",
       "      <td>0.14710</td>\n",
       "      <td>0.2419</td>\n",
       "      <td>0.07871</td>\n",
       "      <td>...</td>\n",
       "      <td>25.38</td>\n",
       "      <td>17.33</td>\n",
       "      <td>184.60</td>\n",
       "      <td>2019.0</td>\n",
       "      <td>0.1622</td>\n",
       "      <td>0.6656</td>\n",
       "      <td>0.7119</td>\n",
       "      <td>0.2654</td>\n",
       "      <td>0.4601</td>\n",
       "      <td>0.11890</td>\n",
       "    </tr>\n",
       "    <tr>\n",
       "      <th>1</th>\n",
       "      <td>20.57</td>\n",
       "      <td>17.77</td>\n",
       "      <td>132.90</td>\n",
       "      <td>1326.0</td>\n",
       "      <td>0.08474</td>\n",
       "      <td>0.07864</td>\n",
       "      <td>0.0869</td>\n",
       "      <td>0.07017</td>\n",
       "      <td>0.1812</td>\n",
       "      <td>0.05667</td>\n",
       "      <td>...</td>\n",
       "      <td>24.99</td>\n",
       "      <td>23.41</td>\n",
       "      <td>158.80</td>\n",
       "      <td>1956.0</td>\n",
       "      <td>0.1238</td>\n",
       "      <td>0.1866</td>\n",
       "      <td>0.2416</td>\n",
       "      <td>0.1860</td>\n",
       "      <td>0.2750</td>\n",
       "      <td>0.08902</td>\n",
       "    </tr>\n",
       "    <tr>\n",
       "      <th>2</th>\n",
       "      <td>19.69</td>\n",
       "      <td>21.25</td>\n",
       "      <td>130.00</td>\n",
       "      <td>1203.0</td>\n",
       "      <td>0.10960</td>\n",
       "      <td>0.15990</td>\n",
       "      <td>0.1974</td>\n",
       "      <td>0.12790</td>\n",
       "      <td>0.2069</td>\n",
       "      <td>0.05999</td>\n",
       "      <td>...</td>\n",
       "      <td>23.57</td>\n",
       "      <td>25.53</td>\n",
       "      <td>152.50</td>\n",
       "      <td>1709.0</td>\n",
       "      <td>0.1444</td>\n",
       "      <td>0.4245</td>\n",
       "      <td>0.4504</td>\n",
       "      <td>0.2430</td>\n",
       "      <td>0.3613</td>\n",
       "      <td>0.08758</td>\n",
       "    </tr>\n",
       "    <tr>\n",
       "      <th>3</th>\n",
       "      <td>11.42</td>\n",
       "      <td>20.38</td>\n",
       "      <td>77.58</td>\n",
       "      <td>386.1</td>\n",
       "      <td>0.14250</td>\n",
       "      <td>0.28390</td>\n",
       "      <td>0.2414</td>\n",
       "      <td>0.10520</td>\n",
       "      <td>0.2597</td>\n",
       "      <td>0.09744</td>\n",
       "      <td>...</td>\n",
       "      <td>14.91</td>\n",
       "      <td>26.50</td>\n",
       "      <td>98.87</td>\n",
       "      <td>567.7</td>\n",
       "      <td>0.2098</td>\n",
       "      <td>0.8663</td>\n",
       "      <td>0.6869</td>\n",
       "      <td>0.2575</td>\n",
       "      <td>0.6638</td>\n",
       "      <td>0.17300</td>\n",
       "    </tr>\n",
       "    <tr>\n",
       "      <th>4</th>\n",
       "      <td>20.29</td>\n",
       "      <td>14.34</td>\n",
       "      <td>135.10</td>\n",
       "      <td>1297.0</td>\n",
       "      <td>0.10030</td>\n",
       "      <td>0.13280</td>\n",
       "      <td>0.1980</td>\n",
       "      <td>0.10430</td>\n",
       "      <td>0.1809</td>\n",
       "      <td>0.05883</td>\n",
       "      <td>...</td>\n",
       "      <td>22.54</td>\n",
       "      <td>16.67</td>\n",
       "      <td>152.20</td>\n",
       "      <td>1575.0</td>\n",
       "      <td>0.1374</td>\n",
       "      <td>0.2050</td>\n",
       "      <td>0.4000</td>\n",
       "      <td>0.1625</td>\n",
       "      <td>0.2364</td>\n",
       "      <td>0.07678</td>\n",
       "    </tr>\n",
       "  </tbody>\n",
       "</table>\n",
       "<p>5 rows × 30 columns</p>\n",
       "</div>"
      ],
      "text/plain": [
       "   mean radius  mean texture  mean perimeter  mean area  mean smoothness  \\\n",
       "0        17.99         10.38          122.80     1001.0          0.11840   \n",
       "1        20.57         17.77          132.90     1326.0          0.08474   \n",
       "2        19.69         21.25          130.00     1203.0          0.10960   \n",
       "3        11.42         20.38           77.58      386.1          0.14250   \n",
       "4        20.29         14.34          135.10     1297.0          0.10030   \n",
       "\n",
       "   mean compactness  mean concavity  mean concave points  mean symmetry  \\\n",
       "0           0.27760          0.3001              0.14710         0.2419   \n",
       "1           0.07864          0.0869              0.07017         0.1812   \n",
       "2           0.15990          0.1974              0.12790         0.2069   \n",
       "3           0.28390          0.2414              0.10520         0.2597   \n",
       "4           0.13280          0.1980              0.10430         0.1809   \n",
       "\n",
       "   mean fractal dimension  ...  worst radius  worst texture  worst perimeter  \\\n",
       "0                 0.07871  ...         25.38          17.33           184.60   \n",
       "1                 0.05667  ...         24.99          23.41           158.80   \n",
       "2                 0.05999  ...         23.57          25.53           152.50   \n",
       "3                 0.09744  ...         14.91          26.50            98.87   \n",
       "4                 0.05883  ...         22.54          16.67           152.20   \n",
       "\n",
       "   worst area  worst smoothness  worst compactness  worst concavity  \\\n",
       "0      2019.0            0.1622             0.6656           0.7119   \n",
       "1      1956.0            0.1238             0.1866           0.2416   \n",
       "2      1709.0            0.1444             0.4245           0.4504   \n",
       "3       567.7            0.2098             0.8663           0.6869   \n",
       "4      1575.0            0.1374             0.2050           0.4000   \n",
       "\n",
       "   worst concave points  worst symmetry  worst fractal dimension  \n",
       "0                0.2654          0.4601                  0.11890  \n",
       "1                0.1860          0.2750                  0.08902  \n",
       "2                0.2430          0.3613                  0.08758  \n",
       "3                0.2575          0.6638                  0.17300  \n",
       "4                0.1625          0.2364                  0.07678  \n",
       "\n",
       "[5 rows x 30 columns]"
      ]
     },
     "execution_count": 5,
     "metadata": {},
     "output_type": "execute_result"
    }
   ],
   "source": [
    "X.head()"
   ]
  },
  {
   "cell_type": "code",
   "execution_count": 6,
   "metadata": {},
   "outputs": [],
   "source": [
    "X_train, X_test, y_train, y_test = train_test_split(X, y, random_state=42, test_size=0.2)\n"
   ]
  },
  {
   "cell_type": "code",
   "execution_count": 7,
   "metadata": {},
   "outputs": [
    {
     "data": {
      "text/plain": [
       "(455, 30)"
      ]
     },
     "execution_count": 7,
     "metadata": {},
     "output_type": "execute_result"
    }
   ],
   "source": [
    "X_train.shape"
   ]
  },
  {
   "cell_type": "code",
   "execution_count": 8,
   "metadata": {},
   "outputs": [
    {
     "data": {
      "text/plain": [
       "(569, 30)"
      ]
     },
     "execution_count": 8,
     "metadata": {},
     "output_type": "execute_result"
    }
   ],
   "source": [
    "X.shape"
   ]
  },
  {
   "cell_type": "code",
   "execution_count": 9,
   "metadata": {},
   "outputs": [],
   "source": [
    "from sklearn.preprocessing import MinMaxScaler\n",
    "\n",
    "scaler = MinMaxScaler()\n",
    "scaler.fit(X_train)\n",
    "X_train = scaler.transform(X_train)\n",
    "X_test = scaler.transform(X_test)\n"
   ]
  },
  {
   "cell_type": "code",
   "execution_count": 10,
   "metadata": {},
   "outputs": [],
   "source": [
    "from sklearn.linear_model import LogisticRegression\n",
    "clf = LogisticRegression(max_iter=10000)\n"
   ]
  },
  {
   "cell_type": "code",
   "execution_count": 11,
   "metadata": {},
   "outputs": [
    {
     "data": {
      "text/plain": [
       "LogisticRegression(max_iter=10000)"
      ]
     },
     "execution_count": 11,
     "metadata": {},
     "output_type": "execute_result"
    }
   ],
   "source": [
    "clf.fit(X_train, y_train)"
   ]
  },
  {
   "cell_type": "code",
   "execution_count": 12,
   "metadata": {},
   "outputs": [
    {
     "data": {
      "text/plain": [
       "0.9824561403508771"
      ]
     },
     "execution_count": 12,
     "metadata": {},
     "output_type": "execute_result"
    }
   ],
   "source": [
    "clf.score(X_test, y_test)"
   ]
  },
  {
   "cell_type": "code",
   "execution_count": 13,
   "metadata": {},
   "outputs": [],
   "source": [
    "C_range_exp = np.arange(-15.0, 21.0)\n",
    "C_range = 10 ** C_range_exp\n"
   ]
  },
  {
   "cell_type": "code",
   "execution_count": 14,
   "metadata": {},
   "outputs": [
    {
     "data": {
      "text/plain": [
       "array([1.e-15, 1.e-14, 1.e-13, 1.e-12, 1.e-11, 1.e-10, 1.e-09, 1.e-08,\n",
       "       1.e-07, 1.e-06, 1.e-05, 1.e-04, 1.e-03, 1.e-02, 1.e-01, 1.e+00,\n",
       "       1.e+01, 1.e+02, 1.e+03, 1.e+04, 1.e+05, 1.e+06, 1.e+07, 1.e+08,\n",
       "       1.e+09, 1.e+10, 1.e+11, 1.e+12, 1.e+13, 1.e+14, 1.e+15, 1.e+16,\n",
       "       1.e+17, 1.e+18, 1.e+19, 1.e+20])"
      ]
     },
     "execution_count": 14,
     "metadata": {},
     "output_type": "execute_result"
    }
   ],
   "source": [
    "C_range"
   ]
  },
  {
   "cell_type": "code",
   "execution_count": 15,
   "metadata": {},
   "outputs": [
    {
     "data": {
      "text/plain": [
       "GridSearchCV(estimator=LogisticRegression(max_iter=10000),\n",
       "             param_grid={'C': array([1.e-15, 1.e-14, 1.e-13, 1.e-12, 1.e-11, 1.e-10, 1.e-09, 1.e-08,\n",
       "       1.e-07, 1.e-06, 1.e-05, 1.e-04, 1.e-03, 1.e-02, 1.e-01, 1.e+00,\n",
       "       1.e+01, 1.e+02, 1.e+03, 1.e+04, 1.e+05, 1.e+06, 1.e+07, 1.e+08,\n",
       "       1.e+09, 1.e+10, 1.e+11, 1.e+12, 1.e+13, 1.e+14, 1.e+15, 1.e+16,\n",
       "       1.e+17, 1.e+18, 1.e+19, 1.e+20])})"
      ]
     },
     "execution_count": 15,
     "metadata": {},
     "output_type": "execute_result"
    }
   ],
   "source": [
    "from sklearn.model_selection import GridSearchCV\n",
    "param = {'C' : C_range}\n",
    "gs = GridSearchCV(clf, param)\n",
    "gs.fit(X_train, y_train)\n"
   ]
  },
  {
   "cell_type": "code",
   "execution_count": 16,
   "metadata": {},
   "outputs": [
    {
     "data": {
      "text/plain": [
       "LogisticRegression(C=10.0, max_iter=10000)"
      ]
     },
     "execution_count": 16,
     "metadata": {},
     "output_type": "execute_result"
    }
   ],
   "source": [
    "gs.best_estimator_"
   ]
  },
  {
   "cell_type": "code",
   "execution_count": 17,
   "metadata": {},
   "outputs": [
    {
     "data": {
      "text/plain": [
       "array([-15., -14., -13., -12., -11., -10.,  -9.,  -8.,  -7.,  -6.,  -5.,\n",
       "        -4.,  -3.,  -2.,  -1.,   0.,   1.,   2.,   3.,   4.,   5.,   6.,\n",
       "         7.,   8.,   9.,  10.,  11.,  12.,  13.,  14.,  15.,  16.,  17.,\n",
       "        18.,  19.,  20.])"
      ]
     },
     "execution_count": 17,
     "metadata": {},
     "output_type": "execute_result"
    }
   ],
   "source": [
    "C_range_exp"
   ]
  },
  {
   "cell_type": "code",
   "execution_count": 18,
   "metadata": {},
   "outputs": [
    {
     "data": {
      "text/plain": [
       "{'mean_fit_time': array([0.00310483, 0.00250311, 0.00193048, 0.00225763, 0.00200062,\n",
       "        0.00175552, 0.00596194, 0.00657921, 0.00506253, 0.00468912,\n",
       "        0.00409441, 0.00381618, 0.00345335, 0.00332642, 0.00400376,\n",
       "        0.00701499, 0.01179123, 0.02375798, 0.05063787, 0.1001471 ,\n",
       "        0.14132414, 0.15186534, 0.09581723, 0.0516623 , 0.02719445,\n",
       "        0.019487  , 0.01937551, 0.02009974, 0.01987906, 0.01941023,\n",
       "        0.01924739, 0.01948609, 0.01905532, 0.0201355 , 0.01898289,\n",
       "        0.01933374]),\n",
       " 'std_fit_time': array([1.35364117e-04, 5.08845249e-04, 5.58378145e-05, 4.33769184e-04,\n",
       "        5.25507809e-04, 6.82259499e-05, 5.22561780e-04, 8.08081392e-04,\n",
       "        2.83761518e-04, 1.07613875e-04, 7.41339023e-05, 9.08047950e-05,\n",
       "        1.74159744e-04, 1.08120131e-04, 7.99358867e-05, 6.96931837e-04,\n",
       "        1.62130269e-03, 3.19747967e-03, 4.84065280e-03, 2.37267651e-02,\n",
       "        5.99378884e-02, 7.51021463e-02, 5.01412139e-02, 2.86545932e-02,\n",
       "        9.82799151e-03, 6.46905766e-03, 6.40670530e-03, 7.04704790e-03,\n",
       "        7.07794757e-03, 6.55589618e-03, 6.44880013e-03, 6.61305661e-03,\n",
       "        6.25986435e-03, 7.39525602e-03, 6.17941380e-03, 6.47692643e-03]),\n",
       " 'mean_score_time': array([0.00057955, 0.00038753, 0.00035305, 0.00047622, 0.00034499,\n",
       "        0.00033021, 0.00036979, 0.00033274, 0.00035825, 0.00030813,\n",
       "        0.00030828, 0.00030074, 0.00031009, 0.00030789, 0.00030737,\n",
       "        0.00029883, 0.00030012, 0.00029931, 0.000318  , 0.00033407,\n",
       "        0.00032578, 0.0003315 , 0.00031037, 0.00031395, 0.00030241,\n",
       "        0.00031118, 0.00031786, 0.0003243 , 0.00032115, 0.00032425,\n",
       "        0.00029888, 0.00030255, 0.00029783, 0.00031133, 0.00030503,\n",
       "        0.00030174]),\n",
       " 'std_score_time': array([3.57794405e-05, 5.76520774e-05, 2.17269322e-05, 1.94616552e-04,\n",
       "        3.98200427e-05, 3.57634226e-05, 1.26311904e-04, 2.47944318e-05,\n",
       "        7.64629757e-05, 8.65640043e-06, 1.24289048e-05, 7.07681607e-06,\n",
       "        2.23170997e-05, 1.48968690e-06, 1.08729329e-05, 8.80742886e-06,\n",
       "        6.75764226e-06, 3.68308478e-06, 2.47617638e-05, 2.67719330e-05,\n",
       "        2.53341926e-05, 1.64468041e-05, 9.54675149e-06, 1.15709427e-05,\n",
       "        7.91118688e-06, 8.70329054e-06, 2.83982050e-05, 3.17755352e-05,\n",
       "        2.51673369e-05, 2.28120611e-05, 6.83326115e-06, 5.38002499e-06,\n",
       "        3.22843759e-06, 3.00196922e-05, 9.58976312e-06, 6.10761207e-06]),\n",
       " 'param_C': masked_array(data=[1e-15, 1e-14, 1e-13, 1e-12, 1e-11, 1e-10, 1e-09, 1e-08,\n",
       "                    1e-07, 1e-06, 1e-05, 0.0001, 0.001, 0.01, 0.1, 1.0,\n",
       "                    10.0, 100.0, 1000.0, 10000.0, 100000.0, 1000000.0,\n",
       "                    10000000.0, 100000000.0, 1000000000.0, 10000000000.0,\n",
       "                    100000000000.0, 1000000000000.0, 10000000000000.0,\n",
       "                    100000000000000.0, 1000000000000000.0, 1e+16, 1e+17,\n",
       "                    1e+18, 1e+19, 1e+20],\n",
       "              mask=[False, False, False, False, False, False, False, False,\n",
       "                    False, False, False, False, False, False, False, False,\n",
       "                    False, False, False, False, False, False, False, False,\n",
       "                    False, False, False, False, False, False, False, False,\n",
       "                    False, False, False, False],\n",
       "        fill_value='?',\n",
       "             dtype=object),\n",
       " 'params': [{'C': 1e-15},\n",
       "  {'C': 1e-14},\n",
       "  {'C': 1e-13},\n",
       "  {'C': 1e-12},\n",
       "  {'C': 1e-11},\n",
       "  {'C': 1e-10},\n",
       "  {'C': 1e-09},\n",
       "  {'C': 1e-08},\n",
       "  {'C': 1e-07},\n",
       "  {'C': 1e-06},\n",
       "  {'C': 1e-05},\n",
       "  {'C': 0.0001},\n",
       "  {'C': 0.001},\n",
       "  {'C': 0.01},\n",
       "  {'C': 0.1},\n",
       "  {'C': 1.0},\n",
       "  {'C': 10.0},\n",
       "  {'C': 100.0},\n",
       "  {'C': 1000.0},\n",
       "  {'C': 10000.0},\n",
       "  {'C': 100000.0},\n",
       "  {'C': 1000000.0},\n",
       "  {'C': 10000000.0},\n",
       "  {'C': 100000000.0},\n",
       "  {'C': 1000000000.0},\n",
       "  {'C': 10000000000.0},\n",
       "  {'C': 100000000000.0},\n",
       "  {'C': 1000000000000.0},\n",
       "  {'C': 10000000000000.0},\n",
       "  {'C': 100000000000000.0},\n",
       "  {'C': 1000000000000000.0},\n",
       "  {'C': 1e+16},\n",
       "  {'C': 1e+17},\n",
       "  {'C': 1e+18},\n",
       "  {'C': 1e+19},\n",
       "  {'C': 1e+20}],\n",
       " 'split0_test_score': array([0.65934066, 0.65934066, 0.65934066, 0.65934066, 0.65934066,\n",
       "        0.65934066, 0.63736264, 0.63736264, 0.63736264, 0.63736264,\n",
       "        0.63736264, 0.63736264, 0.63736264, 0.75824176, 0.92307692,\n",
       "        0.96703297, 0.98901099, 0.97802198, 0.97802198, 0.94505495,\n",
       "        0.94505495, 0.94505495, 0.95604396, 0.93406593, 0.93406593,\n",
       "        0.93406593, 0.93406593, 0.93406593, 0.93406593, 0.93406593,\n",
       "        0.93406593, 0.93406593, 0.93406593, 0.93406593, 0.93406593,\n",
       "        0.93406593]),\n",
       " 'split1_test_score': array([0.64835165, 0.64835165, 0.64835165, 0.64835165, 0.64835165,\n",
       "        0.64835165, 0.62637363, 0.62637363, 0.62637363, 0.62637363,\n",
       "        0.62637363, 0.62637363, 0.62637363, 0.71428571, 0.91208791,\n",
       "        0.95604396, 0.96703297, 0.97802198, 0.96703297, 0.94505495,\n",
       "        0.93406593, 0.93406593, 0.95604396, 0.94505495, 0.94505495,\n",
       "        0.94505495, 0.94505495, 0.94505495, 0.94505495, 0.94505495,\n",
       "        0.94505495, 0.94505495, 0.94505495, 0.94505495, 0.94505495,\n",
       "        0.94505495]),\n",
       " 'split2_test_score': array([0.64835165, 0.64835165, 0.64835165, 0.64835165, 0.64835165,\n",
       "        0.64835165, 0.62637363, 0.62637363, 0.62637363, 0.62637363,\n",
       "        0.62637363, 0.62637363, 0.62637363, 0.73626374, 0.95604396,\n",
       "        0.98901099, 0.97802198, 0.98901099, 1.        , 1.        ,\n",
       "        1.        , 1.        , 1.        , 0.98901099, 1.        ,\n",
       "        1.        , 0.98901099, 0.98901099, 0.98901099, 1.        ,\n",
       "        1.        , 1.        , 1.        , 1.        , 1.        ,\n",
       "        1.        ]),\n",
       " 'split3_test_score': array([0.62637363, 0.62637363, 0.62637363, 0.62637363, 0.62637363,\n",
       "        0.62637363, 0.62637363, 0.62637363, 0.62637363, 0.62637363,\n",
       "        0.62637363, 0.62637363, 0.62637363, 0.67032967, 0.93406593,\n",
       "        0.94505495, 0.97802198, 0.97802198, 0.97802198, 0.96703297,\n",
       "        0.95604396, 0.94505495, 0.95604396, 0.97802198, 0.96703297,\n",
       "        0.96703297, 0.96703297, 0.97802198, 0.96703297, 0.96703297,\n",
       "        0.97802198, 0.96703297, 0.96703297, 0.97802198, 0.97802198,\n",
       "        0.97802198]),\n",
       " 'split4_test_score': array([0.67032967, 0.67032967, 0.67032967, 0.67032967, 0.67032967,\n",
       "        0.67032967, 0.62637363, 0.62637363, 0.62637363, 0.62637363,\n",
       "        0.62637363, 0.62637363, 0.62637363, 0.71428571, 0.91208791,\n",
       "        0.94505495, 0.95604396, 0.93406593, 0.94505495, 0.94505495,\n",
       "        0.94505495, 0.94505495, 0.94505495, 0.93406593, 0.93406593,\n",
       "        0.93406593, 0.93406593, 0.93406593, 0.93406593, 0.93406593,\n",
       "        0.93406593, 0.93406593, 0.93406593, 0.93406593, 0.93406593,\n",
       "        0.93406593]),\n",
       " 'mean_test_score': array([0.65054945, 0.65054945, 0.65054945, 0.65054945, 0.65054945,\n",
       "        0.65054945, 0.62857143, 0.62857143, 0.62857143, 0.62857143,\n",
       "        0.62857143, 0.62857143, 0.62857143, 0.71868132, 0.92747253,\n",
       "        0.96043956, 0.97362637, 0.97142857, 0.97362637, 0.96043956,\n",
       "        0.95604396, 0.95384615, 0.96263736, 0.95604396, 0.95604396,\n",
       "        0.95604396, 0.95384615, 0.95604396, 0.95384615, 0.95604396,\n",
       "        0.95824176, 0.95604396, 0.95604396, 0.95824176, 0.95824176,\n",
       "        0.95824176]),\n",
       " 'std_test_score': array([0.01457857, 0.01457857, 0.01457857, 0.01457857, 0.01457857,\n",
       "        0.01457857, 0.0043956 , 0.0043956 , 0.0043956 , 0.0043956 ,\n",
       "        0.0043956 , 0.0043956 , 0.0043956 , 0.02915714, 0.01644685,\n",
       "        0.01644685, 0.01120664, 0.01916   , 0.01785503, 0.02153398,\n",
       "        0.02305074, 0.02346611, 0.01916   , 0.02305074, 0.0250588 ,\n",
       "        0.0250588 , 0.02130848, 0.02305074, 0.02130848, 0.0250588 ,\n",
       "        0.02637363, 0.0250588 , 0.0250588 , 0.02637363, 0.02637363,\n",
       "        0.02637363]),\n",
       " 'rank_test_score': array([24, 24, 24, 24, 24, 24, 30, 30, 30, 30, 30, 30, 30, 23, 22,  5,  1,\n",
       "         3,  1,  6, 11, 19,  4, 11, 11, 11, 19, 11, 19, 11,  7, 11, 11,  7,\n",
       "         7,  7], dtype=int32)}"
      ]
     },
     "execution_count": 18,
     "metadata": {},
     "output_type": "execute_result"
    }
   ],
   "source": [
    "gs.cv_results_"
   ]
  },
  {
   "cell_type": "code",
   "execution_count": 19,
   "metadata": {},
   "outputs": [
    {
     "data": {
      "text/plain": [
       "({'C': 10.0}, 0.9736263736263737, LogisticRegression(C=10.0, max_iter=10000))"
      ]
     },
     "execution_count": 19,
     "metadata": {},
     "output_type": "execute_result"
    }
   ],
   "source": [
    "gs.best_params_,gs.best_score_,gs.best_estimator_\n"
   ]
  },
  {
   "cell_type": "code",
   "execution_count": 20,
   "metadata": {},
   "outputs": [
    {
     "data": {
      "text/plain": [
       "LogisticRegression(C=10.0, max_iter=10000)"
      ]
     },
     "execution_count": 20,
     "metadata": {},
     "output_type": "execute_result"
    }
   ],
   "source": [
    "gs.best_estimator_"
   ]
  },
  {
   "cell_type": "code",
   "execution_count": 21,
   "metadata": {},
   "outputs": [
    {
     "data": {
      "text/plain": [
       "0.9736842105263158"
      ]
     },
     "execution_count": 21,
     "metadata": {},
     "output_type": "execute_result"
    }
   ],
   "source": [
    "gs.score(X_test, y_test)"
   ]
  },
  {
   "cell_type": "code",
   "execution_count": 22,
   "metadata": {},
   "outputs": [
    {
     "data": {
      "text/plain": [
       "0.9736842105263158"
      ]
     },
     "execution_count": 22,
     "metadata": {},
     "output_type": "execute_result"
    }
   ],
   "source": [
    "clf_best = gs.best_estimator_\n",
    "#clf_best.fit(X_train, y_train)\n",
    "clf_best.score(X_test, y_test)\n"
   ]
  },
  {
   "cell_type": "code",
   "execution_count": 23,
   "metadata": {},
   "outputs": [
    {
     "data": {
      "image/png": "[encoded data removed]",
      "text/plain": [
       "<Figure size 432x288 with 1 Axes>"
      ]
     },
     "metadata": {
      "needs_background": "light"
     },
     "output_type": "display_data"
    }
   ],
   "source": [
    "plt.errorbar(gs.cv_results_['param_C'].data,\n",
    "             gs.cv_results_['mean_test_score'],\n",
    "             yerr=gs.cv_results_['std_test_score'],\n",
    "             label='test(val)')\n",
    "plt.ylim(0.6, 1.01)\n",
    "plt.xscale('log')"
   ]
  },
  {
   "cell_type": "code",
   "execution_count": 24,
   "metadata": {},
   "outputs": [
    {
     "data": {
      "image/png": "[encoded data removed]",
      "text/plain": [
       "<Figure size 432x288 with 1 Axes>"
      ]
     },
     "metadata": {
      "needs_background": "light"
     },
     "output_type": "display_data"
    }
   ],
   "source": [
    "plt.errorbar(gs.cv_results_['param_C'].data,\n",
    "             gs.cv_results_['mean_fit_time'],\n",
    "             yerr=gs.cv_results_['std_fit_time'],label='train')\n",
    "\n",
    "plt.errorbar(gs.cv_results_['param_C'].data,\n",
    "             gs.cv_results_['mean_score_time'],\n",
    "             yerr=gs.cv_results_['std_score_time'],\n",
    "             label='test')\n",
    "\n",
    "plt.ylim(0,)\n",
    "plt.xscale('log')\n",
    "\n"
   ]
  },
  {
   "cell_type": "code",
   "execution_count": 25,
   "metadata": {},
   "outputs": [
    {
     "name": "stdout",
     "output_type": "stream",
     "text": [
      "Fitting 5 folds for each of 14 candidates, totalling 70 fits\n"
     ]
    },
    {
     "name": "stderr",
     "output_type": "stream",
     "text": [
      "[Parallel(n_jobs=-1)]: Using backend LokyBackend with 8 concurrent workers.\n",
      "[Parallel(n_jobs=-1)]: Done  25 tasks      | elapsed:    1.3s\n",
      "[Parallel(n_jobs=-1)]: Done  55 out of  70 | elapsed:    1.4s remaining:    0.4s\n",
      "[Parallel(n_jobs=-1)]: Done  70 out of  70 | elapsed:    1.4s finished\n"
     ]
    },
    {
     "data": {
      "text/plain": [
       "GridSearchCV(estimator=SVC(), n_jobs=-1,\n",
       "             param_grid=({'C': array([1.e-02, 1.e-01, 1.e+00, 1.e+01, 1.e+02, 1.e+03, 1.e+04]),\n",
       "                          'kernel': ['linear', 'rbf']},),\n",
       "             verbose=2)"
      ]
     },
     "execution_count": 25,
     "metadata": {},
     "output_type": "execute_result"
    }
   ],
   "source": [
    "from sklearn.svm import SVC\n",
    "\n",
    "clf = SVC()\n",
    "\n",
    "C_range_exp = np.arange(-2.0, 5.0)\n",
    "C_range = 10 ** C_range_exp\n",
    "\n",
    "params = {'C': C_range, 'kernel': ['linear','rbf']},\n",
    "\n",
    "\n",
    "gs = GridSearchCV(clf, params, n_jobs=-1, verbose=2)\n",
    "gs.fit(X_train, y_train)\n"
   ]
  },
  {
   "cell_type": "code",
   "execution_count": 26,
   "metadata": {},
   "outputs": [
    {
     "data": {
      "text/plain": [
       "{'C': 1.0, 'kernel': 'rbf'}"
      ]
     },
     "execution_count": 26,
     "metadata": {},
     "output_type": "execute_result"
    }
   ],
   "source": [
    "gs.best_params_"
   ]
  },
  {
   "cell_type": "code",
   "execution_count": 27,
   "metadata": {},
   "outputs": [
    {
     "data": {
      "text/plain": [
       "0.9802197802197803"
      ]
     },
     "execution_count": 27,
     "metadata": {},
     "output_type": "execute_result"
    }
   ],
   "source": [
    "gs.best_score_"
   ]
  },
  {
   "cell_type": "code",
   "execution_count": 28,
   "metadata": {},
   "outputs": [
    {
     "data": {
      "text/plain": [
       "SVC()"
      ]
     },
     "execution_count": 28,
     "metadata": {},
     "output_type": "execute_result"
    }
   ],
   "source": [
    "gs.best_estimator_"
   ]
  },
  {
   "cell_type": "code",
   "execution_count": 29,
   "metadata": {},
   "outputs": [
    {
     "data": {
      "text/plain": [
       "{'mean_fit_time': array([0.00828652, 0.01126189, 0.00475512, 0.01123652, 0.00429454,\n",
       "        0.00484729, 0.00330515, 0.00433679, 0.00479016, 0.00439754,\n",
       "        0.01034708, 0.00433707, 0.01193824, 0.0046145 ]),\n",
       " 'std_fit_time': array([7.76384615e-05, 6.36784049e-04, 1.76304799e-04, 7.75319802e-03,\n",
       "        1.94973825e-03, 5.38165608e-04, 4.31425976e-04, 6.60382373e-04,\n",
       "        1.09925363e-03, 5.17131835e-04, 6.61535258e-03, 5.70337269e-04,\n",
       "        4.99726143e-03, 2.66410529e-04]),\n",
       " 'mean_score_time': array([0.00221205, 0.00289764, 0.0017765 , 0.00181174, 0.00116878,\n",
       "        0.00246415, 0.00085096, 0.00098534, 0.00074053, 0.00095906,\n",
       "        0.00077996, 0.00101166, 0.00059481, 0.00098791]),\n",
       " 'std_score_time': array([1.82643384e-04, 1.98223598e-04, 8.84888909e-04, 5.28612219e-05,\n",
       "        3.31245955e-04, 2.37439415e-03, 2.02576588e-04, 1.53392474e-04,\n",
       "        1.34481859e-04, 1.34098834e-04, 9.64043512e-05, 7.10774370e-05,\n",
       "        1.51944772e-04, 1.64370313e-04]),\n",
       " 'param_C': masked_array(data=[0.01, 0.01, 0.1, 0.1, 1.0, 1.0, 10.0, 10.0, 100.0,\n",
       "                    100.0, 1000.0, 1000.0, 10000.0, 10000.0],\n",
       "              mask=[False, False, False, False, False, False, False, False,\n",
       "                    False, False, False, False, False, False],\n",
       "        fill_value='?',\n",
       "             dtype=object),\n",
       " 'param_kernel': masked_array(data=['linear', 'rbf', 'linear', 'rbf', 'linear', 'rbf',\n",
       "                    'linear', 'rbf', 'linear', 'rbf', 'linear', 'rbf',\n",
       "                    'linear', 'rbf'],\n",
       "              mask=[False, False, False, False, False, False, False, False,\n",
       "                    False, False, False, False, False, False],\n",
       "        fill_value='?',\n",
       "             dtype=object),\n",
       " 'params': [{'C': 0.01, 'kernel': 'linear'},\n",
       "  {'C': 0.01, 'kernel': 'rbf'},\n",
       "  {'C': 0.1, 'kernel': 'linear'},\n",
       "  {'C': 0.1, 'kernel': 'rbf'},\n",
       "  {'C': 1.0, 'kernel': 'linear'},\n",
       "  {'C': 1.0, 'kernel': 'rbf'},\n",
       "  {'C': 10.0, 'kernel': 'linear'},\n",
       "  {'C': 10.0, 'kernel': 'rbf'},\n",
       "  {'C': 100.0, 'kernel': 'linear'},\n",
       "  {'C': 100.0, 'kernel': 'rbf'},\n",
       "  {'C': 1000.0, 'kernel': 'linear'},\n",
       "  {'C': 1000.0, 'kernel': 'rbf'},\n",
       "  {'C': 10000.0, 'kernel': 'linear'},\n",
       "  {'C': 10000.0, 'kernel': 'rbf'}],\n",
       " 'split0_test_score': array([0.84615385, 0.63736264, 0.94505495, 0.92307692, 0.98901099,\n",
       "        0.98901099, 0.98901099, 0.98901099, 0.96703297, 0.96703297,\n",
       "        0.95604396, 0.96703297, 0.94505495, 0.96703297]),\n",
       " 'split1_test_score': array([0.76923077, 0.62637363, 0.94505495, 0.93406593, 0.96703297,\n",
       "        0.96703297, 0.96703297, 0.97802198, 0.97802198, 0.96703297,\n",
       "        0.93406593, 0.96703297, 0.93406593, 0.96703297]),\n",
       " 'split2_test_score': array([0.82417582, 0.62637363, 0.97802198, 0.97802198, 0.97802198,\n",
       "        0.98901099, 0.98901099, 1.        , 0.98901099, 0.97802198,\n",
       "        0.98901099, 1.        , 1.        , 1.        ]),\n",
       " 'split3_test_score': array([0.83516484, 0.62637363, 0.94505495, 0.95604396, 0.97802198,\n",
       "        0.98901099, 0.97802198, 0.97802198, 0.97802198, 0.96703297,\n",
       "        0.97802198, 0.97802198, 0.93406593, 0.97802198]),\n",
       " 'split4_test_score': array([0.8021978 , 0.62637363, 0.93406593, 0.93406593, 0.96703297,\n",
       "        0.96703297, 0.96703297, 0.95604396, 0.94505495, 0.95604396,\n",
       "        0.94505495, 0.95604396, 0.94505495, 0.95604396]),\n",
       " 'mean_test_score': array([0.81538462, 0.62857143, 0.94945055, 0.94505495, 0.97582418,\n",
       "        0.98021978, 0.97802198, 0.98021978, 0.97142857, 0.96703297,\n",
       "        0.96043956, 0.97362637, 0.95164835, 0.97362637]),\n",
       " 'std_test_score': array([0.02727401, 0.0043956 , 0.01490622, 0.01965774, 0.00822342,\n",
       "        0.01076699, 0.00982887, 0.01457857, 0.01490622, 0.00695006,\n",
       "        0.02038158, 0.01490622, 0.02467027, 0.01490622]),\n",
       " 'rank_test_score': array([13, 14, 11, 12,  4,  1,  3,  1,  7,  8,  9,  5, 10,  5],\n",
       "       dtype=int32)}"
      ]
     },
     "execution_count": 29,
     "metadata": {},
     "output_type": "execute_result"
    }
   ],
   "source": [
    "gs.cv_results_"
   ]
  },
  {
   "cell_type": "code",
   "execution_count": 31,
   "metadata": {},
   "outputs": [
    {
     "name": "stdout",
     "output_type": "stream",
     "text": [
      "Fitting 5 folds for each of 60 candidates, totalling 300 fits\n"
     ]
    },
    {
     "name": "stderr",
     "output_type": "stream",
     "text": [
      "[Parallel(n_jobs=-1)]: Using backend LokyBackend with 8 concurrent workers.\n",
      "[Parallel(n_jobs=-1)]: Done  34 tasks      | elapsed:    0.1s\n",
      "[Parallel(n_jobs=-1)]: Done 300 out of 300 | elapsed:    0.6s finished\n"
     ]
    },
    {
     "data": {
      "text/plain": [
       "GridSearchCV(estimator=SVC(), n_jobs=-1,\n",
       "             param_grid=[{'C': array([1.e-02, 1.e-01, 1.e+00, 1.e+01, 1.e+02, 1.e+03, 1.e+04, 1.e+05,\n",
       "       1.e+06, 1.e+07, 1.e+08, 1.e+09]),\n",
       "                          'kernel': ['linear']},\n",
       "                         {'C': array([1.e-02, 1.e-01, 1.e+00, 1.e+01, 1.e+02, 1.e+03, 1.e+04, 1.e+05,\n",
       "       1.e+06, 1.e+07, 1.e+08, 1.e+09]),\n",
       "                          'gamma': array([1.e-10, 1.e-07, 1.e-04, 1.e-01]),\n",
       "                          'kernel': ['rbf']}],\n",
       "             verbose=2)"
      ]
     },
     "execution_count": 31,
     "metadata": {},
     "output_type": "execute_result"
    }
   ],
   "source": [
    "C_range_exp = np.arange(-2.0, 10.0)\n",
    "C_range = 10 ** C_range_exp\n",
    "\n",
    "gamma_range_exp = np.arange(-10.0, 0.0, 3)\n",
    "gamma_range = 10 ** gamma_range_exp\n",
    "\n",
    "params = [\n",
    "    {'C': C_range,\n",
    "     'kernel': ['linear']},\n",
    "    {'C': C_range,\n",
    "     'gamma': gamma_range,\n",
    "     'kernel': ['rbf']}\n",
    "]\n",
    "\n",
    "gs = GridSearchCV(clf, params, n_jobs=-1, verbose=2)\n",
    "gs.fit(X_train, y_train)\n"
   ]
  },
  {
   "cell_type": "code",
   "execution_count": 32,
   "metadata": {},
   "outputs": [
    {
     "data": {
      "text/plain": [
       "{'C': 10.0, 'kernel': 'linear'}"
      ]
     },
     "execution_count": 32,
     "metadata": {},
     "output_type": "execute_result"
    }
   ],
   "source": [
    "gs.best_params_"
   ]
  },
  {
   "cell_type": "code",
   "execution_count": 34,
   "metadata": {},
   "outputs": [
    {
     "data": {
      "text/plain": [
       "0.9780219780219781"
      ]
     },
     "execution_count": 34,
     "metadata": {},
     "output_type": "execute_result"
    }
   ],
   "source": [
    "gs.best_score_"
   ]
  },
  {
   "cell_type": "code",
   "execution_count": null,
   "metadata": {},
   "outputs": [],
   "source": []
  },
  {
   "cell_type": "code",
   "execution_count": 33,
   "metadata": {},
   "outputs": [
    {
     "data": {
      "text/plain": [
       "{'mean_fit_time': array([0.00729871, 0.00497012, 0.00373392, 0.0031816 , 0.00494409,\n",
       "        0.0097415 , 0.02084775, 0.02293496, 0.02223115, 0.0222672 ,\n",
       "        0.02031374, 0.02016549, 0.01037788, 0.01078873, 0.01015711,\n",
       "        0.01168685, 0.01088042, 0.0132905 , 0.01130424, 0.00921135,\n",
       "        0.01289029, 0.01212959, 0.0112628 , 0.00551348, 0.0110517 ,\n",
       "        0.01252789, 0.00960102, 0.00362167, 0.00998282, 0.00988193,\n",
       "        0.00919423, 0.00410848, 0.0118021 , 0.01059718, 0.00517588,\n",
       "        0.00508933, 0.0127274 , 0.01043057, 0.00378385, 0.00518618,\n",
       "        0.00979695, 0.00873537, 0.0042428 , 0.00521617, 0.01103873,\n",
       "        0.00577083, 0.00711269, 0.0051125 , 0.01221128, 0.00342603,\n",
       "        0.01598268, 0.00513439, 0.00984201, 0.00292869, 0.01542525,\n",
       "        0.00484757, 0.00974984, 0.0028089 , 0.01521387, 0.00536609]),\n",
       " 'std_fit_time': array([2.75035978e-04, 6.49068655e-04, 1.20606509e-03, 6.46510998e-04,\n",
       "        1.60012799e-03, 2.03546541e-03, 9.99345731e-03, 1.32130903e-02,\n",
       "        1.20702817e-02, 1.20402654e-02, 1.13536713e-02, 1.12200931e-02,\n",
       "        7.37416309e-04, 5.99441215e-04, 1.44377047e-04, 2.79443036e-03,\n",
       "        1.36594587e-03, 6.16629746e-03, 1.91346110e-03, 2.08444574e-04,\n",
       "        4.22490829e-03, 3.44085189e-03, 6.00839883e-04, 2.55558623e-04,\n",
       "        1.94120248e-03, 4.32381417e-03, 7.40019079e-04, 1.51635611e-04,\n",
       "        1.62259424e-04, 5.69591963e-04, 3.70495740e-04, 3.43282532e-04,\n",
       "        3.63468311e-03, 7.16563228e-04, 3.48526910e-04, 9.27066840e-04,\n",
       "        5.36812980e-03, 1.87280670e-04, 5.24839534e-04, 6.13478155e-04,\n",
       "        3.82270021e-04, 5.90398896e-04, 4.22397890e-04, 6.49025356e-04,\n",
       "        4.64469289e-04, 7.27355028e-05, 2.21845510e-03, 8.53088884e-04,\n",
       "        4.03391294e-03, 2.78319290e-04, 8.65206766e-03, 6.10407335e-04,\n",
       "        6.84204441e-04, 4.54549467e-04, 7.97478639e-03, 7.51112242e-04,\n",
       "        7.45794846e-04, 3.03065469e-04, 7.24997710e-03, 1.55659349e-03]),\n",
       " 'mean_score_time': array([0.00214882, 0.00146351, 0.00117283, 0.00089102, 0.00073333,\n",
       "        0.00077848, 0.00115795, 0.00078487, 0.00082426, 0.00076542,\n",
       "        0.00081024, 0.00079713, 0.00255327, 0.00257044, 0.00254731,\n",
       "        0.00265012, 0.00298758, 0.00258408, 0.00584221, 0.00270348,\n",
       "        0.00278373, 0.00280666, 0.00305796, 0.00152826, 0.0028182 ,\n",
       "        0.00257969, 0.00247383, 0.00103774, 0.00246158, 0.00249591,\n",
       "        0.00227771, 0.00088654, 0.00268812, 0.00263987, 0.00145016,\n",
       "        0.00093994, 0.00329781, 0.00265088, 0.00114303, 0.00093551,\n",
       "        0.00258818, 0.00227733, 0.00090008, 0.0011971 , 0.00275793,\n",
       "        0.00143895, 0.00086122, 0.00084782, 0.00261116, 0.00101495,\n",
       "        0.00082355, 0.00089502, 0.00239697, 0.00086107, 0.00083799,\n",
       "        0.00076737, 0.00244179, 0.00085673, 0.00078793, 0.00080066]),\n",
       " 'std_score_time': array([5.06115867e-05, 1.42418464e-04, 1.20960007e-04, 2.71372271e-04,\n",
       "        1.49914402e-04, 7.39330440e-05, 4.70716398e-04, 6.07088801e-05,\n",
       "        5.52422382e-05, 5.72863041e-05, 6.56649263e-05, 8.40008713e-05,\n",
       "        3.85458477e-05, 7.28259141e-05, 2.90214862e-05, 5.30431992e-05,\n",
       "        7.08091065e-04, 4.55087548e-05, 6.48887897e-03, 4.39749465e-04,\n",
       "        1.69040514e-04, 4.62166184e-04, 6.87010423e-04, 5.62372777e-05,\n",
       "        4.43193875e-04, 3.09242775e-05, 2.75071606e-04, 4.13320732e-05,\n",
       "        2.09805456e-04, 8.52587772e-05, 2.97492891e-05, 8.97754831e-05,\n",
       "        2.30819103e-04, 1.47501280e-04, 1.21438227e-04, 1.71704790e-04,\n",
       "        1.49593552e-03, 1.33481754e-04, 2.51098952e-04, 2.01250443e-04,\n",
       "        4.07076527e-05, 4.14158258e-05, 2.14064304e-05, 5.93032829e-04,\n",
       "        8.92457271e-05, 1.23537143e-04, 4.95248591e-05, 4.15067505e-05,\n",
       "        9.08753299e-05, 2.98162428e-05, 3.28752853e-05, 2.02034953e-05,\n",
       "        3.39350992e-04, 4.72289332e-05, 3.34678547e-05, 1.00524534e-04,\n",
       "        2.38190332e-04, 5.41940902e-05, 1.01902946e-04, 2.71884436e-04]),\n",
       " 'param_C': masked_array(data=[0.01, 0.1, 1.0, 10.0, 100.0, 1000.0, 10000.0, 100000.0,\n",
       "                    1000000.0, 10000000.0, 100000000.0, 1000000000.0, 0.01,\n",
       "                    0.01, 0.01, 0.01, 0.1, 0.1, 0.1, 0.1, 1.0, 1.0, 1.0,\n",
       "                    1.0, 10.0, 10.0, 10.0, 10.0, 100.0, 100.0, 100.0,\n",
       "                    100.0, 1000.0, 1000.0, 1000.0, 1000.0, 10000.0,\n",
       "                    10000.0, 10000.0, 10000.0, 100000.0, 100000.0,\n",
       "                    100000.0, 100000.0, 1000000.0, 1000000.0, 1000000.0,\n",
       "                    1000000.0, 10000000.0, 10000000.0, 10000000.0,\n",
       "                    10000000.0, 100000000.0, 100000000.0, 100000000.0,\n",
       "                    100000000.0, 1000000000.0, 1000000000.0, 1000000000.0,\n",
       "                    1000000000.0],\n",
       "              mask=[False, False, False, False, False, False, False, False,\n",
       "                    False, False, False, False, False, False, False, False,\n",
       "                    False, False, False, False, False, False, False, False,\n",
       "                    False, False, False, False, False, False, False, False,\n",
       "                    False, False, False, False, False, False, False, False,\n",
       "                    False, False, False, False, False, False, False, False,\n",
       "                    False, False, False, False, False, False, False, False,\n",
       "                    False, False, False, False],\n",
       "        fill_value='?',\n",
       "             dtype=object),\n",
       " 'param_kernel': masked_array(data=['linear', 'linear', 'linear', 'linear', 'linear',\n",
       "                    'linear', 'linear', 'linear', 'linear', 'linear',\n",
       "                    'linear', 'linear', 'rbf', 'rbf', 'rbf', 'rbf', 'rbf',\n",
       "                    'rbf', 'rbf', 'rbf', 'rbf', 'rbf', 'rbf', 'rbf', 'rbf',\n",
       "                    'rbf', 'rbf', 'rbf', 'rbf', 'rbf', 'rbf', 'rbf', 'rbf',\n",
       "                    'rbf', 'rbf', 'rbf', 'rbf', 'rbf', 'rbf', 'rbf', 'rbf',\n",
       "                    'rbf', 'rbf', 'rbf', 'rbf', 'rbf', 'rbf', 'rbf', 'rbf',\n",
       "                    'rbf', 'rbf', 'rbf', 'rbf', 'rbf', 'rbf', 'rbf', 'rbf',\n",
       "                    'rbf', 'rbf', 'rbf'],\n",
       "              mask=[False, False, False, False, False, False, False, False,\n",
       "                    False, False, False, False, False, False, False, False,\n",
       "                    False, False, False, False, False, False, False, False,\n",
       "                    False, False, False, False, False, False, False, False,\n",
       "                    False, False, False, False, False, False, False, False,\n",
       "                    False, False, False, False, False, False, False, False,\n",
       "                    False, False, False, False, False, False, False, False,\n",
       "                    False, False, False, False],\n",
       "        fill_value='?',\n",
       "             dtype=object),\n",
       " 'param_gamma': masked_array(data=[--, --, --, --, --, --, --, --, --, --, --, --, 1e-10,\n",
       "                    1e-07, 0.0001, 0.1, 1e-10, 1e-07, 0.0001, 0.1, 1e-10,\n",
       "                    1e-07, 0.0001, 0.1, 1e-10, 1e-07, 0.0001, 0.1, 1e-10,\n",
       "                    1e-07, 0.0001, 0.1, 1e-10, 1e-07, 0.0001, 0.1, 1e-10,\n",
       "                    1e-07, 0.0001, 0.1, 1e-10, 1e-07, 0.0001, 0.1, 1e-10,\n",
       "                    1e-07, 0.0001, 0.1, 1e-10, 1e-07, 0.0001, 0.1, 1e-10,\n",
       "                    1e-07, 0.0001, 0.1, 1e-10, 1e-07, 0.0001, 0.1],\n",
       "              mask=[ True,  True,  True,  True,  True,  True,  True,  True,\n",
       "                     True,  True,  True,  True, False, False, False, False,\n",
       "                    False, False, False, False, False, False, False, False,\n",
       "                    False, False, False, False, False, False, False, False,\n",
       "                    False, False, False, False, False, False, False, False,\n",
       "                    False, False, False, False, False, False, False, False,\n",
       "                    False, False, False, False, False, False, False, False,\n",
       "                    False, False, False, False],\n",
       "        fill_value='?',\n",
       "             dtype=object),\n",
       " 'params': [{'C': 0.01, 'kernel': 'linear'},\n",
       "  {'C': 0.1, 'kernel': 'linear'},\n",
       "  {'C': 1.0, 'kernel': 'linear'},\n",
       "  {'C': 10.0, 'kernel': 'linear'},\n",
       "  {'C': 100.0, 'kernel': 'linear'},\n",
       "  {'C': 1000.0, 'kernel': 'linear'},\n",
       "  {'C': 10000.0, 'kernel': 'linear'},\n",
       "  {'C': 100000.0, 'kernel': 'linear'},\n",
       "  {'C': 1000000.0, 'kernel': 'linear'},\n",
       "  {'C': 10000000.0, 'kernel': 'linear'},\n",
       "  {'C': 100000000.0, 'kernel': 'linear'},\n",
       "  {'C': 1000000000.0, 'kernel': 'linear'},\n",
       "  {'C': 0.01, 'gamma': 1e-10, 'kernel': 'rbf'},\n",
       "  {'C': 0.01, 'gamma': 1e-07, 'kernel': 'rbf'},\n",
       "  {'C': 0.01, 'gamma': 0.0001, 'kernel': 'rbf'},\n",
       "  {'C': 0.01, 'gamma': 0.1, 'kernel': 'rbf'},\n",
       "  {'C': 0.1, 'gamma': 1e-10, 'kernel': 'rbf'},\n",
       "  {'C': 0.1, 'gamma': 1e-07, 'kernel': 'rbf'},\n",
       "  {'C': 0.1, 'gamma': 0.0001, 'kernel': 'rbf'},\n",
       "  {'C': 0.1, 'gamma': 0.1, 'kernel': 'rbf'},\n",
       "  {'C': 1.0, 'gamma': 1e-10, 'kernel': 'rbf'},\n",
       "  {'C': 1.0, 'gamma': 1e-07, 'kernel': 'rbf'},\n",
       "  {'C': 1.0, 'gamma': 0.0001, 'kernel': 'rbf'},\n",
       "  {'C': 1.0, 'gamma': 0.1, 'kernel': 'rbf'},\n",
       "  {'C': 10.0, 'gamma': 1e-10, 'kernel': 'rbf'},\n",
       "  {'C': 10.0, 'gamma': 1e-07, 'kernel': 'rbf'},\n",
       "  {'C': 10.0, 'gamma': 0.0001, 'kernel': 'rbf'},\n",
       "  {'C': 10.0, 'gamma': 0.1, 'kernel': 'rbf'},\n",
       "  {'C': 100.0, 'gamma': 1e-10, 'kernel': 'rbf'},\n",
       "  {'C': 100.0, 'gamma': 1e-07, 'kernel': 'rbf'},\n",
       "  {'C': 100.0, 'gamma': 0.0001, 'kernel': 'rbf'},\n",
       "  {'C': 100.0, 'gamma': 0.1, 'kernel': 'rbf'},\n",
       "  {'C': 1000.0, 'gamma': 1e-10, 'kernel': 'rbf'},\n",
       "  {'C': 1000.0, 'gamma': 1e-07, 'kernel': 'rbf'},\n",
       "  {'C': 1000.0, 'gamma': 0.0001, 'kernel': 'rbf'},\n",
       "  {'C': 1000.0, 'gamma': 0.1, 'kernel': 'rbf'},\n",
       "  {'C': 10000.0, 'gamma': 1e-10, 'kernel': 'rbf'},\n",
       "  {'C': 10000.0, 'gamma': 1e-07, 'kernel': 'rbf'},\n",
       "  {'C': 10000.0, 'gamma': 0.0001, 'kernel': 'rbf'},\n",
       "  {'C': 10000.0, 'gamma': 0.1, 'kernel': 'rbf'},\n",
       "  {'C': 100000.0, 'gamma': 1e-10, 'kernel': 'rbf'},\n",
       "  {'C': 100000.0, 'gamma': 1e-07, 'kernel': 'rbf'},\n",
       "  {'C': 100000.0, 'gamma': 0.0001, 'kernel': 'rbf'},\n",
       "  {'C': 100000.0, 'gamma': 0.1, 'kernel': 'rbf'},\n",
       "  {'C': 1000000.0, 'gamma': 1e-10, 'kernel': 'rbf'},\n",
       "  {'C': 1000000.0, 'gamma': 1e-07, 'kernel': 'rbf'},\n",
       "  {'C': 1000000.0, 'gamma': 0.0001, 'kernel': 'rbf'},\n",
       "  {'C': 1000000.0, 'gamma': 0.1, 'kernel': 'rbf'},\n",
       "  {'C': 10000000.0, 'gamma': 1e-10, 'kernel': 'rbf'},\n",
       "  {'C': 10000000.0, 'gamma': 1e-07, 'kernel': 'rbf'},\n",
       "  {'C': 10000000.0, 'gamma': 0.0001, 'kernel': 'rbf'},\n",
       "  {'C': 10000000.0, 'gamma': 0.1, 'kernel': 'rbf'},\n",
       "  {'C': 100000000.0, 'gamma': 1e-10, 'kernel': 'rbf'},\n",
       "  {'C': 100000000.0, 'gamma': 1e-07, 'kernel': 'rbf'},\n",
       "  {'C': 100000000.0, 'gamma': 0.0001, 'kernel': 'rbf'},\n",
       "  {'C': 100000000.0, 'gamma': 0.1, 'kernel': 'rbf'},\n",
       "  {'C': 1000000000.0, 'gamma': 1e-10, 'kernel': 'rbf'},\n",
       "  {'C': 1000000000.0, 'gamma': 1e-07, 'kernel': 'rbf'},\n",
       "  {'C': 1000000000.0, 'gamma': 0.0001, 'kernel': 'rbf'},\n",
       "  {'C': 1000000000.0, 'gamma': 0.1, 'kernel': 'rbf'}],\n",
       " 'split0_test_score': array([0.84615385, 0.94505495, 0.98901099, 0.98901099, 0.96703297,\n",
       "        0.95604396, 0.94505495, 0.94505495, 0.94505495, 0.94505495,\n",
       "        0.94505495, 0.94505495, 0.63736264, 0.63736264, 0.63736264,\n",
       "        0.63736264, 0.63736264, 0.63736264, 0.63736264, 0.91208791,\n",
       "        0.63736264, 0.63736264, 0.63736264, 0.94505495, 0.63736264,\n",
       "        0.63736264, 0.63736264, 0.98901099, 0.63736264, 0.63736264,\n",
       "        0.91208791, 0.96703297, 0.63736264, 0.63736264, 0.95604396,\n",
       "        0.95604396, 0.63736264, 0.63736264, 0.97802198, 0.94505495,\n",
       "        0.63736264, 0.91208791, 0.97802198, 0.94505495, 0.63736264,\n",
       "        0.95604396, 0.97802198, 0.94505495, 0.63736264, 0.96703297,\n",
       "        0.95604396, 0.94505495, 0.81318681, 0.96703297, 0.94505495,\n",
       "        0.94505495, 0.9010989 , 0.98901099, 0.94505495, 0.94505495]),\n",
       " 'split1_test_score': array([0.76923077, 0.94505495, 0.96703297, 0.96703297, 0.97802198,\n",
       "        0.93406593, 0.93406593, 0.93406593, 0.93406593, 0.93406593,\n",
       "        0.93406593, 0.93406593, 0.62637363, 0.62637363, 0.62637363,\n",
       "        0.62637363, 0.62637363, 0.62637363, 0.62637363, 0.89010989,\n",
       "        0.62637363, 0.62637363, 0.62637363, 0.95604396, 0.62637363,\n",
       "        0.62637363, 0.62637363, 0.96703297, 0.62637363, 0.62637363,\n",
       "        0.9010989 , 0.95604396, 0.62637363, 0.62637363, 0.95604396,\n",
       "        0.97802198, 0.62637363, 0.62637363, 0.96703297, 0.96703297,\n",
       "        0.62637363, 0.9010989 , 0.95604396, 0.96703297, 0.62637363,\n",
       "        0.95604396, 0.96703297, 0.96703297, 0.62637363, 0.96703297,\n",
       "        0.93406593, 0.96703297, 0.76923077, 0.96703297, 0.93406593,\n",
       "        0.96703297, 0.87912088, 0.96703297, 0.93406593, 0.96703297]),\n",
       " 'split2_test_score': array([0.82417582, 0.97802198, 0.97802198, 0.98901099, 0.98901099,\n",
       "        0.98901099, 1.        , 1.        , 1.        , 1.        ,\n",
       "        1.        , 1.        , 0.62637363, 0.62637363, 0.62637363,\n",
       "        0.62637363, 0.62637363, 0.62637363, 0.62637363, 0.94505495,\n",
       "        0.62637363, 0.62637363, 0.62637363, 0.97802198, 0.62637363,\n",
       "        0.62637363, 0.62637363, 0.98901099, 0.62637363, 0.62637363,\n",
       "        0.94505495, 1.        , 0.62637363, 0.62637363, 0.97802198,\n",
       "        0.97802198, 0.62637363, 0.62637363, 0.97802198, 0.97802198,\n",
       "        0.62637363, 0.95604396, 0.98901099, 0.97802198, 0.62637363,\n",
       "        0.98901099, 0.98901099, 0.97802198, 0.62637363, 0.98901099,\n",
       "        0.98901099, 0.97802198, 0.8021978 , 0.98901099, 1.        ,\n",
       "        0.97802198, 0.93406593, 0.98901099, 1.        , 0.97802198]),\n",
       " 'split3_test_score': array([0.83516484, 0.94505495, 0.97802198, 0.97802198, 0.97802198,\n",
       "        0.97802198, 0.93406593, 0.94505495, 0.94505495, 0.94505495,\n",
       "        0.94505495, 0.94505495, 0.62637363, 0.62637363, 0.62637363,\n",
       "        0.62637363, 0.62637363, 0.62637363, 0.62637363, 0.92307692,\n",
       "        0.62637363, 0.62637363, 0.62637363, 0.94505495, 0.62637363,\n",
       "        0.62637363, 0.62637363, 0.97802198, 0.62637363, 0.62637363,\n",
       "        0.93406593, 0.97802198, 0.62637363, 0.62637363, 0.94505495,\n",
       "        0.97802198, 0.62637363, 0.62637363, 0.97802198, 0.96703297,\n",
       "        0.62637363, 0.93406593, 0.97802198, 0.96703297, 0.62637363,\n",
       "        0.94505495, 0.97802198, 0.96703297, 0.62637363, 0.95604396,\n",
       "        0.97802198, 0.96703297, 0.8021978 , 0.93406593, 0.96703297,\n",
       "        0.96703297, 0.92307692, 0.95604396, 0.96703297, 0.96703297]),\n",
       " 'split4_test_score': array([0.8021978 , 0.93406593, 0.96703297, 0.96703297, 0.94505495,\n",
       "        0.94505495, 0.94505495, 0.94505495, 0.94505495, 0.94505495,\n",
       "        0.94505495, 0.94505495, 0.62637363, 0.62637363, 0.62637363,\n",
       "        0.62637363, 0.62637363, 0.62637363, 0.62637363, 0.89010989,\n",
       "        0.62637363, 0.62637363, 0.62637363, 0.94505495, 0.62637363,\n",
       "        0.62637363, 0.62637363, 0.94505495, 0.62637363, 0.62637363,\n",
       "        0.89010989, 0.95604396, 0.62637363, 0.62637363, 0.94505495,\n",
       "        0.94505495, 0.62637363, 0.62637363, 0.96703297, 0.96703297,\n",
       "        0.62637363, 0.89010989, 0.95604396, 0.96703297, 0.62637363,\n",
       "        0.94505495, 0.94505495, 0.96703297, 0.62637363, 0.98901099,\n",
       "        0.94505495, 0.96703297, 0.78021978, 0.96703297, 0.94505495,\n",
       "        0.96703297, 0.89010989, 0.97802198, 0.94505495, 0.96703297]),\n",
       " 'mean_test_score': array([0.81538462, 0.94945055, 0.97582418, 0.97802198, 0.97142857,\n",
       "        0.96043956, 0.95164835, 0.95384615, 0.95384615, 0.95384615,\n",
       "        0.95384615, 0.95384615, 0.62857143, 0.62857143, 0.62857143,\n",
       "        0.62857143, 0.62857143, 0.62857143, 0.62857143, 0.91208791,\n",
       "        0.62857143, 0.62857143, 0.62857143, 0.95384615, 0.62857143,\n",
       "        0.62857143, 0.62857143, 0.97362637, 0.62857143, 0.62857143,\n",
       "        0.91648352, 0.97142857, 0.62857143, 0.62857143, 0.95604396,\n",
       "        0.96703297, 0.62857143, 0.62857143, 0.97362637, 0.96483516,\n",
       "        0.62857143, 0.91868132, 0.97142857, 0.96483516, 0.62857143,\n",
       "        0.95824176, 0.97142857, 0.96483516, 0.62857143, 0.97362637,\n",
       "        0.96043956, 0.96483516, 0.79340659, 0.96483516, 0.95824176,\n",
       "        0.96483516, 0.90549451, 0.97582418, 0.95824176, 0.96483516]),\n",
       " 'std_test_score': array([0.02727401, 0.01490622, 0.00822342, 0.00982887, 0.01490622,\n",
       "        0.02038158, 0.02467027, 0.02346611, 0.02346611, 0.02346611,\n",
       "        0.02346611, 0.02346611, 0.0043956 , 0.0043956 , 0.0043956 ,\n",
       "        0.0043956 , 0.0043956 , 0.0043956 , 0.0043956 , 0.02085018,\n",
       "        0.0043956 , 0.0043956 , 0.0043956 , 0.01281528, 0.0043956 ,\n",
       "        0.0043956 , 0.0043956 , 0.01644685, 0.0043956 , 0.0043956 ,\n",
       "        0.02038158, 0.01644685, 0.0043956 , 0.0043956 , 0.01203786,\n",
       "        0.01390012, 0.0043956 , 0.0043956 , 0.00538349, 0.01076699,\n",
       "        0.0043956 , 0.02367105, 0.01318681, 0.01076699, 0.0043956 ,\n",
       "        0.01615048, 0.01490622, 0.01076699, 0.0043956 , 0.01318681,\n",
       "        0.02038158, 0.01076699, 0.01615048, 0.01758242, 0.02346611,\n",
       "        0.01076699, 0.02038158, 0.01281528, 0.02346611, 0.01076699]),\n",
       " 'rank_test_score': array([37, 32,  2,  1,  7, 19, 31, 25, 25, 25, 25, 25, 39, 39, 39, 39, 39,\n",
       "        39, 39, 35, 39, 39, 39, 25, 39, 39, 39,  4, 39, 39, 34,  7, 39, 39,\n",
       "        24, 11, 39, 39,  6, 13, 39, 33,  7, 13, 39, 21,  7, 13, 39,  4, 19,\n",
       "        13, 38, 12, 22, 13, 36,  2, 22, 13], dtype=int32)}"
      ]
     },
     "execution_count": 33,
     "metadata": {},
     "output_type": "execute_result"
    }
   ],
   "source": [
    "gs.cv_results_"
   ]
  },
  {
   "cell_type": "code",
   "execution_count": 35,
   "metadata": {},
   "outputs": [
    {
     "data": {
      "text/plain": [
       "0.9736842105263158"
      ]
     },
     "execution_count": 35,
     "metadata": {},
     "output_type": "execute_result"
    }
   ],
   "source": [
    "gs.score(X_test, y_test)"
   ]
  },
  {
   "cell_type": "code",
   "execution_count": null,
   "metadata": {},
   "outputs": [],
   "source": []
  }
 ],
 "metadata": {
  "kernelspec": {
   "display_name": "Python 3",
   "language": "python",
   "name": "python3"
  },
  "language_info": {
   "codemirror_mode": {
    "name": "ipython",
    "version": 3
   },
   "file_extension": ".py",
   "mimetype": "text/x-python",
   "name": "python",
   "nbconvert_exporter": "python",
   "pygments_lexer": "ipython3",
   "version": "3.8.5"
  }
 },
 "nbformat": 4,
 "nbformat_minor": 4
}
