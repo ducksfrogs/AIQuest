{
 "cells": [
  {
   "cell_type": "code",
   "execution_count": 1,
   "metadata": {},
   "outputs": [],
   "source": [
    "import numpy as np\n",
    "import pandas as pd\n",
    "import matplotlib.pyplot as plt\n",
    "\n",
    "import seaborn as sns\n",
    "from xgboost import XGBRegressor\n",
    "from xgboost import plot_importance\n",
    "\n",
    "from sklearn.preprocessing import LabelEncoder\n",
    "from itertools import product\n",
    "\n",
    "\n",
    "import time"
   ]
  },
  {
   "cell_type": "code",
   "execution_count": 2,
   "metadata": {},
   "outputs": [],
   "source": [
    "test = pd.read_csv('../data/test.csv', index_col=0)\n",
    "submit = pd.read_csv('../data/sample_submission.csv')\n",
    "data = pd.read_pickle('data.pkl')\n"
   ]
  },
  {
   "cell_type": "code",
   "execution_count": 3,
   "metadata": {},
   "outputs": [
    {
     "data": {
      "text/plain": [
       "Index(['month_idx', 'shop_id', 'item_id', 'item_cnt_month', 'cat_id',\n",
       "       'type_code', 'item_cnt_month_lag_1', 'item_cnt_month_lag_2',\n",
       "       'item_cnt_month_lag_3', 'item_cnt_month_lag_6', 'item_cnt_month_lag_12',\n",
       "       'delta_price_lag', 'delta_revenue_lag_1', 'month', 'days',\n",
       "       'item_shop_first_sale', 'item_first_sale'],\n",
       "      dtype='object')"
      ]
     },
     "execution_count": 3,
     "metadata": {},
     "output_type": "execute_result"
    }
   ],
   "source": [
    "data.columns"
   ]
  },
  {
   "cell_type": "code",
   "execution_count": 4,
   "metadata": {},
   "outputs": [],
   "source": [
    "data = data[[\n",
    "        'month_idx', 'shop_id', 'item_id', 'item_cnt_month', 'cat_id',\n",
    "       'type_code', 'item_cnt_month_lag_1', 'item_cnt_month_lag_2',\n",
    "       'item_cnt_month_lag_3', 'item_cnt_month_lag_6', 'item_cnt_month_lag_12',\n",
    "       'delta_price_lag', 'delta_revenue_lag_1', 'month', 'days',\n",
    "       'item_shop_first_sale', 'item_first_sale'\n",
    "]]\n"
   ]
  },
  {
   "cell_type": "code",
   "execution_count": 5,
   "metadata": {},
   "outputs": [
    {
     "data": {
      "text/plain": [
       "array([ 0,  1,  2,  3,  4,  5,  6,  7,  8,  9, 10, 11, 12, 13, 14, 15, 16,\n",
       "       17, 18, 19, 20, 21, 23], dtype=int8)"
      ]
     },
     "execution_count": 5,
     "metadata": {},
     "output_type": "execute_result"
    }
   ],
   "source": [
    "data.month_idx.unique()"
   ]
  },
  {
   "cell_type": "code",
   "execution_count": 6,
   "metadata": {},
   "outputs": [],
   "source": [
    "X_train = data[data.month_idx < 21].drop(['item_cnt_month'], axis=1)\n",
    "y_train = data[data.month_idx < 21]['item_cnt_month']\n",
    "X_valid = data[data.month_idx == 21].drop(['item_cnt_month'], axis=1)\n",
    "y_valid  = data[data.month_idx == 21]['item_cnt_month']\n",
    "X_test = data[data.month_idx ==23].drop(['item_cnt_month'], axis=1)\n"
   ]
  },
  {
   "cell_type": "code",
   "execution_count": 7,
   "metadata": {},
   "outputs": [],
   "source": [
    "del data"
   ]
  },
  {
   "cell_type": "code",
   "execution_count": 8,
   "metadata": {},
   "outputs": [],
   "source": [
    "import gc\n"
   ]
  },
  {
   "cell_type": "code",
   "execution_count": 9,
   "metadata": {},
   "outputs": [
    {
     "data": {
      "text/plain": [
       "66"
      ]
     },
     "execution_count": 9,
     "metadata": {},
     "output_type": "execute_result"
    }
   ],
   "source": [
    "gc.collect()"
   ]
  },
  {
   "cell_type": "code",
   "execution_count": 10,
   "metadata": {},
   "outputs": [
    {
     "name": "stdout",
     "output_type": "stream",
     "text": [
      "[0]\tvalidation_0-rmse:2.60215\tvalidation_1-rmse:3.01986\n",
      "Multiple eval metrics have been passed: 'validation_1-rmse' will be used for early stopping.\n",
      "\n",
      "Will train until validation_1-rmse hasn't improved in 10 rounds.\n",
      "[1]\tvalidation_0-rmse:2.41071\tvalidation_1-rmse:2.86703\n",
      "[2]\tvalidation_0-rmse:2.30964\tvalidation_1-rmse:2.77650\n",
      "[3]\tvalidation_0-rmse:2.25325\tvalidation_1-rmse:2.73077\n",
      "[4]\tvalidation_0-rmse:2.21749\tvalidation_1-rmse:2.70664\n",
      "[5]\tvalidation_0-rmse:2.19673\tvalidation_1-rmse:2.68417\n",
      "[6]\tvalidation_0-rmse:2.17673\tvalidation_1-rmse:2.67086\n",
      "[7]\tvalidation_0-rmse:2.16528\tvalidation_1-rmse:2.65685\n",
      "[8]\tvalidation_0-rmse:2.15168\tvalidation_1-rmse:2.62989\n",
      "[9]\tvalidation_0-rmse:2.14593\tvalidation_1-rmse:2.62299\n",
      "[10]\tvalidation_0-rmse:2.13769\tvalidation_1-rmse:2.61785\n",
      "[11]\tvalidation_0-rmse:2.13440\tvalidation_1-rmse:2.61689\n",
      "[12]\tvalidation_0-rmse:2.13146\tvalidation_1-rmse:2.61569\n",
      "[13]\tvalidation_0-rmse:2.12786\tvalidation_1-rmse:2.61813\n",
      "[14]\tvalidation_0-rmse:2.12435\tvalidation_1-rmse:2.61422\n",
      "[15]\tvalidation_0-rmse:2.12208\tvalidation_1-rmse:2.61654\n",
      "[16]\tvalidation_0-rmse:2.12068\tvalidation_1-rmse:2.61454\n",
      "[17]\tvalidation_0-rmse:2.11806\tvalidation_1-rmse:2.61694\n",
      "[18]\tvalidation_0-rmse:2.11718\tvalidation_1-rmse:2.62242\n",
      "[19]\tvalidation_0-rmse:2.11550\tvalidation_1-rmse:2.62074\n",
      "[20]\tvalidation_0-rmse:2.11501\tvalidation_1-rmse:2.62004\n",
      "[21]\tvalidation_0-rmse:2.11360\tvalidation_1-rmse:2.62097\n",
      "[22]\tvalidation_0-rmse:2.11308\tvalidation_1-rmse:2.62075\n",
      "[23]\tvalidation_0-rmse:2.11134\tvalidation_1-rmse:2.61882\n",
      "[24]\tvalidation_0-rmse:2.10293\tvalidation_1-rmse:2.61983\n",
      "Stopping. Best iteration:\n",
      "[14]\tvalidation_0-rmse:2.12435\tvalidation_1-rmse:2.61422\n",
      "\n"
     ]
    },
    {
     "data": {
      "text/plain": [
       "15.708384275436401"
      ]
     },
     "execution_count": 10,
     "metadata": {},
     "output_type": "execute_result"
    }
   ],
   "source": [
    "\n",
    "ts = time.time()\n",
    "\n",
    "model = XGBRegressor(\n",
    "    max_depth=8,\n",
    "    n_estimators = 1000,\n",
    "    min_child_weight = 300,\n",
    "    colsample_bytree=0.8,\n",
    "    eta=0.3,\n",
    "    seed=42\n",
    ")\n",
    "\n",
    "model.fit(X_train, y_train,eval_metric=\"rmse\", eval_set=[(X_train, y_train),(X_valid, y_valid)],\n",
    "    verbose=True,\n",
    "    early_stopping_rounds=10)\n",
    "\n",
    "time.time() - ts\n"
   ]
  },
  {
   "cell_type": "code",
   "execution_count": 11,
   "metadata": {},
   "outputs": [],
   "source": [
    "y_pred = model.predict(X_valid)\n",
    "y_test = model.predict(X_test)\n",
    "\n",
    "submission = pd.DataFrame({\n",
    "    \"ID\": test.index,\n",
    "    \"item_cnt_month\": y_test\n",
    "})\n",
    "\n",
    "submission.to_csv('xgb_submission.csv', index=False )\n"
   ]
  },
  {
   "cell_type": "code",
   "execution_count": 12,
   "metadata": {},
   "outputs": [
    {
     "data": {
      "text/html": [
       "<div>\n",
       "<style scoped>\n",
       "    .dataframe tbody tr th:only-of-type {\n",
       "        vertical-align: middle;\n",
       "    }\n",
       "\n",
       "    .dataframe tbody tr th {\n",
       "        vertical-align: top;\n",
       "    }\n",
       "\n",
       "    .dataframe thead th {\n",
       "        text-align: right;\n",
       "    }\n",
       "</style>\n",
       "<table border=\"1\" class=\"dataframe\">\n",
       "  <thead>\n",
       "    <tr style=\"text-align: right;\">\n",
       "      <th></th>\n",
       "      <th>0</th>\n",
       "      <th>100</th>\n",
       "    </tr>\n",
       "  </thead>\n",
       "  <tbody>\n",
       "    <tr>\n",
       "      <th>0</th>\n",
       "      <td>1</td>\n",
       "      <td>100</td>\n",
       "    </tr>\n",
       "    <tr>\n",
       "      <th>1</th>\n",
       "      <td>2</td>\n",
       "      <td>100</td>\n",
       "    </tr>\n",
       "    <tr>\n",
       "      <th>2</th>\n",
       "      <td>3</td>\n",
       "      <td>100</td>\n",
       "    </tr>\n",
       "    <tr>\n",
       "      <th>3</th>\n",
       "      <td>4</td>\n",
       "      <td>100</td>\n",
       "    </tr>\n",
       "    <tr>\n",
       "      <th>4</th>\n",
       "      <td>5</td>\n",
       "      <td>100</td>\n",
       "    </tr>\n",
       "    <tr>\n",
       "      <th>...</th>\n",
       "      <td>...</td>\n",
       "      <td>...</td>\n",
       "    </tr>\n",
       "    <tr>\n",
       "      <th>3054</th>\n",
       "      <td>3055</td>\n",
       "      <td>100</td>\n",
       "    </tr>\n",
       "    <tr>\n",
       "      <th>3055</th>\n",
       "      <td>3056</td>\n",
       "      <td>100</td>\n",
       "    </tr>\n",
       "    <tr>\n",
       "      <th>3056</th>\n",
       "      <td>3057</td>\n",
       "      <td>100</td>\n",
       "    </tr>\n",
       "    <tr>\n",
       "      <th>3057</th>\n",
       "      <td>3058</td>\n",
       "      <td>100</td>\n",
       "    </tr>\n",
       "    <tr>\n",
       "      <th>3058</th>\n",
       "      <td>3059</td>\n",
       "      <td>100</td>\n",
       "    </tr>\n",
       "  </tbody>\n",
       "</table>\n",
       "<p>3059 rows × 2 columns</p>\n",
       "</div>"
      ],
      "text/plain": [
       "         0  100\n",
       "0        1  100\n",
       "1        2  100\n",
       "2        3  100\n",
       "3        4  100\n",
       "4        5  100\n",
       "...    ...  ...\n",
       "3054  3055  100\n",
       "3055  3056  100\n",
       "3056  3057  100\n",
       "3057  3058  100\n",
       "3058  3059  100\n",
       "\n",
       "[3059 rows x 2 columns]"
      ]
     },
     "execution_count": 12,
     "metadata": {},
     "output_type": "execute_result"
    }
   ],
   "source": [
    "submit"
   ]
  },
  {
   "cell_type": "code",
   "execution_count": 16,
   "metadata": {},
   "outputs": [
    {
     "data": {
      "text/html": [
       "<div>\n",
       "<style scoped>\n",
       "    .dataframe tbody tr th:only-of-type {\n",
       "        vertical-align: middle;\n",
       "    }\n",
       "\n",
       "    .dataframe tbody tr th {\n",
       "        vertical-align: top;\n",
       "    }\n",
       "\n",
       "    .dataframe thead th {\n",
       "        text-align: right;\n",
       "    }\n",
       "</style>\n",
       "<table border=\"1\" class=\"dataframe\">\n",
       "  <thead>\n",
       "    <tr style=\"text-align: right;\">\n",
       "      <th></th>\n",
       "      <th>ID</th>\n",
       "      <th>item_cnt_month</th>\n",
       "    </tr>\n",
       "  </thead>\n",
       "  <tbody>\n",
       "    <tr>\n",
       "      <th>0</th>\n",
       "      <td>0</td>\n",
       "      <td>0.360681</td>\n",
       "    </tr>\n",
       "    <tr>\n",
       "      <th>1</th>\n",
       "      <td>1</td>\n",
       "      <td>0.000000</td>\n",
       "    </tr>\n",
       "    <tr>\n",
       "      <th>2</th>\n",
       "      <td>2</td>\n",
       "      <td>0.383577</td>\n",
       "    </tr>\n",
       "    <tr>\n",
       "      <th>3</th>\n",
       "      <td>3</td>\n",
       "      <td>1.242619</td>\n",
       "    </tr>\n",
       "    <tr>\n",
       "      <th>4</th>\n",
       "      <td>4</td>\n",
       "      <td>2.760417</td>\n",
       "    </tr>\n",
       "    <tr>\n",
       "      <th>...</th>\n",
       "      <td>...</td>\n",
       "      <td>...</td>\n",
       "    </tr>\n",
       "    <tr>\n",
       "      <th>3055</th>\n",
       "      <td>3055</td>\n",
       "      <td>0.765410</td>\n",
       "    </tr>\n",
       "    <tr>\n",
       "      <th>3056</th>\n",
       "      <td>3056</td>\n",
       "      <td>0.000894</td>\n",
       "    </tr>\n",
       "    <tr>\n",
       "      <th>3057</th>\n",
       "      <td>3057</td>\n",
       "      <td>0.000894</td>\n",
       "    </tr>\n",
       "    <tr>\n",
       "      <th>3058</th>\n",
       "      <td>3058</td>\n",
       "      <td>0.000894</td>\n",
       "    </tr>\n",
       "    <tr>\n",
       "      <th>3059</th>\n",
       "      <td>3059</td>\n",
       "      <td>0.016139</td>\n",
       "    </tr>\n",
       "  </tbody>\n",
       "</table>\n",
       "<p>3060 rows × 2 columns</p>\n",
       "</div>"
      ],
      "text/plain": [
       "        ID  item_cnt_month\n",
       "0        0        0.360681\n",
       "1        1        0.000000\n",
       "2        2        0.383577\n",
       "3        3        1.242619\n",
       "4        4        2.760417\n",
       "...    ...             ...\n",
       "3055  3055        0.765410\n",
       "3056  3056        0.000894\n",
       "3057  3057        0.000894\n",
       "3058  3058        0.000894\n",
       "3059  3059        0.016139\n",
       "\n",
       "[3060 rows x 2 columns]"
      ]
     },
     "execution_count": 16,
     "metadata": {},
     "output_type": "execute_result"
    }
   ],
   "source": [
    "submission"
   ]
  },
  {
   "cell_type": "code",
   "execution_count": null,
   "metadata": {},
   "outputs": [],
   "source": []
  }
 ],
 "metadata": {
  "kernelspec": {
   "display_name": "Python 3",
   "language": "python",
   "name": "python3"
  },
  "language_info": {
   "codemirror_mode": {
    "name": "ipython",
    "version": 3
   },
   "file_extension": ".py",
   "mimetype": "text/x-python",
   "name": "python",
   "nbconvert_exporter": "python",
   "pygments_lexer": "ipython3",
   "version": "3.7.6"
  }
 },
 "nbformat": 4,
 "nbformat_minor": 4
}
