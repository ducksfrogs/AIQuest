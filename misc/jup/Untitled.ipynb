{
 "cells": [
  {
   "cell_type": "code",
   "execution_count": 1,
   "metadata": {},
   "outputs": [],
   "source": [
    "import optuna"
   ]
  },
  {
   "cell_type": "code",
   "execution_count": 2,
   "metadata": {},
   "outputs": [],
   "source": [
    "def objective(trial):\n",
    "    x = trial.suggest_uniform('x', -10, 10)\n",
    "    return (x-2)**2"
   ]
  },
  {
   "cell_type": "code",
   "execution_count": 3,
   "metadata": {},
   "outputs": [
    {
     "name": "stderr",
     "output_type": "stream",
     "text": [
      "\u001b[32m[I 2020-11-26 18:11:40,215]\u001b[0m A new study created in memory with name: no-name-29d51f3e-393e-45fa-911c-7ac5d8e6cb6b\u001b[0m\n"
     ]
    }
   ],
   "source": [
    "study = optuna.create_study()"
   ]
  },
  {
   "cell_type": "code",
   "execution_count": 4,
   "metadata": {},
   "outputs": [
    {
     "name": "stderr",
     "output_type": "stream",
     "text": [
      "\u001b[32m[I 2020-11-26 18:12:06,484]\u001b[0m Trial 0 finished with value: 19.25229239594822 and parameters: {'x': 6.3877434286827}. Best is trial 0 with value: 19.25229239594822.\u001b[0m\n",
      "\u001b[32m[I 2020-11-26 18:12:06,488]\u001b[0m Trial 1 finished with value: 3.515512400529034 and parameters: {'x': 0.12503002676601938}. Best is trial 1 with value: 3.515512400529034.\u001b[0m\n",
      "\u001b[32m[I 2020-11-26 18:12:06,491]\u001b[0m Trial 2 finished with value: 38.04675857575056 and parameters: {'x': -4.168205458295837}. Best is trial 1 with value: 3.515512400529034.\u001b[0m\n",
      "\u001b[32m[I 2020-11-26 18:12:06,494]\u001b[0m Trial 3 finished with value: 9.833846630347818 and parameters: {'x': -1.1358964635886526}. Best is trial 1 with value: 3.515512400529034.\u001b[0m\n",
      "\u001b[32m[I 2020-11-26 18:12:06,496]\u001b[0m Trial 4 finished with value: 2.505437173890031 and parameters: {'x': 3.582857281592384}. Best is trial 4 with value: 2.505437173890031.\u001b[0m\n",
      "\u001b[32m[I 2020-11-26 18:12:06,497]\u001b[0m Trial 5 finished with value: 32.4082643233913 and parameters: {'x': 7.692825688828993}. Best is trial 4 with value: 2.505437173890031.\u001b[0m\n",
      "\u001b[32m[I 2020-11-26 18:12:06,500]\u001b[0m Trial 6 finished with value: 101.51576608512124 and parameters: {'x': -8.075503267089006}. Best is trial 4 with value: 2.505437173890031.\u001b[0m\n",
      "\u001b[32m[I 2020-11-26 18:12:06,502]\u001b[0m Trial 7 finished with value: 35.53812775620797 and parameters: {'x': -3.961386395479492}. Best is trial 4 with value: 2.505437173890031.\u001b[0m\n",
      "\u001b[32m[I 2020-11-26 18:12:06,503]\u001b[0m Trial 8 finished with value: 0.10890548962877647 and parameters: {'x': 1.6699916824854615}. Best is trial 8 with value: 0.10890548962877647.\u001b[0m\n",
      "\u001b[32m[I 2020-11-26 18:12:06,504]\u001b[0m Trial 9 finished with value: 6.068729183302858 and parameters: {'x': -0.4634790811579581}. Best is trial 8 with value: 0.10890548962877647.\u001b[0m\n",
      "\u001b[32m[I 2020-11-26 18:12:06,512]\u001b[0m Trial 10 finished with value: 4.168803220225537 and parameters: {'x': 4.041764731849764}. Best is trial 8 with value: 0.10890548962877647.\u001b[0m\n",
      "\u001b[32m[I 2020-11-26 18:12:06,520]\u001b[0m Trial 11 finished with value: 3.4267128902494597 and parameters: {'x': 3.851138268809075}. Best is trial 8 with value: 0.10890548962877647.\u001b[0m\n",
      "\u001b[32m[I 2020-11-26 18:12:06,526]\u001b[0m Trial 12 finished with value: 1.042440170112145 and parameters: {'x': 3.0209995935905876}. Best is trial 8 with value: 0.10890548962877647.\u001b[0m\n",
      "\u001b[32m[I 2020-11-26 18:12:06,534]\u001b[0m Trial 13 finished with value: 62.423711527685306 and parameters: {'x': 9.900867770548075}. Best is trial 8 with value: 0.10890548962877647.\u001b[0m\n",
      "\u001b[32m[I 2020-11-26 18:12:06,542]\u001b[0m Trial 14 finished with value: 0.1879836685834519 and parameters: {'x': 1.5664291654372358}. Best is trial 8 with value: 0.10890548962877647.\u001b[0m\n",
      "\u001b[32m[I 2020-11-26 18:12:06,549]\u001b[0m Trial 15 finished with value: 0.17975709262592013 and parameters: {'x': 1.576022297017968}. Best is trial 8 with value: 0.10890548962877647.\u001b[0m\n",
      "\u001b[32m[I 2020-11-26 18:12:06,555]\u001b[0m Trial 16 finished with value: 28.860020421016692 and parameters: {'x': -3.372152308062076}. Best is trial 8 with value: 0.10890548962877647.\u001b[0m\n",
      "\u001b[32m[I 2020-11-26 18:12:06,561]\u001b[0m Trial 17 finished with value: 19.075013796601926 and parameters: {'x': 6.36749513984869}. Best is trial 8 with value: 0.10890548962877647.\u001b[0m\n",
      "\u001b[32m[I 2020-11-26 18:12:06,566]\u001b[0m Trial 18 finished with value: 95.10548573545985 and parameters: {'x': -7.752204147548381}. Best is trial 8 with value: 0.10890548962877647.\u001b[0m\n",
      "\u001b[32m[I 2020-11-26 18:12:06,571]\u001b[0m Trial 19 finished with value: 17.96327055553108 and parameters: {'x': -2.2383098701641764}. Best is trial 8 with value: 0.10890548962877647.\u001b[0m\n",
      "\u001b[32m[I 2020-11-26 18:12:06,578]\u001b[0m Trial 20 finished with value: 0.3340359526896854 and parameters: {'x': 1.422041564911727}. Best is trial 8 with value: 0.10890548962877647.\u001b[0m\n",
      "\u001b[32m[I 2020-11-26 18:12:06,584]\u001b[0m Trial 21 finished with value: 0.057819382466081516 and parameters: {'x': 1.7595433875600808}. Best is trial 21 with value: 0.057819382466081516.\u001b[0m\n",
      "\u001b[32m[I 2020-11-26 18:12:06,590]\u001b[0m Trial 22 finished with value: 0.1583986190183517 and parameters: {'x': 1.6020067600846069}. Best is trial 21 with value: 0.057819382466081516.\u001b[0m\n",
      "\u001b[32m[I 2020-11-26 18:12:06,596]\u001b[0m Trial 23 finished with value: 12.817313265300184 and parameters: {'x': 5.5801275487474165}. Best is trial 21 with value: 0.057819382466081516.\u001b[0m\n",
      "\u001b[32m[I 2020-11-26 18:12:06,602]\u001b[0m Trial 24 finished with value: 62.99197830047218 and parameters: {'x': -5.936748597534899}. Best is trial 21 with value: 0.057819382466081516.\u001b[0m\n",
      "\u001b[32m[I 2020-11-26 18:12:06,607]\u001b[0m Trial 25 finished with value: 1.9138716571666494 and parameters: {'x': 0.6165724965988824}. Best is trial 21 with value: 0.057819382466081516.\u001b[0m\n",
      "\u001b[32m[I 2020-11-26 18:12:06,614]\u001b[0m Trial 26 finished with value: 13.078319357050702 and parameters: {'x': -1.6163959071222698}. Best is trial 21 with value: 0.057819382466081516.\u001b[0m\n",
      "\u001b[32m[I 2020-11-26 18:12:06,620]\u001b[0m Trial 27 finished with value: 0.17159659285737872 and parameters: {'x': 2.4142421910638494}. Best is trial 21 with value: 0.057819382466081516.\u001b[0m\n",
      "\u001b[32m[I 2020-11-26 18:12:06,626]\u001b[0m Trial 28 finished with value: 9.853479517480716 and parameters: {'x': 5.139025249576804}. Best is trial 21 with value: 0.057819382466081516.\u001b[0m\n",
      "\u001b[32m[I 2020-11-26 18:12:06,632]\u001b[0m Trial 29 finished with value: 20.84088625248931 and parameters: {'x': -2.5651819517396355}. Best is trial 21 with value: 0.057819382466081516.\u001b[0m\n",
      "\u001b[32m[I 2020-11-26 18:12:06,641]\u001b[0m Trial 30 finished with value: 8.252297263727408 and parameters: {'x': 4.87268119771885}. Best is trial 21 with value: 0.057819382466081516.\u001b[0m\n",
      "\u001b[32m[I 2020-11-26 18:12:06,648]\u001b[0m Trial 31 finished with value: 0.6612985801063387 and parameters: {'x': 2.8132026685312455}. Best is trial 21 with value: 0.057819382466081516.\u001b[0m\n",
      "\u001b[32m[I 2020-11-26 18:12:06,654]\u001b[0m Trial 32 finished with value: 0.002548431500724993 and parameters: {'x': 1.9495180081541448}. Best is trial 32 with value: 0.002548431500724993.\u001b[0m\n",
      "\u001b[32m[I 2020-11-26 18:12:06,661]\u001b[0m Trial 33 finished with value: 3.825133837866653 and parameters: {'x': 0.044205062419208296}. Best is trial 32 with value: 0.002548431500724993.\u001b[0m\n",
      "\u001b[32m[I 2020-11-26 18:12:06,667]\u001b[0m Trial 34 finished with value: 38.961667448236156 and parameters: {'x': 8.24192818352119}. Best is trial 32 with value: 0.002548431500724993.\u001b[0m\n",
      "\u001b[32m[I 2020-11-26 18:12:06,674]\u001b[0m Trial 35 finished with value: 1.9497807879657483 and parameters: {'x': 0.6036544883282834}. Best is trial 32 with value: 0.002548431500724993.\u001b[0m\n",
      "\u001b[32m[I 2020-11-26 18:12:06,679]\u001b[0m Trial 36 finished with value: 8.350169030119186 and parameters: {'x': -0.8896659028543745}. Best is trial 32 with value: 0.002548431500724993.\u001b[0m\n",
      "\u001b[32m[I 2020-11-26 18:12:06,684]\u001b[0m Trial 37 finished with value: 0.049688199446405915 and parameters: {'x': 2.222908500166337}. Best is trial 32 with value: 0.002548431500724993.\u001b[0m\n",
      "\u001b[32m[I 2020-11-26 18:12:06,689]\u001b[0m Trial 38 finished with value: 4.417766533075042 and parameters: {'x': 4.101848361103874}. Best is trial 32 with value: 0.002548431500724993.\u001b[0m\n",
      "\u001b[32m[I 2020-11-26 18:12:06,696]\u001b[0m Trial 39 finished with value: 0.11732944201261378 and parameters: {'x': 2.3425338552794654}. Best is trial 32 with value: 0.002548431500724993.\u001b[0m\n",
      "\u001b[32m[I 2020-11-26 18:12:06,702]\u001b[0m Trial 40 finished with value: 18.67202548997769 and parameters: {'x': 6.321113917727429}. Best is trial 32 with value: 0.002548431500724993.\u001b[0m\n",
      "\u001b[32m[I 2020-11-26 18:12:06,708]\u001b[0m Trial 41 finished with value: 0.33644913917734465 and parameters: {'x': 2.580042359812923}. Best is trial 32 with value: 0.002548431500724993.\u001b[0m\n",
      "\u001b[32m[I 2020-11-26 18:12:06,715]\u001b[0m Trial 42 finished with value: 2.5752336957940605 and parameters: {'x': 0.3952465311475222}. Best is trial 32 with value: 0.002548431500724993.\u001b[0m\n",
      "\u001b[32m[I 2020-11-26 18:12:06,720]\u001b[0m Trial 43 finished with value: 2.5891427619117366 and parameters: {'x': 3.609081340986756}. Best is trial 32 with value: 0.002548431500724993.\u001b[0m\n",
      "\u001b[32m[I 2020-11-26 18:12:06,727]\u001b[0m Trial 44 finished with value: 0.1142771990033784 and parameters: {'x': 2.3380491073843834}. Best is trial 32 with value: 0.002548431500724993.\u001b[0m\n",
      "\u001b[32m[I 2020-11-26 18:12:06,733]\u001b[0m Trial 45 finished with value: 6.465611292369999 and parameters: {'x': 4.54275663254862}. Best is trial 32 with value: 0.002548431500724993.\u001b[0m\n",
      "\u001b[32m[I 2020-11-26 18:12:06,739]\u001b[0m Trial 46 finished with value: 6.809559282140904 and parameters: {'x': -0.6095132270484669}. Best is trial 32 with value: 0.002548431500724993.\u001b[0m\n",
      "\u001b[32m[I 2020-11-26 18:12:06,745]\u001b[0m Trial 47 finished with value: 1.1968398916972085 and parameters: {'x': 0.9059982213464146}. Best is trial 32 with value: 0.002548431500724993.\u001b[0m\n",
      "\u001b[32m[I 2020-11-26 18:12:06,751]\u001b[0m Trial 48 finished with value: 1.5096890426167844 and parameters: {'x': 3.228694039464986}. Best is trial 32 with value: 0.002548431500724993.\u001b[0m\n",
      "\u001b[32m[I 2020-11-26 18:12:06,757]\u001b[0m Trial 49 finished with value: 0.08387321891875132 and parameters: {'x': 1.7103912658106608}. Best is trial 32 with value: 0.002548431500724993.\u001b[0m\n",
      "\u001b[32m[I 2020-11-26 18:12:06,763]\u001b[0m Trial 50 finished with value: 0.15269873723711366 and parameters: {'x': 1.609233142094786}. Best is trial 32 with value: 0.002548431500724993.\u001b[0m\n",
      "\u001b[32m[I 2020-11-26 18:12:06,769]\u001b[0m Trial 51 finished with value: 0.03274283339517357 and parameters: {'x': 2.18094980904984}. Best is trial 32 with value: 0.002548431500724993.\u001b[0m\n",
      "\u001b[32m[I 2020-11-26 18:12:06,774]\u001b[0m Trial 52 finished with value: 2.020653635872565 and parameters: {'x': 3.4214969700539517}. Best is trial 32 with value: 0.002548431500724993.\u001b[0m\n",
      "\u001b[32m[I 2020-11-26 18:12:06,781]\u001b[0m Trial 53 finished with value: 12.22638583279031 and parameters: {'x': -1.4966249202324104}. Best is trial 32 with value: 0.002548431500724993.\u001b[0m\n",
      "\u001b[32m[I 2020-11-26 18:12:06,787]\u001b[0m Trial 54 finished with value: 4.9574093273695645 and parameters: {'x': -0.22652404598952502}. Best is trial 32 with value: 0.002548431500724993.\u001b[0m\n",
      "\u001b[32m[I 2020-11-26 18:12:06,797]\u001b[0m Trial 55 finished with value: 0.09525405031595312 and parameters: {'x': 1.6913674509777799}. Best is trial 32 with value: 0.002548431500724993.\u001b[0m\n",
      "\u001b[32m[I 2020-11-26 18:12:06,807]\u001b[0m Trial 56 finished with value: 0.8907406326564168 and parameters: {'x': 1.0562094339015584}. Best is trial 32 with value: 0.002548431500724993.\u001b[0m\n",
      "\u001b[32m[I 2020-11-26 18:12:06,817]\u001b[0m Trial 57 finished with value: 0.001499681732652126 and parameters: {'x': 2.0387257244303076}. Best is trial 57 with value: 0.001499681732652126.\u001b[0m\n",
      "\u001b[32m[I 2020-11-26 18:12:06,827]\u001b[0m Trial 58 finished with value: 4.876956804624187 and parameters: {'x': 4.208383301110608}. Best is trial 57 with value: 0.001499681732652126.\u001b[0m\n",
      "\u001b[32m[I 2020-11-26 18:12:06,834]\u001b[0m Trial 59 finished with value: 13.033485231238632 and parameters: {'x': 5.610191855184241}. Best is trial 57 with value: 0.001499681732652126.\u001b[0m\n",
      "\u001b[32m[I 2020-11-26 18:12:06,841]\u001b[0m Trial 60 finished with value: 30.57190055451582 and parameters: {'x': 7.529186247045384}. Best is trial 57 with value: 0.001499681732652126.\u001b[0m\n",
      "\u001b[32m[I 2020-11-26 18:12:06,846]\u001b[0m Trial 61 finished with value: 1.0323534461428037e-05 and parameters: {'x': 1.9967869742513593}. Best is trial 61 with value: 1.0323534461428037e-05.\u001b[0m\n",
      "\u001b[32m[I 2020-11-26 18:12:06,852]\u001b[0m Trial 62 finished with value: 0.004928393799146282 and parameters: {'x': 1.9297974801082876}. Best is trial 61 with value: 1.0323534461428037e-05.\u001b[0m\n",
      "\u001b[32m[I 2020-11-26 18:12:06,858]\u001b[0m Trial 63 finished with value: 0.025544324245733472 and parameters: {'x': 2.159825918566838}. Best is trial 61 with value: 1.0323534461428037e-05.\u001b[0m\n",
      "\u001b[32m[I 2020-11-26 18:12:06,863]\u001b[0m Trial 64 finished with value: 1.0587341065591584 and parameters: {'x': 3.0289480582415997}. Best is trial 61 with value: 1.0323534461428037e-05.\u001b[0m\n",
      "\u001b[32m[I 2020-11-26 18:12:06,868]\u001b[0m Trial 65 finished with value: 0.1424319880075306 and parameters: {'x': 2.377401626927509}. Best is trial 61 with value: 1.0323534461428037e-05.\u001b[0m\n",
      "\u001b[32m[I 2020-11-26 18:12:06,873]\u001b[0m Trial 66 finished with value: 0.9363625854950173 and parameters: {'x': 1.0323417000330037}. Best is trial 61 with value: 1.0323534461428037e-05.\u001b[0m\n",
      "\u001b[32m[I 2020-11-26 18:12:06,881]\u001b[0m Trial 67 finished with value: 3.4420748771655054 and parameters: {'x': 0.14471703582297035}. Best is trial 61 with value: 1.0323534461428037e-05.\u001b[0m\n",
      "\u001b[32m[I 2020-11-26 18:12:06,889]\u001b[0m Trial 68 finished with value: 1.8786793838497855 and parameters: {'x': 3.370649256319714}. Best is trial 61 with value: 1.0323534461428037e-05.\u001b[0m\n",
      "\u001b[32m[I 2020-11-26 18:12:06,895]\u001b[0m Trial 69 finished with value: 0.6670721128372609 and parameters: {'x': 2.8167448272485482}. Best is trial 61 with value: 1.0323534461428037e-05.\u001b[0m\n",
      "\u001b[32m[I 2020-11-26 18:12:06,902]\u001b[0m Trial 70 finished with value: 0.013509407731250792 and parameters: {'x': 2.116229977764993}. Best is trial 61 with value: 1.0323534461428037e-05.\u001b[0m\n",
      "\u001b[32m[I 2020-11-26 18:12:06,908]\u001b[0m Trial 71 finished with value: 0.10195611044123018 and parameters: {'x': 2.3193056692907756}. Best is trial 61 with value: 1.0323534461428037e-05.\u001b[0m\n",
      "\u001b[32m[I 2020-11-26 18:12:06,915]\u001b[0m Trial 72 finished with value: 0.00029332965870088273 and parameters: {'x': 1.982873130504938}. Best is trial 61 with value: 1.0323534461428037e-05.\u001b[0m\n",
      "\u001b[32m[I 2020-11-26 18:12:06,921]\u001b[0m Trial 73 finished with value: 0.8533408328666374 and parameters: {'x': 1.0762355100640437}. Best is trial 61 with value: 1.0323534461428037e-05.\u001b[0m\n",
      "\u001b[32m[I 2020-11-26 18:12:06,929]\u001b[0m Trial 74 finished with value: 2.967805180388438 and parameters: {'x': 3.7227318945176693}. Best is trial 61 with value: 1.0323534461428037e-05.\u001b[0m\n",
      "\u001b[32m[I 2020-11-26 18:12:06,935]\u001b[0m Trial 75 finished with value: 3.0810587439484816 and parameters: {'x': 0.24470551076223068}. Best is trial 61 with value: 1.0323534461428037e-05.\u001b[0m\n",
      "\u001b[32m[I 2020-11-26 18:12:06,940]\u001b[0m Trial 76 finished with value: 0.0020618153654308998 and parameters: {'x': 1.9545927828926843}. Best is trial 61 with value: 1.0323534461428037e-05.\u001b[0m\n",
      "\u001b[32m[I 2020-11-26 18:12:06,949]\u001b[0m Trial 77 finished with value: 5.1331710870520055 and parameters: {'x': -0.26565025700173006}. Best is trial 61 with value: 1.0323534461428037e-05.\u001b[0m\n",
      "\u001b[32m[I 2020-11-26 18:12:06,955]\u001b[0m Trial 78 finished with value: 5.10337050720102 and parameters: {'x': 4.259064077710285}. Best is trial 61 with value: 1.0323534461428037e-05.\u001b[0m\n",
      "\u001b[32m[I 2020-11-26 18:12:06,961]\u001b[0m Trial 79 finished with value: 9.07496881308234 and parameters: {'x': 5.012468889977511}. Best is trial 61 with value: 1.0323534461428037e-05.\u001b[0m\n",
      "\u001b[32m[I 2020-11-26 18:12:06,967]\u001b[0m Trial 80 finished with value: 0.49205333791879263 and parameters: {'x': 1.2985348633618399}. Best is trial 61 with value: 1.0323534461428037e-05.\u001b[0m\n",
      "\u001b[32m[I 2020-11-26 18:12:06,974]\u001b[0m Trial 81 finished with value: 0.004235897599594348 and parameters: {'x': 2.065083773704314}. Best is trial 61 with value: 1.0323534461428037e-05.\u001b[0m\n",
      "\u001b[32m[I 2020-11-26 18:12:06,983]\u001b[0m Trial 82 finished with value: 0.007559025333591741 and parameters: {'x': 1.9130573445678605}. Best is trial 61 with value: 1.0323534461428037e-05.\u001b[0m\n",
      "\u001b[32m[I 2020-11-26 18:12:06,994]\u001b[0m Trial 83 finished with value: 1.8196436212764628 and parameters: {'x': 0.6510583328859387}. Best is trial 61 with value: 1.0323534461428037e-05.\u001b[0m\n",
      "\u001b[32m[I 2020-11-26 18:12:07,004]\u001b[0m Trial 84 finished with value: 0.5985082418988421 and parameters: {'x': 2.7736331442607938}. Best is trial 61 with value: 1.0323534461428037e-05.\u001b[0m\n",
      "\u001b[32m[I 2020-11-26 18:12:07,011]\u001b[0m Trial 85 finished with value: 0.009747155146476809 and parameters: {'x': 1.9012723182360853}. Best is trial 61 with value: 1.0323534461428037e-05.\u001b[0m\n",
      "\u001b[32m[I 2020-11-26 18:12:07,017]\u001b[0m Trial 86 finished with value: 9.277195239052752 and parameters: {'x': -1.045848853612528}. Best is trial 61 with value: 1.0323534461428037e-05.\u001b[0m\n",
      "\u001b[32m[I 2020-11-26 18:12:07,023]\u001b[0m Trial 87 finished with value: 0.9381115448927382 and parameters: {'x': 2.9685615854930125}. Best is trial 61 with value: 1.0323534461428037e-05.\u001b[0m\n",
      "\u001b[32m[I 2020-11-26 18:12:07,029]\u001b[0m Trial 88 finished with value: 1.891762299192967 and parameters: {'x': 0.6245864988328176}. Best is trial 61 with value: 1.0323534461428037e-05.\u001b[0m\n",
      "\u001b[32m[I 2020-11-26 18:12:07,034]\u001b[0m Trial 89 finished with value: 0.011617974446130521 and parameters: {'x': 1.8922132918856387}. Best is trial 61 with value: 1.0323534461428037e-05.\u001b[0m\n",
      "\u001b[32m[I 2020-11-26 18:12:07,039]\u001b[0m Trial 90 finished with value: 0.41103625167293645 and parameters: {'x': 1.3588789102884413}. Best is trial 61 with value: 1.0323534461428037e-05.\u001b[0m\n",
      "\u001b[32m[I 2020-11-26 18:12:07,045]\u001b[0m Trial 91 finished with value: 0.0001420313044178732 and parameters: {'x': 1.9880823112803752}. Best is trial 61 with value: 1.0323534461428037e-05.\u001b[0m\n",
      "\u001b[32m[I 2020-11-26 18:12:07,051]\u001b[0m Trial 92 finished with value: 2.8941785866113046 and parameters: {'x': 3.701228552138514}. Best is trial 61 with value: 1.0323534461428037e-05.\u001b[0m\n",
      "\u001b[32m[I 2020-11-26 18:12:07,057]\u001b[0m Trial 93 finished with value: 0.43744738597556965 and parameters: {'x': 1.338601945893723}. Best is trial 61 with value: 1.0323534461428037e-05.\u001b[0m\n",
      "\u001b[32m[I 2020-11-26 18:12:07,063]\u001b[0m Trial 94 finished with value: 1.4032661629286625 and parameters: {'x': 3.1845953583096054}. Best is trial 61 with value: 1.0323534461428037e-05.\u001b[0m\n",
      "\u001b[32m[I 2020-11-26 18:12:07,069]\u001b[0m Trial 95 finished with value: 0.003888951270568121 and parameters: {'x': 1.9376385433896215}. Best is trial 61 with value: 1.0323534461428037e-05.\u001b[0m\n",
      "\u001b[32m[I 2020-11-26 18:12:07,074]\u001b[0m Trial 96 finished with value: 0.4610826379359574 and parameters: {'x': 2.6790306605271645}. Best is trial 61 with value: 1.0323534461428037e-05.\u001b[0m\n",
      "\u001b[32m[I 2020-11-26 18:12:07,079]\u001b[0m Trial 97 finished with value: 1.257157909888138 and parameters: {'x': 0.8787694662166312}. Best is trial 61 with value: 1.0323534461428037e-05.\u001b[0m\n",
      "\u001b[32m[I 2020-11-26 18:12:07,085]\u001b[0m Trial 98 finished with value: 7.121141286927661 and parameters: {'x': 4.668546661935605}. Best is trial 61 with value: 1.0323534461428037e-05.\u001b[0m\n",
      "\u001b[32m[I 2020-11-26 18:12:07,091]\u001b[0m Trial 99 finished with value: 3.767606983146576 and parameters: {'x': 0.05896754711659291}. Best is trial 61 with value: 1.0323534461428037e-05.\u001b[0m\n"
     ]
    }
   ],
   "source": [
    "study.optimize(objective, n_trials=100)"
   ]
  },
  {
   "cell_type": "code",
   "execution_count": 5,
   "metadata": {},
   "outputs": [
    {
     "data": {
      "text/plain": [
       "{'x': 1.9967869742513593}"
      ]
     },
     "execution_count": 5,
     "metadata": {},
     "output_type": "execute_result"
    }
   ],
   "source": [
    "study.best_params"
   ]
  },
  {
   "cell_type": "code",
   "execution_count": 6,
   "metadata": {},
   "outputs": [
    {
     "data": {
      "text/plain": [
       "1.0323534461428037e-05"
      ]
     },
     "execution_count": 6,
     "metadata": {},
     "output_type": "execute_result"
    }
   ],
   "source": [
    "study.best_value"
   ]
  },
  {
   "cell_type": "code",
   "execution_count": 7,
   "metadata": {},
   "outputs": [
    {
     "name": "stderr",
     "output_type": "stream",
     "text": [
      "\u001b[32m[I 2020-11-26 18:15:08,663]\u001b[0m Trial 100 finished with value: 0.016153822551801082 and parameters: {'x': 1.8729023109895342}. Best is trial 61 with value: 1.0323534461428037e-05.\u001b[0m\n",
      "\u001b[32m[I 2020-11-26 18:15:08,669]\u001b[0m Trial 101 finished with value: 0.17141778863232893 and parameters: {'x': 1.5859736860629159}. Best is trial 61 with value: 1.0323534461428037e-05.\u001b[0m\n",
      "\u001b[32m[I 2020-11-26 18:15:08,679]\u001b[0m Trial 102 finished with value: 6.2833733184751175 and parameters: {'x': -0.5066657771779464}. Best is trial 61 with value: 1.0323534461428037e-05.\u001b[0m\n",
      "\u001b[32m[I 2020-11-26 18:15:08,689]\u001b[0m Trial 103 finished with value: 0.4550961884889843 and parameters: {'x': 2.6746081740454857}. Best is trial 61 with value: 1.0323534461428037e-05.\u001b[0m\n",
      "\u001b[32m[I 2020-11-26 18:15:08,698]\u001b[0m Trial 104 finished with value: 0.04729075452591733 and parameters: {'x': 1.7825356246970154}. Best is trial 61 with value: 1.0323534461428037e-05.\u001b[0m\n",
      "\u001b[32m[I 2020-11-26 18:15:08,707]\u001b[0m Trial 105 finished with value: 2.0585281641788002 and parameters: {'x': 3.4347571795181233}. Best is trial 61 with value: 1.0323534461428037e-05.\u001b[0m\n",
      "\u001b[32m[I 2020-11-26 18:15:08,714]\u001b[0m Trial 106 finished with value: 0.0019436346329395435 and parameters: {'x': 2.0440866718287913}. Best is trial 61 with value: 1.0323534461428037e-05.\u001b[0m\n",
      "\u001b[32m[I 2020-11-26 18:15:08,726]\u001b[0m Trial 107 finished with value: 1.8015259368873766 and parameters: {'x': 0.6577906508717142}. Best is trial 61 with value: 1.0323534461428037e-05.\u001b[0m\n",
      "\u001b[32m[I 2020-11-26 18:15:08,735]\u001b[0m Trial 108 finished with value: 0.6406237486156884 and parameters: {'x': 1.1996102520548577}. Best is trial 61 with value: 1.0323534461428037e-05.\u001b[0m\n",
      "\u001b[32m[I 2020-11-26 18:15:08,744]\u001b[0m Trial 109 finished with value: 3.7147065590836914 and parameters: {'x': 3.927357403047938}. Best is trial 61 with value: 1.0323534461428037e-05.\u001b[0m\n",
      "\u001b[32m[I 2020-11-26 18:15:08,753]\u001b[0m Trial 110 finished with value: 0.2752740952197137 and parameters: {'x': 2.524665698535471}. Best is trial 61 with value: 1.0323534461428037e-05.\u001b[0m\n",
      "\u001b[32m[I 2020-11-26 18:15:08,762]\u001b[0m Trial 111 finished with value: 136.84255356114016 and parameters: {'x': -9.697972198682136}. Best is trial 61 with value: 1.0323534461428037e-05.\u001b[0m\n",
      "\u001b[32m[I 2020-11-26 18:15:08,768]\u001b[0m Trial 112 finished with value: 3.319045626761805e-05 and parameters: {'x': 1.9942388841126377}. Best is trial 61 with value: 1.0323534461428037e-05.\u001b[0m\n",
      "\u001b[32m[I 2020-11-26 18:15:08,774]\u001b[0m Trial 113 finished with value: 4.977516458683904e-05 and parameters: {'x': 1.9929448483654255}. Best is trial 61 with value: 1.0323534461428037e-05.\u001b[0m\n",
      "\u001b[32m[I 2020-11-26 18:15:08,781]\u001b[0m Trial 114 finished with value: 1.3030723189604063 and parameters: {'x': 3.1415219310028197}. Best is trial 61 with value: 1.0323534461428037e-05.\u001b[0m\n",
      "\u001b[32m[I 2020-11-26 18:15:08,788]\u001b[0m Trial 115 finished with value: 0.027545162882686255 and parameters: {'x': 2.165967354870427}. Best is trial 61 with value: 1.0323534461428037e-05.\u001b[0m\n",
      "\u001b[32m[I 2020-11-26 18:15:08,799]\u001b[0m Trial 116 finished with value: 0.3981628577246779 and parameters: {'x': 1.3689985279536363}. Best is trial 61 with value: 1.0323534461428037e-05.\u001b[0m\n",
      "\u001b[32m[I 2020-11-26 18:15:08,806]\u001b[0m Trial 117 finished with value: 2.2952071260586835 and parameters: {'x': 0.48500589900201807}. Best is trial 61 with value: 1.0323534461428037e-05.\u001b[0m\n",
      "\u001b[32m[I 2020-11-26 18:15:08,815]\u001b[0m Trial 118 finished with value: 0.7389174692409882 and parameters: {'x': 2.8596030881988432}. Best is trial 61 with value: 1.0323534461428037e-05.\u001b[0m\n",
      "\u001b[32m[I 2020-11-26 18:15:08,824]\u001b[0m Trial 119 finished with value: 1.1242616718125649 and parameters: {'x': 0.9396879365900976}. Best is trial 61 with value: 1.0323534461428037e-05.\u001b[0m\n",
      "\u001b[32m[I 2020-11-26 18:15:08,834]\u001b[0m Trial 120 finished with value: 0.12635274552350614 and parameters: {'x': 2.3554613136805553}. Best is trial 61 with value: 1.0323534461428037e-05.\u001b[0m\n",
      "\u001b[32m[I 2020-11-26 18:15:08,842]\u001b[0m Trial 121 finished with value: 0.0004188503147103612 and parameters: {'x': 2.0204658328613903}. Best is trial 61 with value: 1.0323534461428037e-05.\u001b[0m\n",
      "\u001b[32m[I 2020-11-26 18:15:08,847]\u001b[0m Trial 122 finished with value: 0.2899913135251119 and parameters: {'x': 1.461491584536405}. Best is trial 61 with value: 1.0323534461428037e-05.\u001b[0m\n",
      "\u001b[32m[I 2020-11-26 18:15:08,853]\u001b[0m Trial 123 finished with value: 0.011454951027978702 and parameters: {'x': 2.107027804929274}. Best is trial 61 with value: 1.0323534461428037e-05.\u001b[0m\n",
      "\u001b[32m[I 2020-11-26 18:15:08,860]\u001b[0m Trial 124 finished with value: 0.2529878694296766 and parameters: {'x': 2.502978995018357}. Best is trial 61 with value: 1.0323534461428037e-05.\u001b[0m\n",
      "\u001b[32m[I 2020-11-26 18:15:08,867]\u001b[0m Trial 125 finished with value: 1.9896165846496814 and parameters: {'x': 3.410537693452281}. Best is trial 61 with value: 1.0323534461428037e-05.\u001b[0m\n",
      "\u001b[32m[I 2020-11-26 18:15:08,873]\u001b[0m Trial 126 finished with value: 1.0775768005049833 and parameters: {'x': 0.9619360325562865}. Best is trial 61 with value: 1.0323534461428037e-05.\u001b[0m\n",
      "\u001b[32m[I 2020-11-26 18:15:08,880]\u001b[0m Trial 127 finished with value: 1.0001764041779309 and parameters: {'x': 3.0000881981995042}. Best is trial 61 with value: 1.0323534461428037e-05.\u001b[0m\n",
      "\u001b[32m[I 2020-11-26 18:15:08,886]\u001b[0m Trial 128 finished with value: 0.04470556215933877 and parameters: {'x': 1.7885631012350522}. Best is trial 61 with value: 1.0323534461428037e-05.\u001b[0m\n",
      "\u001b[32m[I 2020-11-26 18:15:08,893]\u001b[0m Trial 129 finished with value: 0.24899519195235092 and parameters: {'x': 1.5010058197209601}. Best is trial 61 with value: 1.0323534461428037e-05.\u001b[0m\n",
      "\u001b[32m[I 2020-11-26 18:15:08,900]\u001b[0m Trial 130 finished with value: 2.693237318523401 and parameters: {'x': 0.3588914360946742}. Best is trial 61 with value: 1.0323534461428037e-05.\u001b[0m\n",
      "\u001b[32m[I 2020-11-26 18:15:08,909]\u001b[0m Trial 131 finished with value: 0.0005651624266031255 and parameters: {'x': 2.0237731450717638}. Best is trial 61 with value: 1.0323534461428037e-05.\u001b[0m\n",
      "\u001b[32m[I 2020-11-26 18:15:08,918]\u001b[0m Trial 132 finished with value: 0.004198967553288934 and parameters: {'x': 2.0647994409951886}. Best is trial 61 with value: 1.0323534461428037e-05.\u001b[0m\n",
      "\u001b[32m[I 2020-11-26 18:15:08,925]\u001b[0m Trial 133 finished with value: 0.22531059962034283 and parameters: {'x': 2.474668936860569}. Best is trial 61 with value: 1.0323534461428037e-05.\u001b[0m\n",
      "\u001b[32m[I 2020-11-26 18:15:08,932]\u001b[0m Trial 134 finished with value: 0.016588393192981294 and parameters: {'x': 2.1287959362440496}. Best is trial 61 with value: 1.0323534461428037e-05.\u001b[0m\n",
      "\u001b[32m[I 2020-11-26 18:15:08,938]\u001b[0m Trial 135 finished with value: 0.6054511389974189 and parameters: {'x': 2.778107408393866}. Best is trial 61 with value: 1.0323534461428037e-05.\u001b[0m\n",
      "\u001b[32m[I 2020-11-26 18:15:08,945]\u001b[0m Trial 136 finished with value: 0.6801184251890893 and parameters: {'x': 1.1753070721843861}. Best is trial 61 with value: 1.0323534461428037e-05.\u001b[0m\n",
      "\u001b[32m[I 2020-11-26 18:15:08,951]\u001b[0m Trial 137 finished with value: 3.8979264316796485 and parameters: {'x': 3.9743166999444766}. Best is trial 61 with value: 1.0323534461428037e-05.\u001b[0m\n",
      "\u001b[32m[I 2020-11-26 18:15:08,958]\u001b[0m Trial 138 finished with value: 0.08627536947551567 and parameters: {'x': 1.7062733082004367}. Best is trial 61 with value: 1.0323534461428037e-05.\u001b[0m\n",
      "\u001b[32m[I 2020-11-26 18:15:08,965]\u001b[0m Trial 139 finished with value: 1.2967012975632324 and parameters: {'x': 3.1387279295614174}. Best is trial 61 with value: 1.0323534461428037e-05.\u001b[0m\n",
      "\u001b[32m[I 2020-11-26 18:15:08,973]\u001b[0m Trial 140 finished with value: 1.4781361955029613 and parameters: {'x': 0.7842137541891003}. Best is trial 61 with value: 1.0323534461428037e-05.\u001b[0m\n",
      "\u001b[32m[I 2020-11-26 18:15:08,979]\u001b[0m Trial 141 finished with value: 0.002231781557870626 and parameters: {'x': 2.047241735339323}. Best is trial 61 with value: 1.0323534461428037e-05.\u001b[0m\n",
      "\u001b[32m[I 2020-11-26 18:15:08,986]\u001b[0m Trial 142 finished with value: 0.027157932689543342 and parameters: {'x': 2.1647966404073316}. Best is trial 61 with value: 1.0323534461428037e-05.\u001b[0m\n",
      "\u001b[32m[I 2020-11-26 18:15:08,993]\u001b[0m Trial 143 finished with value: 0.3582613091131807 and parameters: {'x': 2.5985493372422868}. Best is trial 61 with value: 1.0323534461428037e-05.\u001b[0m\n",
      "\u001b[32m[I 2020-11-26 18:15:08,999]\u001b[0m Trial 144 finished with value: 0.21949562054200658 and parameters: {'x': 1.5314964028505154}. Best is trial 61 with value: 1.0323534461428037e-05.\u001b[0m\n",
      "\u001b[32m[I 2020-11-26 18:15:09,008]\u001b[0m Trial 145 finished with value: 0.00044837374694843535 and parameters: {'x': 1.978825162410341}. Best is trial 61 with value: 1.0323534461428037e-05.\u001b[0m\n",
      "\u001b[32m[I 2020-11-26 18:15:09,015]\u001b[0m Trial 146 finished with value: 0.6752203495509528 and parameters: {'x': 1.1782820742183162}. Best is trial 61 with value: 1.0323534461428037e-05.\u001b[0m\n",
      "\u001b[32m[I 2020-11-26 18:15:09,022]\u001b[0m Trial 147 finished with value: 2.151264915444243 and parameters: {'x': 3.4667190990248415}. Best is trial 61 with value: 1.0323534461428037e-05.\u001b[0m\n",
      "\u001b[32m[I 2020-11-26 18:15:09,029]\u001b[0m Trial 148 finished with value: 0.2022662080312857 and parameters: {'x': 2.4497401561249403}. Best is trial 61 with value: 1.0323534461428037e-05.\u001b[0m\n",
      "\u001b[32m[I 2020-11-26 18:15:09,040]\u001b[0m Trial 149 finished with value: 0.006403974586826185 and parameters: {'x': 1.9199751626879118}. Best is trial 61 with value: 1.0323534461428037e-05.\u001b[0m\n",
      "\u001b[32m[I 2020-11-26 18:15:09,050]\u001b[0m Trial 150 finished with value: 0.9159052045128443 and parameters: {'x': 2.9570293644987307}. Best is trial 61 with value: 1.0323534461428037e-05.\u001b[0m\n",
      "\u001b[32m[I 2020-11-26 18:15:09,057]\u001b[0m Trial 151 finished with value: 0.08660676057299642 and parameters: {'x': 1.7057097341518133}. Best is trial 61 with value: 1.0323534461428037e-05.\u001b[0m\n",
      "\u001b[32m[I 2020-11-26 18:15:09,064]\u001b[0m Trial 152 finished with value: 0.003868909697428228 and parameters: {'x': 2.0622005602661924}. Best is trial 61 with value: 1.0323534461428037e-05.\u001b[0m\n",
      "\u001b[32m[I 2020-11-26 18:15:09,071]\u001b[0m Trial 153 finished with value: 0.1514496808403412 and parameters: {'x': 2.3891653643894086}. Best is trial 61 with value: 1.0323534461428037e-05.\u001b[0m\n",
      "\u001b[32m[I 2020-11-26 18:15:09,078]\u001b[0m Trial 154 finished with value: 0.5745659822290923 and parameters: {'x': 1.2419986924621487}. Best is trial 61 with value: 1.0323534461428037e-05.\u001b[0m\n",
      "\u001b[32m[I 2020-11-26 18:15:09,084]\u001b[0m Trial 155 finished with value: 0.0004061065041996942 and parameters: {'x': 2.0201520843636507}. Best is trial 61 with value: 1.0323534461428037e-05.\u001b[0m\n",
      "\u001b[32m[I 2020-11-26 18:15:09,091]\u001b[0m Trial 156 finished with value: 3.9717879114189 and parameters: {'x': 0.00706550247658666}. Best is trial 61 with value: 1.0323534461428037e-05.\u001b[0m\n",
      "\u001b[32m[I 2020-11-26 18:15:09,098]\u001b[0m Trial 157 finished with value: 0.5444073978507252 and parameters: {'x': 2.737839683027909}. Best is trial 61 with value: 1.0323534461428037e-05.\u001b[0m\n",
      "\u001b[32m[I 2020-11-26 18:15:09,104]\u001b[0m Trial 158 finished with value: 0.20946164716811613 and parameters: {'x': 1.5423301985403493}. Best is trial 61 with value: 1.0323534461428037e-05.\u001b[0m\n",
      "\u001b[32m[I 2020-11-26 18:15:09,110]\u001b[0m Trial 159 finished with value: 1.4646508119681305 and parameters: {'x': 0.7897724131519186}. Best is trial 61 with value: 1.0323534461428037e-05.\u001b[0m\n",
      "\u001b[32m[I 2020-11-26 18:15:09,116]\u001b[0m Trial 160 finished with value: 1.5235031790050986 and parameters: {'x': 3.2343027096320816}. Best is trial 61 with value: 1.0323534461428037e-05.\u001b[0m\n",
      "\u001b[32m[I 2020-11-26 18:15:09,122]\u001b[0m Trial 161 finished with value: 0.02987785960386681 and parameters: {'x': 2.17285213219358}. Best is trial 61 with value: 1.0323534461428037e-05.\u001b[0m\n",
      "\u001b[32m[I 2020-11-26 18:15:09,127]\u001b[0m Trial 162 finished with value: 0.00588360082899518 and parameters: {'x': 1.923295366313402}. Best is trial 61 with value: 1.0323534461428037e-05.\u001b[0m\n",
      "\u001b[32m[I 2020-11-26 18:15:09,135]\u001b[0m Trial 163 finished with value: 9.213733249489632e-05 and parameters: {'x': 2.0095988193281724}. Best is trial 61 with value: 1.0323534461428037e-05.\u001b[0m\n",
      "\u001b[32m[I 2020-11-26 18:15:09,142]\u001b[0m Trial 164 finished with value: 0.5307352395884135 and parameters: {'x': 1.2714842214554214}. Best is trial 61 with value: 1.0323534461428037e-05.\u001b[0m\n",
      "\u001b[32m[I 2020-11-26 18:15:09,148]\u001b[0m Trial 165 finished with value: 0.3112965138344229 and parameters: {'x': 2.5579395252484116}. Best is trial 61 with value: 1.0323534461428037e-05.\u001b[0m\n",
      "\u001b[32m[I 2020-11-26 18:15:09,154]\u001b[0m Trial 166 finished with value: 0.07350068560092161 and parameters: {'x': 1.728889901329881}. Best is trial 61 with value: 1.0323534461428037e-05.\u001b[0m\n",
      "\u001b[32m[I 2020-11-26 18:15:09,159]\u001b[0m Trial 167 finished with value: 0.7403001181909536 and parameters: {'x': 2.8604069491763497}. Best is trial 61 with value: 1.0323534461428037e-05.\u001b[0m\n",
      "\u001b[32m[I 2020-11-26 18:15:09,165]\u001b[0m Trial 168 finished with value: 0.09456646218752343 and parameters: {'x': 2.3075166047346443}. Best is trial 61 with value: 1.0323534461428037e-05.\u001b[0m\n",
      "\u001b[32m[I 2020-11-26 18:15:09,172]\u001b[0m Trial 169 finished with value: 0.2578116401637784 and parameters: {'x': 1.4922484464191386}. Best is trial 61 with value: 1.0323534461428037e-05.\u001b[0m\n",
      "\u001b[32m[I 2020-11-26 18:15:09,178]\u001b[0m Trial 170 finished with value: 1.4659693233049151 and parameters: {'x': 0.7892277987561347}. Best is trial 61 with value: 1.0323534461428037e-05.\u001b[0m\n",
      "\u001b[32m[I 2020-11-26 18:15:09,184]\u001b[0m Trial 171 finished with value: 0.009456773378972258 and parameters: {'x': 2.097245942737845}. Best is trial 61 with value: 1.0323534461428037e-05.\u001b[0m\n",
      "\u001b[32m[I 2020-11-26 18:15:09,191]\u001b[0m Trial 172 finished with value: 0.006317441265402068 and parameters: {'x': 1.9205176669604995}. Best is trial 61 with value: 1.0323534461428037e-05.\u001b[0m\n",
      "\u001b[32m[I 2020-11-26 18:15:09,198]\u001b[0m Trial 173 finished with value: 0.1395511631051218 and parameters: {'x': 2.373565473652373}. Best is trial 61 with value: 1.0323534461428037e-05.\u001b[0m\n",
      "\u001b[32m[I 2020-11-26 18:15:09,205]\u001b[0m Trial 174 finished with value: 0.6968837463739773 and parameters: {'x': 1.1652043684985065}. Best is trial 61 with value: 1.0323534461428037e-05.\u001b[0m\n",
      "\u001b[32m[I 2020-11-26 18:15:09,212]\u001b[0m Trial 175 finished with value: 0.054296732478794185 and parameters: {'x': 1.7669834072886779}. Best is trial 61 with value: 1.0323534461428037e-05.\u001b[0m\n",
      "\u001b[32m[I 2020-11-26 18:15:09,219]\u001b[0m Trial 176 finished with value: 0.9006147105985431 and parameters: {'x': 2.949007223680907}. Best is trial 61 with value: 1.0323534461428037e-05.\u001b[0m\n",
      "\u001b[32m[I 2020-11-26 18:15:09,226]\u001b[0m Trial 177 finished with value: 2.526687182428898 and parameters: {'x': 3.58955565565629}. Best is trial 61 with value: 1.0323534461428037e-05.\u001b[0m\n",
      "\u001b[32m[I 2020-11-26 18:15:09,235]\u001b[0m Trial 178 finished with value: 0.020270066849496143 and parameters: {'x': 2.1423729849708018}. Best is trial 61 with value: 1.0323534461428037e-05.\u001b[0m\n",
      "\u001b[32m[I 2020-11-26 18:15:09,241]\u001b[0m Trial 179 finished with value: 0.3462839656197859 and parameters: {'x': 2.588458975307358}. Best is trial 61 with value: 1.0323534461428037e-05.\u001b[0m\n",
      "\u001b[32m[I 2020-11-26 18:15:09,250]\u001b[0m Trial 180 finished with value: 0.3074385973864281 and parameters: {'x': 1.4455285423158122}. Best is trial 61 with value: 1.0323534461428037e-05.\u001b[0m\n",
      "\u001b[32m[I 2020-11-26 18:15:09,257]\u001b[0m Trial 181 finished with value: 0.0010506822071516778 and parameters: {'x': 2.0324142284676294}. Best is trial 61 with value: 1.0323534461428037e-05.\u001b[0m\n",
      "\u001b[32m[I 2020-11-26 18:15:09,264]\u001b[0m Trial 182 finished with value: 0.001128872762802135 and parameters: {'x': 1.9664012981976664}. Best is trial 61 with value: 1.0323534461428037e-05.\u001b[0m\n",
      "\u001b[32m[I 2020-11-26 18:15:09,270]\u001b[0m Trial 183 finished with value: 0.10799966801587078 and parameters: {'x': 1.671366970595056}. Best is trial 61 with value: 1.0323534461428037e-05.\u001b[0m\n",
      "\u001b[32m[I 2020-11-26 18:15:09,276]\u001b[0m Trial 184 finished with value: 0.905178057687855 and parameters: {'x': 1.0485915400376897}. Best is trial 61 with value: 1.0323534461428037e-05.\u001b[0m\n",
      "\u001b[32m[I 2020-11-26 18:15:09,281]\u001b[0m Trial 185 finished with value: 0.32781004575983763 and parameters: {'x': 2.5725469812686446}. Best is trial 61 with value: 1.0323534461428037e-05.\u001b[0m\n",
      "\u001b[32m[I 2020-11-26 18:15:09,288]\u001b[0m Trial 186 finished with value: 0.012887457073156413 and parameters: {'x': 1.886477063669246}. Best is trial 61 with value: 1.0323534461428037e-05.\u001b[0m\n",
      "\u001b[32m[I 2020-11-26 18:15:09,295]\u001b[0m Trial 187 finished with value: 2.680469321081006 and parameters: {'x': 0.36278611016122686}. Best is trial 61 with value: 1.0323534461428037e-05.\u001b[0m\n",
      "\u001b[32m[I 2020-11-26 18:15:09,303]\u001b[0m Trial 188 finished with value: 0.08056792224711505 and parameters: {'x': 2.283844891176704}. Best is trial 61 with value: 1.0323534461428037e-05.\u001b[0m\n",
      "\u001b[32m[I 2020-11-26 18:15:09,310]\u001b[0m Trial 189 finished with value: 1.1010723356937528 and parameters: {'x': 3.04931993962459}. Best is trial 61 with value: 1.0323534461428037e-05.\u001b[0m\n",
      "\u001b[32m[I 2020-11-26 18:15:09,316]\u001b[0m Trial 190 finished with value: 0.3443357836647993 and parameters: {'x': 1.413198684677003}. Best is trial 61 with value: 1.0323534461428037e-05.\u001b[0m\n",
      "\u001b[32m[I 2020-11-26 18:15:09,323]\u001b[0m Trial 191 finished with value: 0.0032249050520782737 and parameters: {'x': 2.0567882474820123}. Best is trial 61 with value: 1.0323534461428037e-05.\u001b[0m\n",
      "\u001b[32m[I 2020-11-26 18:15:09,331]\u001b[0m Trial 192 finished with value: 0.00030666065830425583 and parameters: {'x': 2.017511729163742}. Best is trial 61 with value: 1.0323534461428037e-05.\u001b[0m\n",
      "\u001b[32m[I 2020-11-26 18:15:09,337]\u001b[0m Trial 193 finished with value: 0.27123123766987717 and parameters: {'x': 2.520798653675177}. Best is trial 61 with value: 1.0323534461428037e-05.\u001b[0m\n",
      "\u001b[32m[I 2020-11-26 18:15:09,347]\u001b[0m Trial 194 finished with value: 0.11609557639580532 and parameters: {'x': 1.659271990591021}. Best is trial 61 with value: 1.0323534461428037e-05.\u001b[0m\n",
      "\u001b[32m[I 2020-11-26 18:15:09,354]\u001b[0m Trial 195 finished with value: 0.014498641559207609 and parameters: {'x': 2.1204103050374328}. Best is trial 61 with value: 1.0323534461428037e-05.\u001b[0m\n",
      "\u001b[32m[I 2020-11-26 18:15:09,361]\u001b[0m Trial 196 finished with value: 0.49906655991777255 and parameters: {'x': 2.706446431031945}. Best is trial 61 with value: 1.0323534461428037e-05.\u001b[0m\n",
      "\u001b[32m[I 2020-11-26 18:15:09,369]\u001b[0m Trial 197 finished with value: 0.6918851366605776 and parameters: {'x': 1.168203668762252}. Best is trial 61 with value: 1.0323534461428037e-05.\u001b[0m\n",
      "\u001b[32m[I 2020-11-26 18:15:09,375]\u001b[0m Trial 198 finished with value: 0.022120521536424523 and parameters: {'x': 2.1487296928539306}. Best is trial 61 with value: 1.0323534461428037e-05.\u001b[0m\n",
      "\u001b[32m[I 2020-11-26 18:15:09,381]\u001b[0m Trial 199 finished with value: 0.16076638460080478 and parameters: {'x': 1.5990431636687001}. Best is trial 61 with value: 1.0323534461428037e-05.\u001b[0m\n"
     ]
    }
   ],
   "source": [
    "study.optimize(objective, n_trials=100)"
   ]
  },
  {
   "cell_type": "code",
   "execution_count": 8,
   "metadata": {},
   "outputs": [
    {
     "data": {
      "text/plain": [
       "200"
      ]
     },
     "execution_count": 8,
     "metadata": {},
     "output_type": "execute_result"
    }
   ],
   "source": [
    "len(study.trials)"
   ]
  },
  {
   "cell_type": "code",
   "execution_count": null,
   "metadata": {},
   "outputs": [],
   "source": []
  }
 ],
 "metadata": {
  "kernelspec": {
   "display_name": "Python 3",
   "language": "python",
   "name": "python3"
  },
  "language_info": {
   "codemirror_mode": {
    "name": "ipython",
    "version": 3
   },
   "file_extension": ".py",
   "mimetype": "text/x-python",
   "name": "python",
   "nbconvert_exporter": "python",
   "pygments_lexer": "ipython3",
   "version": "3.8.5"
  }
 },
 "nbformat": 4,
 "nbformat_minor": 4
}
